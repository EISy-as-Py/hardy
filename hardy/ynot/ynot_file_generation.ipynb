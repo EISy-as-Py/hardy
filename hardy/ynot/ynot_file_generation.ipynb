{
 "cells": [
  {
   "cell_type": "markdown",
   "metadata": {},
   "source": [
    "## Project HARDy: \n",
    "File generation from yNot module\n",
    "    * DH 2020-04-20\n",
    "    \n",
    "Generating large quantities of math-based files to compare with the rest of our project. At the simplest level, our data classifier should certianly be able to distinguish between Linear and exponential or sinusoidal data. \n",
    "\n",
    "ynot.py has a variety of functions to generate data, and so we'll loop through those to make large datasets. I figure that it may make more sense to work in a jupyter notebook to make the files, so that's what this will be for..."
   ]
  },
  {
   "cell_type": "code",
   "execution_count": 2,
   "metadata": {},
   "outputs": [],
   "source": [
    "import os\n",
    "import os.path\n",
    "import time\n",
    "import datetime\n",
    "\n",
    "import numpy as np\n",
    "import pandas as pd\n",
    "\n",
    "import ynot"
   ]
  },
  {
   "cell_type": "code",
   "execution_count": 3,
   "metadata": {},
   "outputs": [],
   "source": [
    "\"\"\"\n",
    "Figure out file navigation, to a local_data folder where we will dump files.\n",
    "\"\"\"\n",
    "local_folder = \"../local_data/\"\n",
    "check_path = os.path.isdir(local_folder)\n",
    "\n",
    "if not check_path:\n",
    "    os.mkdir(local_folder)"
   ]
  },
  {
   "cell_type": "code",
   "execution_count": 6,
   "metadata": {},
   "outputs": [
    {
     "name": "stdout",
     "output_type": "stream",
     "text": [
      "2020-04-24 16:07:47.433930\n",
      "Saving files in:   ../local_data/2020-4-24_0001\n"
     ]
    }
   ],
   "source": [
    "\"\"\"\n",
    "Generate folder structure\n",
    "\"\"\"\n",
    "print(datetime.datetime.now())\n",
    "\n",
    "today = datetime.datetime.now()\n",
    "datestr = str(today.year) + '-' + str(today.month) +'-'+ str(today.day)\n",
    "\n",
    "i=0\n",
    "save_folder = datestr + '_' + str(i).zfill(4)\n",
    "while os.path.isdir(os.path.join(local_folder,save_folder)):\n",
    "    i += 1\n",
    "    save_folder = datestr + '_' + str(i).zfill(4)\n",
    "else:\n",
    "    os.mkdir(os.path.join(local_folder,save_folder))\n",
    "    \n",
    "save_as = os.path.join(local_folder,save_folder)\n",
    "print(\"Saving files in:   \" + str(save_as))"
   ]
  },
  {
   "cell_type": "code",
   "execution_count": 10,
   "metadata": {},
   "outputs": [],
   "source": [
    "\"\"\"\n",
    "\n",
    "\"\"\"\n",
    "Category_A = \"linear/\"\n",
    "Category_B = \"sin/\"\n",
    "A_folder = os.path.join(save_as, Category_A)\n",
    "B_folder = os.path.join(save_as, Category_B)\n",
    "\n",
    "length = 256 # Points per file\n",
    "n_files = 500"
   ]
  },
  {
   "cell_type": "code",
   "execution_count": 11,
   "metadata": {},
   "outputs": [
    {
     "name": "stdout",
     "output_type": "stream",
     "text": [
      "finished! made 484 files...\n",
      "All told we used  4.791942 MBytes\n",
      "took 2.854 seconds!\n"
     ]
    }
   ],
   "source": [
    "# \"Linear Data\"\n",
    "i=0\n",
    "size=0\n",
    "timing = time.perf_counter()\n",
    "n_loop = int(np.sqrt(n_files))\n",
    "if not os.path.exists(A_folder):\n",
    "    os.mkdir(A_folder)\n",
    "for m in np.linspace(-1,10,n_loop):\n",
    "    for b in np.linspace(-1,2,n_loop):\n",
    "        data_save = A_folder + datestr +'_linear_'+ str(i).zfill(4)+ '.csv'\n",
    "        data_frame = ynot.generate_linear(length=length, m=m, b=b)\n",
    "        data_frame.to_csv(data_save, index=False)\n",
    "        size += os.path.getsize(data_save)\n",
    "        i+=1\n",
    "        \n",
    "if size > 1000000000:\n",
    "    sizestr = str(size/1000000000) + ' GBytes! WOW!'\n",
    "elif size > 100000:\n",
    "    sizestr = str(size/1000000) + ' MBytes'\n",
    "elif size > 1000:\n",
    "    sizestr = str(size/1000) + ' kBytes'\n",
    "else:\n",
    "    sizestr = str(size) + ' bytes'\n",
    "    \n",
    "print('finished! made '+ str(i) + ' files...' )  \n",
    "print('All told we used  '+ sizestr)\n",
    "timing = time.perf_counter()-timing\n",
    "print('took ' + str(timing)[0:5] + ' seconds!')"
   ]
  },
  {
   "cell_type": "code",
   "execution_count": 14,
   "metadata": {
    "scrolled": false
   },
   "outputs": [
    {
     "name": "stdout",
     "output_type": "stream",
     "text": [
      "finished! made 343 files...\n",
      "All told we used  3.459619 MBytes\n",
      "took 1.723 seconds!\n"
     ]
    }
   ],
   "source": [
    "# \"sin() Data\"\n",
    "i=0\n",
    "size=0\n",
    "timing = time.perf_counter()\n",
    "\n",
    "n_loops = int(n_files**0.333)\n",
    "if not os.path.exists(B_folder):\n",
    "    os.mkdir(B_folder)\n",
    "for A in np.linspace(0.1,5,n_loops):\n",
    "    for f in np.linspace(1,10,n_loops):\n",
    "        for th in np.linspace(0,1,n_loops):\n",
    "            data_save = B_folder + datestr +'_linear_'+ str(i).zfill(4)+ '.csv'\n",
    "            data_frame = ynot.generate_sin(length=length,A=A, f=f, theta=th)\n",
    "            data_frame.to_csv(data_save, index=False)\n",
    "            size += os.path.getsize(data_save)\n",
    "            i+=1\n",
    "            \n",
    "if size > 1000000000:\n",
    "    sizestr = str(size/1000000000) + ' GBytes! WOW!'\n",
    "elif size > 100000:\n",
    "    sizestr = str(size/1000000) + ' MBytes'\n",
    "elif size > 1000:\n",
    "    sizestr = str(size/1000) + ' kBytes'\n",
    "else:\n",
    "    sizestr = str(size) + ' bytes'\n",
    "    \n",
    "print('finished! made '+ str(i) + ' files...' )  \n",
    "print('All told we used  '+ sizestr)\n",
    "timing = time.perf_counter()-timing\n",
    "print('took ' + str(timing)[0:5] + ' seconds!')"
   ]
  },
  {
   "cell_type": "code",
   "execution_count": 18,
   "metadata": {},
   "outputs": [
    {
     "data": {
      "text/plain": [
       "'0010'"
      ]
     },
     "execution_count": 18,
     "metadata": {},
     "output_type": "execute_result"
    }
   ],
   "source": []
  },
  {
   "cell_type": "code",
   "execution_count": null,
   "metadata": {},
   "outputs": [],
   "source": []
  }
 ],
 "metadata": {
  "kernelspec": {
   "display_name": "Python 3",
   "language": "python",
   "name": "python3"
  },
  "language_info": {
   "codemirror_mode": {
    "name": "ipython",
    "version": 3
   },
   "file_extension": ".py",
   "mimetype": "text/x-python",
   "name": "python",
   "nbconvert_exporter": "python",
   "pygments_lexer": "ipython3",
   "version": "3.7.4"
  }
 },
 "nbformat": 4,
 "nbformat_minor": 2
}
