{
 "cells": [
  {
   "cell_type": "code",
   "execution_count": 1,
   "metadata": {},
   "outputs": [
    {
     "name": "stderr",
     "output_type": "stream",
     "text": [
      "Using TensorFlow backend.\n"
     ]
    }
   ],
   "source": [
    "from keras.datasets import mnist\n",
    "import keras\n",
    "from keras.models import Sequential\n",
    "from keras.layers import Dense, Dropout, Conv2D, MaxPool2D, Flatten, MaxPooling2D\n",
    "from keras.utils import np_utils\n",
    "from keras.optimizers import Adam, RMSprop\n",
    "from keras.preprocessing.image import ImageDataGenerator\n",
    "import matplotlib.pyplot as plt"
   ]
  },
  {
   "cell_type": "code",
   "execution_count": 2,
   "metadata": {},
   "outputs": [],
   "source": [
    "import matplotlib.pyplot as plt\n",
    "import numpy as np\n",
    "import os\n",
    "import pandas as pd"
   ]
  },
  {
   "cell_type": "code",
   "execution_count": 3,
   "metadata": {},
   "outputs": [],
   "source": [
    "(xtrain, ytrain), (xtest, ytest) = mnist.load_data()"
   ]
  },
  {
   "cell_type": "code",
   "execution_count": 4,
   "metadata": {},
   "outputs": [
    {
     "data": {
      "text/plain": [
       "(60000, 28, 28)"
      ]
     },
     "execution_count": 4,
     "metadata": {},
     "output_type": "execute_result"
    }
   ],
   "source": [
    "np.shape(xtrain)"
   ]
  },
  {
   "cell_type": "code",
   "execution_count": 5,
   "metadata": {},
   "outputs": [
    {
     "data": {
      "text/plain": [
       "<matplotlib.image.AxesImage at 0x17757c29048>"
      ]
     },
     "execution_count": 5,
     "metadata": {},
     "output_type": "execute_result"
    },
    {
     "data": {
      "image/png": "[encoded data removed]",
      "text/plain": [
       "<Figure size 432x288 with 1 Axes>"
      ]
     },
     "metadata": {
      "needs_background": "light"
     },
     "output_type": "display_data"
    }
   ],
   "source": [
    "plt.imshow(xtrain[0])"
   ]
  },
  {
   "cell_type": "code",
   "execution_count": 7,
   "metadata": {},
   "outputs": [],
   "source": [
    "x = xtrain.reshape(xtrain.shape[0], 28, 28, 1)"
   ]
  },
  {
   "cell_type": "code",
   "execution_count": 8,
   "metadata": {},
   "outputs": [
    {
     "data": {
      "text/plain": [
       "(60000, 28, 28, 1)"
      ]
     },
     "execution_count": 8,
     "metadata": {},
     "output_type": "execute_result"
    }
   ],
   "source": [
    "np.shape(x)"
   ]
  },
  {
   "cell_type": "code",
   "execution_count": 9,
   "metadata": {},
   "outputs": [
    {
     "ename": "SyntaxError",
     "evalue": "EOL while scanning string literal (<ipython-input-9-89b530a3c35c>, line 1)",
     "output_type": "error",
     "traceback": [
      "\u001b[1;36m  File \u001b[1;32m\"<ipython-input-9-89b530a3c35c>\"\u001b[1;36m, line \u001b[1;32m1\u001b[0m\n\u001b[1;33m    plt.imshow(x[0], mode')\u001b[0m\n\u001b[1;37m                           ^\u001b[0m\n\u001b[1;31mSyntaxError\u001b[0m\u001b[1;31m:\u001b[0m EOL while scanning string literal\n"
     ]
    }
   ],
   "source": [
    "plt.imshow(x[0], mode')"
   ]
  },
  {
   "cell_type": "markdown",
   "metadata": {},
   "source": [
    "### Importing data"
   ]
  },
  {
   "cell_type": "code",
   "execution_count": 10,
   "metadata": {},
   "outputs": [],
   "source": [
    "######################################################################\n",
    "# Plotting Functions\n",
    "def rgb_plot(red_array=None, green_array=None, blue_array=None,\n",
    "             plot=True, save_image=None, filename=None,\n",
    "             save_location=None):\n",
    "    '''Returns a plot which represents the input data as a color gradient of\n",
    "    one of the three color channels available: red, blue or green.\n",
    "\n",
    "    This function represents the data as a color gradient in one of the three\n",
    "    basic colors: red, blue or green. The color gradient is represented on the\n",
    "    x-axis, leaving the y-axis as an arbitrary one. This means that the size or\n",
    "    the scale of the y-axis do not have a numerical significance. The input\n",
    "    arrays shoudld be of range zero to one. A minimum of one array should be\n",
    "    provided. The final representation will be a square plot of the combined\n",
    "    arrays.\n",
    "\n",
    "    Parameters\n",
    "    ----------\n",
    "    red_array : array\n",
    "                the data array to be plotted in the red channel.\n",
    "    green_array : array\n",
    "                  the data array to be plotted in the green channel.\n",
    "    blue_array : array\n",
    "                 the data array to be plotted in the blue channel.\n",
    "    plot : bool\n",
    "           if True, the color gradient representation of the data will be\n",
    "           displayed\n",
    "    filename : str\n",
    "               The filename will be the same as the .csv containing the data\n",
    "               used to create this plot.\n",
    "    save_location : str\n",
    "                    String containing the path of the forlder to use when\n",
    "                    saving the data and the image.\n",
    "    save_image : bool\n",
    "                 Option to save the output of the simuation as a plot\n",
    "                 in a .png file format.\n",
    "                 The filename used for the file will be the same\n",
    "                 as the raw data file created in this function.\n",
    "    Returns\n",
    "    -------\n",
    "    rbg_plot :  matplotlib plot\n",
    "                Plot representing the data as a color gradient on the x-axis\n",
    "                in one of the three basic colors: red, blue or green\n",
    "    '''\n",
    "    arrays = {'red_array': red_array, 'blue_array': blue_array,\n",
    "              'green_array': green_array}\n",
    "\n",
    "    given = {k: v is not None for i, (k, v) in enumerate(arrays.items())}\n",
    "    given_arrays = [(k, arrays[k]) for i, (k, v) in enumerate(given.items())\n",
    "                    if v is True]\n",
    "    n = []\n",
    "    for i in range(len(given_arrays)):\n",
    "        n.append(len(given_arrays[i][1]))\n",
    "    assert len(given_arrays) != 0, 'no input array was given.'\n",
    "    assert all(x == n[0] for x in n), 'the given arrays have different length.\\\n",
    "Check that you are using the right inputs'\n",
    "\n",
    "    not_given = [k for (k, v) in given.items() if v is False]\n",
    "    for array in not_given:\n",
    "        arrays[array] = np.zeros(n[0])\n",
    "\n",
    "    # Normalize Data from 0 to 1 (aka RGB readable)\n",
    "    red_array = normalize(arrays['red_array'])\n",
    "    green_array = normalize(arrays['green_array'])\n",
    "    blue_array = normalize(arrays['blue_array'])\n",
    "\n",
    "    arbitrary_axis = np.linspace(0, 1, n[0])\n",
    "\n",
    "    r_big, a = np.meshgrid(red_array, arbitrary_axis)\n",
    "    g_big, a = np.meshgrid(green_array, arbitrary_axis)\n",
    "    b_big, a = np.meshgrid(blue_array, arbitrary_axis)\n",
    "\n",
    "    rgb_plot = np.ndarray(shape=(n[0], n[0], 3))\n",
    "\n",
    "    rgb_plot[:, :, 0] = r_big\n",
    "    rgb_plot[:, :, 1] = g_big\n",
    "    rgb_plot[:, :, 2] = b_big\n",
    "\n",
    "    if plot:\n",
    "        big, bax = plt.subplots(1, 1, figsize=[6, 6])\n",
    "        bax.imshow(rgb_plot)\n",
    "        bax.axis('off')\n",
    "\n",
    "    if save_image:\n",
    "        filename = str(save_location+filename)\n",
    "        plt.savefig('{}.png'.format(filename), dpi=100, bbox_inches='tight')\n",
    "    \n",
    "    return rgb_plot\n",
    "\n",
    "\n",
    "def orthogonal_images_add(image_x, image_y, plot=True, save_image=None,\n",
    "                          filename=None, save_location=None):\n",
    "    \"\"\"\n",
    "    Takes two images and combines them by rotating one of\n",
    "    them 90 degrees and adds the two up. The resulting array\n",
    "    is then normalized by channel.\n",
    "    Takes in two images of shape=(ARBITRARY, Data-axis, 3)\n",
    "\n",
    "    Parameters\n",
    "    ----------\n",
    "    image_x : array-like\n",
    "              A multidimentional array of shape (n,n,3) with\n",
    "              entries in range zero to one\n",
    "    image_y : array-like\n",
    "              A multidimentional array of shape (n,n,3) with\n",
    "              entries in range zero to one\n",
    "    plot : bool\n",
    "           if True, the color gradient representation of the data will be\n",
    "           displayed\n",
    "    filename : str\n",
    "               The filename will be the same as the .csv containing the data\n",
    "               used to create this plot.\n",
    "    save_location : str\n",
    "                    String containing the path of the forlder to use when\n",
    "                    saving the data and the image.\n",
    "    save_image : bool\n",
    "                 Option to save the output of the simuation as a plot\n",
    "                 in a .png file format.\n",
    "                 The filename used for the file will be the same\n",
    "                 as the raw data file created in this function.\n",
    "    Returns\n",
    "    -------\n",
    "    combined_image :  matplotlib plot\n",
    "                      Plot representing the data as a color gradient on the\n",
    "                      x-axis and on the y-axis in one of the three basic\n",
    "                      colors: red, blue or green\n",
    "\n",
    "    \"\"\"\n",
    "    image_flip = np.ndarray(shape=image_y.shape)\n",
    "    for channel in range(3):\n",
    "        image_flip[:, :, channel] = image_y[:, :, channel].transpose()\n",
    "\n",
    "    combined_image = normalize_image(image_x + image_flip)\n",
    "\n",
    "    if plot:\n",
    "        fig, ax = plt.subplots(figsize=[6, 6])\n",
    "        ax.imshow(combined_image)\n",
    "        ax.axis('off')\n",
    "    \n",
    "    if save_image:\n",
    "        filename = str(save_location+filename)\n",
    "        plt.savefig('{}.png'.format(filename), dpi=100, bbox_inches='tight')\n",
    "    \n",
    "    plt.close()\n",
    "    \n",
    "    return combined_image\n",
    "\n",
    "\n",
    "def orthogonal_images_mlt(image_x, image_y, plot=True, save_image=None,\n",
    "                          filename=None, save_location=None):\n",
    "    '''\n",
    "    Takes two images and combines them by rotating one of\n",
    "    them 90 degrees and multiplies them.\n",
    "    Takes in two images of shape=(ARBITRARY, Data-axis, 3)\n",
    "\n",
    "    Parameters\n",
    "    ----------\n",
    "    image_x : array-like\n",
    "              A multidimentional array of shape (n,n,3) with\n",
    "              entries in range zero to one\n",
    "    image_y : array-like\n",
    "              A multidimentional array of shape (n,n,3) with\n",
    "              entries in range zero to one\n",
    "    plot : bool\n",
    "           if True, the color gradient representation of the data will be\n",
    "           displayed\n",
    "    filename : str\n",
    "               The filename will be the same as the .csv containing the data\n",
    "               used to create this plot.\n",
    "    save_location : str\n",
    "                    String containing the path of the forlder to use when\n",
    "                    saving the data and the image.\n",
    "    save_image : bool\n",
    "                 Option to save the output of the simuation as a plot\n",
    "                 in a .png file format.\n",
    "                 The filename used for the file will be the same\n",
    "                 as the raw data file created in this function.\n",
    "    Returns\n",
    "    -------\n",
    "    combined_image :  matplotlib plot\n",
    "                      Plot representing the data as a color gradient on the\n",
    "                      x-axis and on the y-axis in one of the three basic\n",
    "                      colors: red, blue or green\n",
    "    '''\n",
    "    image_flip = np.ndarray(shape=image_y.shape)\n",
    "    for channel in range(3):\n",
    "        image_flip[:, :, channel] = image_y[:, :, channel].transpose()\n",
    "\n",
    "    combined_image = (image_x * image_flip)\n",
    "\n",
    "    if plot:\n",
    "        fig, ax = plt.subplots(figsize=[6, 6])\n",
    "        ax.imshow(combined_image)\n",
    "        ax.axis('off')\n",
    "        \n",
    "    if save_image:\n",
    "        filename = str(save_location+filename)\n",
    "        plt.savefig('{}.png'.format(filename), dpi=100, bbox_inches='tight')\n",
    "        \n",
    "    return combined_image"
   ]
  },
  {
   "cell_type": "code",
   "execution_count": 11,
   "metadata": {},
   "outputs": [],
   "source": [
    "#######################################################################\n",
    "# Normalization Functions\n",
    "def normalize(impedance_array):\n",
    "    '''Function that returns a normalized impedance_array\n",
    "\n",
    "    The function takes the maximum value of an array and divides each entry of\n",
    "    the array by it. Additionally, if the minimum of the array is negative, it\n",
    "    shifts it to zero, so that the resulting normalized array will have a range\n",
    "    zero to one.\n",
    "\n",
    "    Parameters\n",
    "    ----------\n",
    "    impedance_array : array-like\n",
    "                      the array to be normalized.\n",
    "\n",
    "    Returns\n",
    "    -------\n",
    "    normalized_impedance_array :  array-like\n",
    "                                  the normalized array. All entries in this\n",
    "                                  array should be values in the range\n",
    "                                  zero to one.\n",
    "    '''\n",
    "    temp_array = impedance_array.copy()\n",
    "    if np.amin(temp_array, axis=0) < 0:\n",
    "        temp_array += abs(np.amin(temp_array, axis=0))\n",
    "    if np.amax(temp_array, axis=0) > 1:\n",
    "        normalized_impedance_array = temp_array/np.amax(temp_array, axis=0)\n",
    "    else:\n",
    "        normalized_impedance_array = temp_array\n",
    "\n",
    "    return normalized_impedance_array\n",
    "\n",
    "def normalize_image(color_image_array):\n",
    "\n",
    "    ''' Function that normalizes a color image array.\n",
    "    The color image array will ahve dimensions (n,n, 3).\n",
    "    The 'n' value will depends on how big your image is\n",
    "\n",
    "    Parameters\n",
    "    ----------\n",
    "\n",
    "    color_image_array : array-like\n",
    "                        a multidimentional array of shape (n,n,3)\n",
    "\n",
    "    Returns\n",
    "    -------\n",
    "    normalized_image: array-like\n",
    "                      the normalized image array. All entries in this\n",
    "                      array should be values in the range zero to one.\n",
    "                      The image shape should still be (n,n,3)\n",
    "    '''\n",
    "    # Determine the size of the square image\n",
    "    n = np.shape(color_image_array)[0]\n",
    "    # Extracting single channels from 3 channel image\n",
    "    img_r = color_image_array[:, :, 0]\n",
    "    img_g = color_image_array[:, :, 1]\n",
    "    img_b = color_image_array[:, :, 2]\n",
    "\n",
    "    # normalizing data per channel:\n",
    "    img_r = (img_r - np.min(img_r)) / (np.max(img_r) - np.min(img_r))\n",
    "    img_g = (img_g - np.min(img_g)) / (np.max(img_g) - np.min(img_g))\n",
    "    img_b = (img_b - np.min(img_b)) / (np.max(img_b) - np.min(img_b))\n",
    "\n",
    "    # putting the 3 channels back together:\n",
    "    normalized_image = np.empty((n, n, 3), dtype=np.float32)\n",
    "    normalized_image[:, :, 0] = img_r\n",
    "    normalized_image[:, :, 1] = img_g\n",
    "    normalized_image[:, :, 2] = img_b\n",
    "\n",
    "    return normalized_image"
   ]
  },
  {
   "cell_type": "code",
   "execution_count": 22,
   "metadata": {},
   "outputs": [
    {
     "name": "stderr",
     "output_type": "stream",
     "text": [
      "C:\\Users\\hurtd\\Anaconda3\\lib\\site-packages\\ipykernel_launcher.py:61: RuntimeWarning: invalid value encountered in true_divide\n"
     ]
    }
   ],
   "source": [
    "# create a ZipFile object\n",
    "path= '../hardy/local_data/200504_csv_EIS_simulaiton/'\n",
    "# image_path= './rgb_Rex_Imy/'\n",
    "# if not os.path.exists(image_path):\n",
    "#     os.makedirs(image_path)\n",
    "rgb_Rex_Imy= [] # Future List of all images made, Ideally to use with save_image=False:\n",
    "                #    Format for each is (SERIAL, Image(pd.df?), Label(0,1))\n",
    "n_images = len(os.listdir(path))\n",
    "n=0 # Total loop counter\n",
    "i=0 # Resettable counter\n",
    "for entry in os.listdir(path):\n",
    "    # Manual Status Update Tracker\n",
    "    #    To learn about this (takes way too long) function, we could track/plot these percents over time. \n",
    "    #    I'm guessing that it's slowing down because of limited computer memory (perhaps?)\n",
    "    if i > n_images/100:\n",
    "        print(\"Finished \\t{}/{}\\t files.\\r\".format(n,n_images))\n",
    "        i=0 #reset i-counter\n",
    "        n+=1\n",
    "    else:\n",
    "        i+=1\n",
    "        n+=1\n",
    "        \n",
    "    if entry.endswith('.csv'):\n",
    "        fdata = pd.read_csv(path+entry, skiprows=6)\n",
    "        filename = entry.rstrip(entry[-4:])\n",
    "        rgb_image_x = rgb_plot(red_array=fdata['Re_Z_noise [ohm]'], plot=False)\n",
    "        rgb_image_y = rgb_plot(blue_array=fdata['Im_Z_noise [ohm]'], plot=False)\n",
    "        \n",
    "        # File Path Management is Important!\n",
    "        img_save_path = path + 'rgb_images/'\n",
    "        os.makedirs(img_save_path, exist_ok=True)\n",
    "        \n",
    "        combined_image= orthogonal_images_add(rgb_image_x, rgb_image_y, plot=True, save_image=False, filename=filename, save_location=img_save_path)\n",
    "#         loci= image_path + entry\n",
    "#       The labelling of the data is somewhat hardcoded in this funciton right now. Consider improving it  \n",
    "            # Example: Have a function where you parse all (or a random selection of 100 if too many) filenames\n",
    "            #          And if there are 2-5 (a few) common endings aka: \"_noise.\" or \"_blue.\" then those are the cats.\n",
    "            #          Bonus, to report the populations of those categories to inform the user. \n",
    "        if entry.endswith('noise.csv'):\n",
    "            label= 0\n",
    "        else:\n",
    "            label= 1\n",
    "        rgb_Rex_Imy.append((entry.rstrip(entry[-4:]), combined_image, label))\n",
    "# GODDAMNIT Always end a LONG-ASS piece of code with a \"success\" announcement.\n",
    "print(\"Thank you for Waiting, your {} Pokemon are restored to full health!\".format(n_images))"
   ]
  },
  {
   "cell_type": "code",
   "execution_count": null,
   "metadata": {},
   "outputs": [],
   "source": []
  },
  {
   "cell_type": "code",
   "execution_count": 23,
   "metadata": {},
   "outputs": [],
   "source": [
    "# Define the base Keras model to use for comparing the different types of plots\n",
    "\n",
    "def keras_cnn_model(training_set,validation_set, kernel_size=3, epochs=5,input_shape=(50,50, 1)):\n",
    "    #################################################################\n",
    "    # Build CNN Model\n",
    "    model = Sequential()\n",
    "    model.add(Conv2D(8, (kernel_size,kernel_size), activation='relu', input_shape=input_shape))\n",
    "    model.add(Conv2D(16, (kernel_size,kernel_size), activation='sigmoid'))\n",
    "    model.add(Conv2D(32, (kernel_size,kernel_size), activation='sigmoid'))\n",
    "    model.add(MaxPool2D(2,2))\n",
    "    model.add(Flatten())\n",
    "    model.add(Dense(2, activation='softmax'))\n",
    "    #################################################################\n",
    "    model.compile(optimizer=Adam(lr=0.001), loss='categorical_crossentropy', metrics=['accuracy'])\n",
    "    #################################################################\n",
    "    history= model.fit(training_set, epochs=epochs, shuffle=True, validation_data=validation_set)\n",
    "    #################################################################\n",
    "   \n",
    "    # Let's plot the results\n",
    "    fig, ax= plt.subplots(1,2, figsize=(8,6))\n",
    "    \n",
    "    # Loss\n",
    "    loss= history.history['loss']\n",
    "    val_loss= history.history['val_loss']\n",
    "    epochs= range(1, len(loss)+1)\n",
    "    \n",
    "    ax[0].plot(epochs, loss, 'bo', label= 'Training_loss')\n",
    "    ax[0].plot(epochs, val_loss, 'b', label='Validation_loss')\n",
    "    ax[0].set_xlabel('Epochs')\n",
    "    ax[0].set_ylabel('Loss')\n",
    "    ax[0].legend()\n",
    "    ax[0].set_title('Loss')\n",
    "\n",
    "    # Accuracy\n",
    "    acc= history.history['accuracy']\n",
    "    val_acc= history.history['val_accuracy']\n",
    "\n",
    "    ax[1].plot(epochs, acc, 'bo', label= 'Training_acc')\n",
    "    ax[1].plot(epochs, val_acc, 'b', label='Validation_acc')\n",
    "    ax[1].set_xlabel('Epochs')\n",
    "    ax[1].set_ylabel('Loss')\n",
    "    ax[1].legend()\n",
    "    ax[1].set_title('Accuracy')\n",
    "    \n",
    "    return model, history"
   ]
  },
  {
   "cell_type": "code",
   "execution_count": 24,
   "metadata": {},
   "outputs": [],
   "source": [
    "import pickle    \n",
    "def save_load_data(filename, data=None, save=None, load=None, file_extension='.npy', location='./'):\n",
    "    \"\"\"Function to save and load model\n",
    "\n",
    "    Function that can save or load model depending on given parameters.\n",
    "\n",
    "    Parameters\n",
    "    ----------\n",
    "    filename : str\n",
    "               string indicating the filename for saving or loading dataset.\n",
    "    data : list\n",
    "           dataset that is to be saved or loaded.\n",
    "    save : bool\n",
    "           boolean value if true saves the compressed dataset.\n",
    "    load : bool\n",
    "           boolean value if true loads the compressed dataset.\n",
    "    file_extension : str\n",
    "                     String containing the file extension to use\n",
    "    location :  str\n",
    "                string containing the path to the folder to save the pickled file in\n",
    "    \n",
    "    Returns\n",
    "    -------\n",
    "    loaded_data : list\n",
    "                  dataset that is loaded from the specified location\n",
    "    \"\"\"\n",
    "    if save:\n",
    "        pickle.dump(data, open(location + filename+ file_extension, 'wb'))\n",
    "        return print('Successfully Pickled')\n",
    "    elif load:\n",
    "        loaded_data = pickle.load(open(location + filename + file_extension, 'rb'))\n",
    "        return loaded_data"
   ]
  },
  {
   "cell_type": "code",
   "execution_count": 33,
   "metadata": {},
   "outputs": [
    {
     "name": "stdout",
     "output_type": "stream",
     "text": [
      "Successfully Pickled\n"
     ]
    }
   ],
   "source": [
    "# Hey! Don't save things in the local notebook folder! Save them on their file path so they stay with their data!\n",
    "output = save_load_data('rgb_Rex_Imy', save=True, location=path)\n",
    "rgb_xy_data = save_load_data('rgb_Rex_Imy', load=True, location=path)"
   ]
  },
  {
   "cell_type": "code",
   "execution_count": 34,
   "metadata": {},
   "outputs": [
    {
     "data": {
      "text/plain": [
       "()"
      ]
     },
     "execution_count": 34,
     "metadata": {},
     "output_type": "execute_result"
    }
   ],
   "source": [
    "np.shape(rgb_xy_data)"
   ]
  },
  {
   "cell_type": "code",
   "execution_count": 35,
   "metadata": {},
   "outputs": [],
   "source": [
    "image_arrays= np.array([rgb_Rex_Imy[i][1][:] for i in range(len(rgb_Rex_Imy))])"
   ]
  },
  {
   "cell_type": "code",
   "execution_count": 36,
   "metadata": {},
   "outputs": [
    {
     "data": {
      "text/plain": [
       "(9000, 80, 80, 3)"
      ]
     },
     "execution_count": 36,
     "metadata": {},
     "output_type": "execute_result"
    }
   ],
   "source": [
    "np.shape(image_arrays)"
   ]
  },
  {
   "cell_type": "code",
   "execution_count": 37,
   "metadata": {},
   "outputs": [
    {
     "data": {
      "text/plain": [
       "array([[[0.0000000e+00,           nan, 9.8723722e-01],\n",
       "        [2.4078803e-05,           nan, 9.8723722e-01],\n",
       "        [6.2461848e-05,           nan, 9.8723722e-01],\n",
       "        ...,\n",
       "        [1.0000000e+00,           nan, 9.8723722e-01],\n",
       "        [1.0000000e+00,           nan, 9.8723722e-01],\n",
       "        [1.0000000e+00,           nan, 9.8723722e-01]],\n",
       "\n",
       "       [[0.0000000e+00,           nan, 9.8388529e-01],\n",
       "        [2.4078803e-05,           nan, 9.8388529e-01],\n",
       "        [6.2461848e-05,           nan, 9.8388529e-01],\n",
       "        ...,\n",
       "        [1.0000000e+00,           nan, 9.8388529e-01],\n",
       "        [1.0000000e+00,           nan, 9.8388529e-01],\n",
       "        [1.0000000e+00,           nan, 9.8388529e-01]],\n",
       "\n",
       "       [[0.0000000e+00,           nan, 9.7965354e-01],\n",
       "        [2.4078803e-05,           nan, 9.7965354e-01],\n",
       "        [6.2461848e-05,           nan, 9.7965354e-01],\n",
       "        ...,\n",
       "        [1.0000000e+00,           nan, 9.7965354e-01],\n",
       "        [1.0000000e+00,           nan, 9.7965354e-01],\n",
       "        [1.0000000e+00,           nan, 9.7965354e-01]],\n",
       "\n",
       "       ...,\n",
       "\n",
       "       [[0.0000000e+00,           nan, 9.9999815e-01],\n",
       "        [2.4078803e-05,           nan, 9.9999815e-01],\n",
       "        [6.2461848e-05,           nan, 9.9999815e-01],\n",
       "        ...,\n",
       "        [1.0000000e+00,           nan, 9.9999815e-01],\n",
       "        [1.0000000e+00,           nan, 9.9999815e-01],\n",
       "        [1.0000000e+00,           nan, 9.9999815e-01]],\n",
       "\n",
       "       [[0.0000000e+00,           nan, 9.9999917e-01],\n",
       "        [2.4078803e-05,           nan, 9.9999917e-01],\n",
       "        [6.2461848e-05,           nan, 9.9999917e-01],\n",
       "        ...,\n",
       "        [1.0000000e+00,           nan, 9.9999917e-01],\n",
       "        [1.0000000e+00,           nan, 9.9999917e-01],\n",
       "        [1.0000000e+00,           nan, 9.9999917e-01]],\n",
       "\n",
       "       [[0.0000000e+00,           nan, 1.0000000e+00],\n",
       "        [2.4078803e-05,           nan, 1.0000000e+00],\n",
       "        [6.2461848e-05,           nan, 1.0000000e+00],\n",
       "        ...,\n",
       "        [1.0000000e+00,           nan, 1.0000000e+00],\n",
       "        [1.0000000e+00,           nan, 1.0000000e+00],\n",
       "        [1.0000000e+00,           nan, 1.0000000e+00]]], dtype=float32)"
      ]
     },
     "execution_count": 37,
     "metadata": {},
     "output_type": "execute_result"
    }
   ],
   "source": [
    "image_arrays[0]"
   ]
  },
  {
   "cell_type": "code",
   "execution_count": 38,
   "metadata": {},
   "outputs": [
    {
     "data": {
      "image/png": "[encoded data removed]",
      "text/plain": [
       "<Figure size 432x288 with 1 Axes>"
      ]
     },
     "metadata": {
      "needs_background": "light"
     },
     "output_type": "display_data"
    }
   ],
   "source": [
    "my_image=plt.imshow(image_arrays[0])"
   ]
  },
  {
   "cell_type": "code",
   "execution_count": 39,
   "metadata": {},
   "outputs": [
    {
     "data": {
      "text/plain": [
       "matplotlib.image.AxesImage"
      ]
     },
     "execution_count": 39,
     "metadata": {},
     "output_type": "execute_result"
    }
   ],
   "source": [
    "type(my_image)"
   ]
  },
  {
   "cell_type": "code",
   "execution_count": 55,
   "metadata": {},
   "outputs": [],
   "source": [
    "image_data = image_arrays.reshape(image_arrays.shape[0], 80, 80, 3).astype('float32')"
   ]
  },
  {
   "cell_type": "code",
   "execution_count": 56,
   "metadata": {},
   "outputs": [],
   "source": [
    "image_data = image_data*255"
   ]
  },
  {
   "cell_type": "code",
   "execution_count": 57,
   "metadata": {},
   "outputs": [
    {
     "data": {
      "text/plain": [
       "(80, 80, 3)"
      ]
     },
     "execution_count": 57,
     "metadata": {},
     "output_type": "execute_result"
    }
   ],
   "source": [
    "image_data[670].shape"
   ]
  },
  {
   "cell_type": "code",
   "execution_count": 58,
   "metadata": {},
   "outputs": [],
   "source": [
    "img = keras.preprocessing.image.array_to_img(image_data[670],scale=False, data_format=\"channels_last\")"
   ]
  },
  {
   "cell_type": "code",
   "execution_count": 59,
   "metadata": {},
   "outputs": [
    {
     "data": {
      "text/plain": [
       "(9000, 80, 80, 3)"
      ]
     },
     "execution_count": 59,
     "metadata": {},
     "output_type": "execute_result"
    }
   ],
   "source": [
    "np.shape(image_data)"
   ]
  },
  {
   "cell_type": "code",
   "execution_count": 62,
   "metadata": {},
   "outputs": [
    {
     "data": {
      "image/png": "[encoded data removed]",
      "text/plain": [
       "<PIL.Image.Image image mode=RGB size=80x80 at 0x179EAD2C388>"
      ]
     },
     "execution_count": 62,
     "metadata": {},
     "output_type": "execute_result"
    }
   ],
   "source": [
    "from PIL import Image\n",
    "Image.frombuffer(mode='RGB', size=(80,80), data=image_data[670])"
   ]
  },
  {
   "cell_type": "code",
   "execution_count": 63,
   "metadata": {},
   "outputs": [
    {
     "data": {
      "text/plain": [
       "<matplotlib.image.AxesImage at 0x179e9c90288>"
      ]
     },
     "execution_count": 63,
     "metadata": {},
     "output_type": "execute_result"
    },
    {
     "data": {
      "image/png": "[encoded data removed]",
      "text/plain": [
       "<Figure size 432x288 with 1 Axes>"
      ]
     },
     "metadata": {
      "needs_background": "light"
     },
     "output_type": "display_data"
    }
   ],
   "source": [
    "plt.imshow(image_data[670]/255)"
   ]
  },
  {
   "cell_type": "code",
   "execution_count": 64,
   "metadata": {},
   "outputs": [
    {
     "data": {
      "text/plain": [
       "<matplotlib.image.AxesImage at 0x179eada9a88>"
      ]
     },
     "execution_count": 64,
     "metadata": {},
     "output_type": "execute_result"
    },
    {
     "data": {
      "image/png": "[encoded data removed]",
      "text/plain": [
       "<Figure size 432x288 with 1 Axes>"
      ]
     },
     "metadata": {
      "needs_background": "light"
     },
     "output_type": "display_data"
    }
   ],
   "source": [
    "plt.imshow(img)"
   ]
  },
  {
   "cell_type": "code",
   "execution_count": 65,
   "metadata": {},
   "outputs": [],
   "source": [
    "from PIL import Image"
   ]
  },
  {
   "cell_type": "code",
   "execution_count": 66,
   "metadata": {},
   "outputs": [],
   "source": [
    "image_labels= np.array([rgb_Rex_Imy[i][:][2] for i in range(len(rgb_Rex_Imy))])\n",
    "image_labels= keras.utils.to_categorical(image_labels , num_classes=2)"
   ]
  },
  {
   "cell_type": "code",
   "execution_count": 67,
   "metadata": {},
   "outputs": [
    {
     "data": {
      "text/plain": [
       "(9000, 2)"
      ]
     },
     "execution_count": 67,
     "metadata": {},
     "output_type": "execute_result"
    }
   ],
   "source": [
    "np.shape(image_labels)"
   ]
  },
  {
   "cell_type": "code",
   "execution_count": 81,
   "metadata": {},
   "outputs": [
    {
     "name": "stdout",
     "output_type": "stream",
     "text": [
      "Finished.\n",
      "Input Shape/Type:\n",
      "(9000, 80, 80, 3)\n",
      "<class 'numpy.ndarray'>\n",
      "\n",
      "Output Shape/Type:\n",
      "(9000, 80, 80, 3)\n",
      "<class 'numpy.ndarray'>\n"
     ]
    }
   ],
   "source": [
    "from IPython.display import clear_output\n",
    "\n",
    "processed_images = image_arrays*0\n",
    "n_images = len(image_arrays)\n",
    "n = 0 # Total counter\n",
    "i = 0 # Resettable counter\n",
    "for image in image_arrays:\n",
    "    # Not sure do we have to reshape?\n",
    "    image = image*255\n",
    "    img = keras.preprocessing.image.array_to_img(image,scale=False, data_format=\"channels_last\")\n",
    "    processed_images[n,:,:,:] = img\n",
    "    if i > n_images/10:\n",
    "        print(\"\\rFinished \\t{}/{}\\t files.\\r\".format(n,n_images))\n",
    "        i=0 #reset i-counter\n",
    "        n+=1\n",
    "    else:\n",
    "        i+=1\n",
    "        n+=1\n",
    "clear_output(wait=False)        \n",
    "print(\"Finished.\\nInput Shape/Type:\")\n",
    "print(image_arrays.shape)\n",
    "print(type(image_arrays))\n",
    "print(\"\\nOutput Shape/Type:\")\n",
    "print(processed_images.shape)\n",
    "print(type(processed_images))"
   ]
  },
  {
   "cell_type": "code",
   "execution_count": 82,
   "metadata": {},
   "outputs": [],
   "source": [
    "data = ImageDataGenerator(validation_split=0.1) # What's this do? It's supposed to load data from directory but we don't give it one?\n",
    "\n",
    "training_set = data.flow(x=processed_images, y=image_labels, batch_size=10, subset='training')\n",
    "validation_set = data.flow(x=processed_images, y=image_labels, batch_size=10, subset='validation')"
   ]
  },
  {
   "cell_type": "code",
   "execution_count": 83,
   "metadata": {},
   "outputs": [
    {
     "name": "stdout",
     "output_type": "stream",
     "text": [
      "Epoch 1/2\n",
      "810/810 [==============================] - 204s 252ms/step - loss: 0.4116 - accuracy: 0.8377 - val_loss: 0.0338 - val_accuracy: 0.9433\n",
      "Epoch 2/2\n",
      "810/810 [==============================] - 201s 248ms/step - loss: 0.1446 - accuracy: 0.9520 - val_loss: 0.4187 - val_accuracy: 0.8967\n"
     ]
    },
    {
     "data": {
      "image/png": "[encoded data removed]",
      "text/plain": [
       "<Figure size 576x432 with 2 Axes>"
      ]
     },
     "metadata": {
      "needs_background": "light"
     },
     "output_type": "display_data"
    }
   ],
   "source": [
    "rbg_CNN_model_xy= keras_cnn_model(training_set, validation_set, kernel_size=5, epochs=2,input_shape=(80,80,3))"
   ]
  },
  {
   "cell_type": "code",
   "execution_count": null,
   "metadata": {},
   "outputs": [],
   "source": []
  }
 ],
 "metadata": {
  "kernelspec": {
   "display_name": "Python 3",
   "language": "python",
   "name": "python3"
  },
  "language_info": {
   "codemirror_mode": {
    "name": "ipython",
    "version": 3
   },
   "file_extension": ".py",
   "mimetype": "text/x-python",
   "name": "python",
   "nbconvert_exporter": "python",
   "pygments_lexer": "ipython3",
   "version": "3.7.7"
  }
 },
 "nbformat": 4,
 "nbformat_minor": 4
}
