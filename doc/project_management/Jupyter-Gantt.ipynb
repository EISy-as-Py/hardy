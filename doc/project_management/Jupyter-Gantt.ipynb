{
 "cells": [
  {
   "cell_type": "markdown",
   "metadata": {},
   "source": [
    "## Concept: Jupyter Gantt project Planning\n",
    "In the 2020-04-15 Standup meeting, one of the groups mentioned using a Jupyter notebook to organize their Gantt charts using Plotly! That's pretty cool so we thought we'd try it with the sample they had!\n",
    "\n",
    "There are definitely some drawbacks - It plots but doesn't actually plan or organize things for you based on Dependencies! I could write a function to do all of that, which would be cool! But it's not what we're here to do today, so I'll try and avoid doing that!\n",
    "\n",
    "#### THEREFORE, I Propose we use these to plan and visualize, but we will need a different way to create and plan tasks! \n",
    "__*(Github, Asana, or Trello? I like Scrum boards with checklists)*__\n",
    "\n",
    "Helpful Links:\n",
    " * https://plotly.com/python/gantt/\n",
    " * https://plotly.github.io/plotly.py-docs/generated/plotly.figure_factory.create_gantt.html"
   ]
  },
  {
   "cell_type": "code",
   "execution_count": null,
   "metadata": {},
   "outputs": [],
   "source": [
    "import plotly.figure_factory as ff"
   ]
  },
  {
   "cell_type": "code",
   "execution_count": 21,
   "metadata": {
    "scrolled": false
   },
   "outputs": [
    {
     "data": {
      "application/vnd.plotly.v1+json": {
       "config": {
        "plotlyServerURL": "https://plot.ly"
       },
       "data": [
        {
         "fill": "toself",
         "fillcolor": "rgb(114, 44, 121)",
         "hoverinfo": "name",
         "legendgroup": "rgb(114, 44, 121)",
         "mode": "none",
         "name": "Data_pretreatment",
         "type": "scatter",
         "x": [
          "2020-05-15",
          "2020-05-26",
          "2020-05-26",
          "2020-05-15"
         ],
         "y": [
          3.5,
          3.5,
          4.5,
          4.5
         ]
        },
        {
         "fill": "toself",
         "fillcolor": "rgb(198, 47, 105)",
         "hoverinfo": "name",
         "legendgroup": "rgb(198, 47, 105)",
         "mode": "none",
         "name": "Core_Programming",
         "type": "scatter",
         "x": [
          "2020-05-29",
          "2020-06-09",
          "2020-06-09",
          "2020-05-29",
          "2020-05-29",
          "2020-04-17",
          "2020-05-12",
          "2020-05-12",
          "2020-04-17"
         ],
         "y": [
          1.5,
          1.5,
          2.5,
          2.5,
          null,
          5.5,
          5.5,
          6.5,
          6.5
         ]
        },
        {
         "fill": "toself",
         "fillcolor": "rgb(46, 137, 205)",
         "hoverinfo": "name",
         "legendgroup": "rgb(46, 137, 205)",
         "mode": "none",
         "name": "Planning",
         "type": "scatter",
         "x": [
          "2020-06-07",
          "2020-06-14",
          "2020-06-14",
          "2020-06-07",
          "2020-06-07",
          "2020-05-25",
          "2020-05-29",
          "2020-05-29",
          "2020-05-25",
          "2020-05-25",
          "2020-05-11",
          "2020-05-15",
          "2020-05-15",
          "2020-05-11",
          "2020-05-11",
          "2020-04-02",
          "2020-04-24",
          "2020-04-24",
          "2020-04-02"
         ],
         "y": [
          0.5,
          0.5,
          1.5,
          1.5,
          null,
          2.5,
          2.5,
          3.5,
          3.5,
          null,
          4.5,
          4.5,
          5.5,
          5.5,
          null,
          6.5,
          6.5,
          7.5,
          7.5
         ]
        },
        {
         "fill": "toself",
         "fillcolor": "rgb(58, 149, 136)",
         "hoverinfo": "name",
         "legendgroup": "rgb(58, 149, 136)",
         "mode": "none",
         "name": "Final_outcome",
         "type": "scatter",
         "x": [
          "2020-06-14",
          "2020-06-20",
          "2020-06-20",
          "2020-06-14"
         ],
         "y": [
          -0.5,
          -0.5,
          0.5,
          0.5
         ]
        },
        {
         "legendgroup": "rgb(114, 44, 121)",
         "marker": {
          "color": "rgb(114, 44, 121)",
          "opacity": 0,
          "size": 1
         },
         "mode": "markers",
         "name": "",
         "showlegend": false,
         "text": [
          null,
          null
         ],
         "type": "scatter",
         "x": [
          "2020-05-15",
          "2020-05-26"
         ],
         "y": [
          4,
          4
         ]
        },
        {
         "legendgroup": "rgb(198, 47, 105)",
         "marker": {
          "color": "rgb(198, 47, 105)",
          "opacity": 0,
          "size": 1
         },
         "mode": "markers",
         "name": "",
         "showlegend": false,
         "text": [
          null,
          null,
          null,
          null
         ],
         "type": "scatter",
         "x": [
          "2020-05-29",
          "2020-06-09",
          "2020-04-17",
          "2020-05-12"
         ],
         "y": [
          2,
          2,
          6,
          6
         ]
        },
        {
         "legendgroup": "rgb(46, 137, 205)",
         "marker": {
          "color": "rgb(46, 137, 205)",
          "opacity": 0,
          "size": 1
         },
         "mode": "markers",
         "name": "",
         "showlegend": false,
         "text": [
          null,
          null,
          null,
          null,
          null,
          null,
          null,
          null
         ],
         "type": "scatter",
         "x": [
          "2020-06-07",
          "2020-06-14",
          "2020-05-25",
          "2020-05-29",
          "2020-05-11",
          "2020-05-15",
          "2020-04-02",
          "2020-04-24"
         ],
         "y": [
          1,
          1,
          3,
          3,
          5,
          5,
          7,
          7
         ]
        },
        {
         "legendgroup": "rgb(58, 149, 136)",
         "marker": {
          "color": "rgb(58, 149, 136)",
          "opacity": 0,
          "size": 1
         },
         "mode": "markers",
         "name": "",
         "showlegend": false,
         "text": [
          null,
          null
         ],
         "type": "scatter",
         "x": [
          "2020-06-14",
          "2020-06-20"
         ],
         "y": [
          0,
          0
         ]
        }
       ],
       "layout": {
        "height": 600,
        "hovermode": "closest",
        "showlegend": true,
        "template": {
         "data": {
          "bar": [
           {
            "error_x": {
             "color": "#2a3f5f"
            },
            "error_y": {
             "color": "#2a3f5f"
            },
            "marker": {
             "line": {
              "color": "#E5ECF6",
              "width": 0.5
             }
            },
            "type": "bar"
           }
          ],
          "barpolar": [
           {
            "marker": {
             "line": {
              "color": "#E5ECF6",
              "width": 0.5
             }
            },
            "type": "barpolar"
           }
          ],
          "carpet": [
           {
            "aaxis": {
             "endlinecolor": "#2a3f5f",
             "gridcolor": "white",
             "linecolor": "white",
             "minorgridcolor": "white",
             "startlinecolor": "#2a3f5f"
            },
            "baxis": {
             "endlinecolor": "#2a3f5f",
             "gridcolor": "white",
             "linecolor": "white",
             "minorgridcolor": "white",
             "startlinecolor": "#2a3f5f"
            },
            "type": "carpet"
           }
          ],
          "choropleth": [
           {
            "colorbar": {
             "outlinewidth": 0,
             "ticks": ""
            },
            "type": "choropleth"
           }
          ],
          "contour": [
           {
            "colorbar": {
             "outlinewidth": 0,
             "ticks": ""
            },
            "colorscale": [
             [
              0,
              "#0d0887"
             ],
             [
              0.1111111111111111,
              "#46039f"
             ],
             [
              0.2222222222222222,
              "#7201a8"
             ],
             [
              0.3333333333333333,
              "#9c179e"
             ],
             [
              0.4444444444444444,
              "#bd3786"
             ],
             [
              0.5555555555555556,
              "#d8576b"
             ],
             [
              0.6666666666666666,
              "#ed7953"
             ],
             [
              0.7777777777777778,
              "#fb9f3a"
             ],
             [
              0.8888888888888888,
              "#fdca26"
             ],
             [
              1,
              "#f0f921"
             ]
            ],
            "type": "contour"
           }
          ],
          "contourcarpet": [
           {
            "colorbar": {
             "outlinewidth": 0,
             "ticks": ""
            },
            "type": "contourcarpet"
           }
          ],
          "heatmap": [
           {
            "colorbar": {
             "outlinewidth": 0,
             "ticks": ""
            },
            "colorscale": [
             [
              0,
              "#0d0887"
             ],
             [
              0.1111111111111111,
              "#46039f"
             ],
             [
              0.2222222222222222,
              "#7201a8"
             ],
             [
              0.3333333333333333,
              "#9c179e"
             ],
             [
              0.4444444444444444,
              "#bd3786"
             ],
             [
              0.5555555555555556,
              "#d8576b"
             ],
             [
              0.6666666666666666,
              "#ed7953"
             ],
             [
              0.7777777777777778,
              "#fb9f3a"
             ],
             [
              0.8888888888888888,
              "#fdca26"
             ],
             [
              1,
              "#f0f921"
             ]
            ],
            "type": "heatmap"
           }
          ],
          "heatmapgl": [
           {
            "colorbar": {
             "outlinewidth": 0,
             "ticks": ""
            },
            "colorscale": [
             [
              0,
              "#0d0887"
             ],
             [
              0.1111111111111111,
              "#46039f"
             ],
             [
              0.2222222222222222,
              "#7201a8"
             ],
             [
              0.3333333333333333,
              "#9c179e"
             ],
             [
              0.4444444444444444,
              "#bd3786"
             ],
             [
              0.5555555555555556,
              "#d8576b"
             ],
             [
              0.6666666666666666,
              "#ed7953"
             ],
             [
              0.7777777777777778,
              "#fb9f3a"
             ],
             [
              0.8888888888888888,
              "#fdca26"
             ],
             [
              1,
              "#f0f921"
             ]
            ],
            "type": "heatmapgl"
           }
          ],
          "histogram": [
           {
            "marker": {
             "colorbar": {
              "outlinewidth": 0,
              "ticks": ""
             }
            },
            "type": "histogram"
           }
          ],
          "histogram2d": [
           {
            "colorbar": {
             "outlinewidth": 0,
             "ticks": ""
            },
            "colorscale": [
             [
              0,
              "#0d0887"
             ],
             [
              0.1111111111111111,
              "#46039f"
             ],
             [
              0.2222222222222222,
              "#7201a8"
             ],
             [
              0.3333333333333333,
              "#9c179e"
             ],
             [
              0.4444444444444444,
              "#bd3786"
             ],
             [
              0.5555555555555556,
              "#d8576b"
             ],
             [
              0.6666666666666666,
              "#ed7953"
             ],
             [
              0.7777777777777778,
              "#fb9f3a"
             ],
             [
              0.8888888888888888,
              "#fdca26"
             ],
             [
              1,
              "#f0f921"
             ]
            ],
            "type": "histogram2d"
           }
          ],
          "histogram2dcontour": [
           {
            "colorbar": {
             "outlinewidth": 0,
             "ticks": ""
            },
            "colorscale": [
             [
              0,
              "#0d0887"
             ],
             [
              0.1111111111111111,
              "#46039f"
             ],
             [
              0.2222222222222222,
              "#7201a8"
             ],
             [
              0.3333333333333333,
              "#9c179e"
             ],
             [
              0.4444444444444444,
              "#bd3786"
             ],
             [
              0.5555555555555556,
              "#d8576b"
             ],
             [
              0.6666666666666666,
              "#ed7953"
             ],
             [
              0.7777777777777778,
              "#fb9f3a"
             ],
             [
              0.8888888888888888,
              "#fdca26"
             ],
             [
              1,
              "#f0f921"
             ]
            ],
            "type": "histogram2dcontour"
           }
          ],
          "mesh3d": [
           {
            "colorbar": {
             "outlinewidth": 0,
             "ticks": ""
            },
            "type": "mesh3d"
           }
          ],
          "parcoords": [
           {
            "line": {
             "colorbar": {
              "outlinewidth": 0,
              "ticks": ""
             }
            },
            "type": "parcoords"
           }
          ],
          "pie": [
           {
            "automargin": true,
            "type": "pie"
           }
          ],
          "scatter": [
           {
            "marker": {
             "colorbar": {
              "outlinewidth": 0,
              "ticks": ""
             }
            },
            "type": "scatter"
           }
          ],
          "scatter3d": [
           {
            "line": {
             "colorbar": {
              "outlinewidth": 0,
              "ticks": ""
             }
            },
            "marker": {
             "colorbar": {
              "outlinewidth": 0,
              "ticks": ""
             }
            },
            "type": "scatter3d"
           }
          ],
          "scattercarpet": [
           {
            "marker": {
             "colorbar": {
              "outlinewidth": 0,
              "ticks": ""
             }
            },
            "type": "scattercarpet"
           }
          ],
          "scattergeo": [
           {
            "marker": {
             "colorbar": {
              "outlinewidth": 0,
              "ticks": ""
             }
            },
            "type": "scattergeo"
           }
          ],
          "scattergl": [
           {
            "marker": {
             "colorbar": {
              "outlinewidth": 0,
              "ticks": ""
             }
            },
            "type": "scattergl"
           }
          ],
          "scattermapbox": [
           {
            "marker": {
             "colorbar": {
              "outlinewidth": 0,
              "ticks": ""
             }
            },
            "type": "scattermapbox"
           }
          ],
          "scatterpolar": [
           {
            "marker": {
             "colorbar": {
              "outlinewidth": 0,
              "ticks": ""
             }
            },
            "type": "scatterpolar"
           }
          ],
          "scatterpolargl": [
           {
            "marker": {
             "colorbar": {
              "outlinewidth": 0,
              "ticks": ""
             }
            },
            "type": "scatterpolargl"
           }
          ],
          "scatterternary": [
           {
            "marker": {
             "colorbar": {
              "outlinewidth": 0,
              "ticks": ""
             }
            },
            "type": "scatterternary"
           }
          ],
          "surface": [
           {
            "colorbar": {
             "outlinewidth": 0,
             "ticks": ""
            },
            "colorscale": [
             [
              0,
              "#0d0887"
             ],
             [
              0.1111111111111111,
              "#46039f"
             ],
             [
              0.2222222222222222,
              "#7201a8"
             ],
             [
              0.3333333333333333,
              "#9c179e"
             ],
             [
              0.4444444444444444,
              "#bd3786"
             ],
             [
              0.5555555555555556,
              "#d8576b"
             ],
             [
              0.6666666666666666,
              "#ed7953"
             ],
             [
              0.7777777777777778,
              "#fb9f3a"
             ],
             [
              0.8888888888888888,
              "#fdca26"
             ],
             [
              1,
              "#f0f921"
             ]
            ],
            "type": "surface"
           }
          ],
          "table": [
           {
            "cells": {
             "fill": {
              "color": "#EBF0F8"
             },
             "line": {
              "color": "white"
             }
            },
            "header": {
             "fill": {
              "color": "#C8D4E3"
             },
             "line": {
              "color": "white"
             }
            },
            "type": "table"
           }
          ]
         },
         "layout": {
          "annotationdefaults": {
           "arrowcolor": "#2a3f5f",
           "arrowhead": 0,
           "arrowwidth": 1
          },
          "coloraxis": {
           "colorbar": {
            "outlinewidth": 0,
            "ticks": ""
           }
          },
          "colorscale": {
           "diverging": [
            [
             0,
             "#8e0152"
            ],
            [
             0.1,
             "#c51b7d"
            ],
            [
             0.2,
             "#de77ae"
            ],
            [
             0.3,
             "#f1b6da"
            ],
            [
             0.4,
             "#fde0ef"
            ],
            [
             0.5,
             "#f7f7f7"
            ],
            [
             0.6,
             "#e6f5d0"
            ],
            [
             0.7,
             "#b8e186"
            ],
            [
             0.8,
             "#7fbc41"
            ],
            [
             0.9,
             "#4d9221"
            ],
            [
             1,
             "#276419"
            ]
           ],
           "sequential": [
            [
             0,
             "#0d0887"
            ],
            [
             0.1111111111111111,
             "#46039f"
            ],
            [
             0.2222222222222222,
             "#7201a8"
            ],
            [
             0.3333333333333333,
             "#9c179e"
            ],
            [
             0.4444444444444444,
             "#bd3786"
            ],
            [
             0.5555555555555556,
             "#d8576b"
            ],
            [
             0.6666666666666666,
             "#ed7953"
            ],
            [
             0.7777777777777778,
             "#fb9f3a"
            ],
            [
             0.8888888888888888,
             "#fdca26"
            ],
            [
             1,
             "#f0f921"
            ]
           ],
           "sequentialminus": [
            [
             0,
             "#0d0887"
            ],
            [
             0.1111111111111111,
             "#46039f"
            ],
            [
             0.2222222222222222,
             "#7201a8"
            ],
            [
             0.3333333333333333,
             "#9c179e"
            ],
            [
             0.4444444444444444,
             "#bd3786"
            ],
            [
             0.5555555555555556,
             "#d8576b"
            ],
            [
             0.6666666666666666,
             "#ed7953"
            ],
            [
             0.7777777777777778,
             "#fb9f3a"
            ],
            [
             0.8888888888888888,
             "#fdca26"
            ],
            [
             1,
             "#f0f921"
            ]
           ]
          },
          "colorway": [
           "#636efa",
           "#EF553B",
           "#00cc96",
           "#ab63fa",
           "#FFA15A",
           "#19d3f3",
           "#FF6692",
           "#B6E880",
           "#FF97FF",
           "#FECB52"
          ],
          "font": {
           "color": "#2a3f5f"
          },
          "geo": {
           "bgcolor": "white",
           "lakecolor": "white",
           "landcolor": "#E5ECF6",
           "showlakes": true,
           "showland": true,
           "subunitcolor": "white"
          },
          "hoverlabel": {
           "align": "left"
          },
          "hovermode": "closest",
          "mapbox": {
           "style": "light"
          },
          "paper_bgcolor": "white",
          "plot_bgcolor": "#E5ECF6",
          "polar": {
           "angularaxis": {
            "gridcolor": "white",
            "linecolor": "white",
            "ticks": ""
           },
           "bgcolor": "#E5ECF6",
           "radialaxis": {
            "gridcolor": "white",
            "linecolor": "white",
            "ticks": ""
           }
          },
          "scene": {
           "xaxis": {
            "backgroundcolor": "#E5ECF6",
            "gridcolor": "white",
            "gridwidth": 2,
            "linecolor": "white",
            "showbackground": true,
            "ticks": "",
            "zerolinecolor": "white"
           },
           "yaxis": {
            "backgroundcolor": "#E5ECF6",
            "gridcolor": "white",
            "gridwidth": 2,
            "linecolor": "white",
            "showbackground": true,
            "ticks": "",
            "zerolinecolor": "white"
           },
           "zaxis": {
            "backgroundcolor": "#E5ECF6",
            "gridcolor": "white",
            "gridwidth": 2,
            "linecolor": "white",
            "showbackground": true,
            "ticks": "",
            "zerolinecolor": "white"
           }
          },
          "shapedefaults": {
           "line": {
            "color": "#2a3f5f"
           }
          },
          "ternary": {
           "aaxis": {
            "gridcolor": "white",
            "linecolor": "white",
            "ticks": ""
           },
           "baxis": {
            "gridcolor": "white",
            "linecolor": "white",
            "ticks": ""
           },
           "bgcolor": "#E5ECF6",
           "caxis": {
            "gridcolor": "white",
            "linecolor": "white",
            "ticks": ""
           }
          },
          "title": {
           "x": 0.05
          },
          "xaxis": {
           "automargin": true,
           "gridcolor": "white",
           "linecolor": "white",
           "ticks": "",
           "title": {
            "standoff": 15
           },
           "zerolinecolor": "white",
           "zerolinewidth": 2
          },
          "yaxis": {
           "automargin": true,
           "gridcolor": "white",
           "linecolor": "white",
           "ticks": "",
           "title": {
            "standoff": 15
           },
           "zerolinecolor": "white",
           "zerolinewidth": 2
          }
         }
        },
        "title": {
         "text": "Overall Project Sprint Timeline"
        },
        "xaxis": {
         "rangeselector": {
          "buttons": [
           {
            "count": 7,
            "label": "1w",
            "step": "day",
            "stepmode": "backward"
           },
           {
            "count": 1,
            "label": "1m",
            "step": "month",
            "stepmode": "backward"
           },
           {
            "count": 6,
            "label": "6m",
            "step": "month",
            "stepmode": "backward"
           },
           {
            "count": 1,
            "label": "YTD",
            "step": "year",
            "stepmode": "todate"
           },
           {
            "count": 1,
            "label": "1y",
            "step": "year",
            "stepmode": "backward"
           },
           {
            "step": "all"
           }
          ]
         },
         "showgrid": false,
         "type": "date",
         "zeroline": false
        },
        "yaxis": {
         "autorange": false,
         "range": [
          -1,
          9
         ],
         "showgrid": false,
         "ticktext": [
          "V1.0 Release + BUFFER",
          "BUFFER",
          "Sprint 3",
          "Rev+Plan 2-3",
          "Sprint 2",
          "Rev+Plan 1-2",
          "Sprint 1",
          "Sprint 0"
         ],
         "tickvals": [
          0,
          1,
          2,
          3,
          4,
          5,
          6,
          7
         ],
         "zeroline": false
        }
       }
      },
      "text/html": [
       "<div>\n",
       "        \n",
       "        \n",
       "            <div id=\"4d8032f7-86be-4ebe-8954-b2092453ef6e\" class=\"plotly-graph-div\" style=\"height:600px; width:100%;\"></div>\n",
       "            <script type=\"text/javascript\">\n",
       "                require([\"plotly\"], function(Plotly) {\n",
       "                    window.PLOTLYENV=window.PLOTLYENV || {};\n",
       "                    \n",
       "                if (document.getElementById(\"4d8032f7-86be-4ebe-8954-b2092453ef6e\")) {\n",
       "                    Plotly.newPlot(\n",
       "                        '4d8032f7-86be-4ebe-8954-b2092453ef6e',\n",
       "                        [{\"fill\": \"toself\", \"fillcolor\": \"rgb(114, 44, 121)\", \"hoverinfo\": \"name\", \"legendgroup\": \"rgb(114, 44, 121)\", \"mode\": \"none\", \"name\": \"Data_pretreatment\", \"type\": \"scatter\", \"x\": [\"2020-05-15\", \"2020-05-26\", \"2020-05-26\", \"2020-05-15\"], \"y\": [3.5, 3.5, 4.5, 4.5]}, {\"fill\": \"toself\", \"fillcolor\": \"rgb(198, 47, 105)\", \"hoverinfo\": \"name\", \"legendgroup\": \"rgb(198, 47, 105)\", \"mode\": \"none\", \"name\": \"Core_Programming\", \"type\": \"scatter\", \"x\": [\"2020-05-29\", \"2020-06-09\", \"2020-06-09\", \"2020-05-29\", \"2020-05-29\", \"2020-04-17\", \"2020-05-12\", \"2020-05-12\", \"2020-04-17\"], \"y\": [1.5, 1.5, 2.5, 2.5, null, 5.5, 5.5, 6.5, 6.5]}, {\"fill\": \"toself\", \"fillcolor\": \"rgb(46, 137, 205)\", \"hoverinfo\": \"name\", \"legendgroup\": \"rgb(46, 137, 205)\", \"mode\": \"none\", \"name\": \"Planning\", \"type\": \"scatter\", \"x\": [\"2020-06-07\", \"2020-06-14\", \"2020-06-14\", \"2020-06-07\", \"2020-06-07\", \"2020-05-25\", \"2020-05-29\", \"2020-05-29\", \"2020-05-25\", \"2020-05-25\", \"2020-05-11\", \"2020-05-15\", \"2020-05-15\", \"2020-05-11\", \"2020-05-11\", \"2020-04-02\", \"2020-04-24\", \"2020-04-24\", \"2020-04-02\"], \"y\": [0.5, 0.5, 1.5, 1.5, null, 2.5, 2.5, 3.5, 3.5, null, 4.5, 4.5, 5.5, 5.5, null, 6.5, 6.5, 7.5, 7.5]}, {\"fill\": \"toself\", \"fillcolor\": \"rgb(58, 149, 136)\", \"hoverinfo\": \"name\", \"legendgroup\": \"rgb(58, 149, 136)\", \"mode\": \"none\", \"name\": \"Final_outcome\", \"type\": \"scatter\", \"x\": [\"2020-06-14\", \"2020-06-20\", \"2020-06-20\", \"2020-06-14\"], \"y\": [-0.5, -0.5, 0.5, 0.5]}, {\"legendgroup\": \"rgb(114, 44, 121)\", \"marker\": {\"color\": \"rgb(114, 44, 121)\", \"opacity\": 0, \"size\": 1}, \"mode\": \"markers\", \"name\": \"\", \"showlegend\": false, \"text\": [null, null], \"type\": \"scatter\", \"x\": [\"2020-05-15\", \"2020-05-26\"], \"y\": [4, 4]}, {\"legendgroup\": \"rgb(198, 47, 105)\", \"marker\": {\"color\": \"rgb(198, 47, 105)\", \"opacity\": 0, \"size\": 1}, \"mode\": \"markers\", \"name\": \"\", \"showlegend\": false, \"text\": [null, null, null, null], \"type\": \"scatter\", \"x\": [\"2020-05-29\", \"2020-06-09\", \"2020-04-17\", \"2020-05-12\"], \"y\": [2, 2, 6, 6]}, {\"legendgroup\": \"rgb(46, 137, 205)\", \"marker\": {\"color\": \"rgb(46, 137, 205)\", \"opacity\": 0, \"size\": 1}, \"mode\": \"markers\", \"name\": \"\", \"showlegend\": false, \"text\": [null, null, null, null, null, null, null, null], \"type\": \"scatter\", \"x\": [\"2020-06-07\", \"2020-06-14\", \"2020-05-25\", \"2020-05-29\", \"2020-05-11\", \"2020-05-15\", \"2020-04-02\", \"2020-04-24\"], \"y\": [1, 1, 3, 3, 5, 5, 7, 7]}, {\"legendgroup\": \"rgb(58, 149, 136)\", \"marker\": {\"color\": \"rgb(58, 149, 136)\", \"opacity\": 0, \"size\": 1}, \"mode\": \"markers\", \"name\": \"\", \"showlegend\": false, \"text\": [null, null], \"type\": \"scatter\", \"x\": [\"2020-06-14\", \"2020-06-20\"], \"y\": [0, 0]}],\n",
       "                        {\"height\": 600, \"hovermode\": \"closest\", \"showlegend\": true, \"template\": {\"data\": {\"bar\": [{\"error_x\": {\"color\": \"#2a3f5f\"}, \"error_y\": {\"color\": \"#2a3f5f\"}, \"marker\": {\"line\": {\"color\": \"#E5ECF6\", \"width\": 0.5}}, \"type\": \"bar\"}], \"barpolar\": [{\"marker\": {\"line\": {\"color\": \"#E5ECF6\", \"width\": 0.5}}, \"type\": \"barpolar\"}], \"carpet\": [{\"aaxis\": {\"endlinecolor\": \"#2a3f5f\", \"gridcolor\": \"white\", \"linecolor\": \"white\", \"minorgridcolor\": \"white\", \"startlinecolor\": \"#2a3f5f\"}, \"baxis\": {\"endlinecolor\": \"#2a3f5f\", \"gridcolor\": \"white\", \"linecolor\": \"white\", \"minorgridcolor\": \"white\", \"startlinecolor\": \"#2a3f5f\"}, \"type\": \"carpet\"}], \"choropleth\": [{\"colorbar\": {\"outlinewidth\": 0, \"ticks\": \"\"}, \"type\": \"choropleth\"}], \"contour\": [{\"colorbar\": {\"outlinewidth\": 0, \"ticks\": \"\"}, \"colorscale\": [[0.0, \"#0d0887\"], [0.1111111111111111, \"#46039f\"], [0.2222222222222222, \"#7201a8\"], [0.3333333333333333, \"#9c179e\"], [0.4444444444444444, \"#bd3786\"], [0.5555555555555556, \"#d8576b\"], [0.6666666666666666, \"#ed7953\"], [0.7777777777777778, \"#fb9f3a\"], [0.8888888888888888, \"#fdca26\"], [1.0, \"#f0f921\"]], \"type\": \"contour\"}], \"contourcarpet\": [{\"colorbar\": {\"outlinewidth\": 0, \"ticks\": \"\"}, \"type\": \"contourcarpet\"}], \"heatmap\": [{\"colorbar\": {\"outlinewidth\": 0, \"ticks\": \"\"}, \"colorscale\": [[0.0, \"#0d0887\"], [0.1111111111111111, \"#46039f\"], [0.2222222222222222, \"#7201a8\"], [0.3333333333333333, \"#9c179e\"], [0.4444444444444444, \"#bd3786\"], [0.5555555555555556, \"#d8576b\"], [0.6666666666666666, \"#ed7953\"], [0.7777777777777778, \"#fb9f3a\"], [0.8888888888888888, \"#fdca26\"], [1.0, \"#f0f921\"]], \"type\": \"heatmap\"}], \"heatmapgl\": [{\"colorbar\": {\"outlinewidth\": 0, \"ticks\": \"\"}, \"colorscale\": [[0.0, \"#0d0887\"], [0.1111111111111111, \"#46039f\"], [0.2222222222222222, \"#7201a8\"], [0.3333333333333333, \"#9c179e\"], [0.4444444444444444, \"#bd3786\"], [0.5555555555555556, \"#d8576b\"], [0.6666666666666666, \"#ed7953\"], [0.7777777777777778, \"#fb9f3a\"], [0.8888888888888888, \"#fdca26\"], [1.0, \"#f0f921\"]], \"type\": \"heatmapgl\"}], \"histogram\": [{\"marker\": {\"colorbar\": {\"outlinewidth\": 0, \"ticks\": \"\"}}, \"type\": \"histogram\"}], \"histogram2d\": [{\"colorbar\": {\"outlinewidth\": 0, \"ticks\": \"\"}, \"colorscale\": [[0.0, \"#0d0887\"], [0.1111111111111111, \"#46039f\"], [0.2222222222222222, \"#7201a8\"], [0.3333333333333333, \"#9c179e\"], [0.4444444444444444, \"#bd3786\"], [0.5555555555555556, \"#d8576b\"], [0.6666666666666666, \"#ed7953\"], [0.7777777777777778, \"#fb9f3a\"], [0.8888888888888888, \"#fdca26\"], [1.0, \"#f0f921\"]], \"type\": \"histogram2d\"}], \"histogram2dcontour\": [{\"colorbar\": {\"outlinewidth\": 0, \"ticks\": \"\"}, \"colorscale\": [[0.0, \"#0d0887\"], [0.1111111111111111, \"#46039f\"], [0.2222222222222222, \"#7201a8\"], [0.3333333333333333, \"#9c179e\"], [0.4444444444444444, \"#bd3786\"], [0.5555555555555556, \"#d8576b\"], [0.6666666666666666, \"#ed7953\"], [0.7777777777777778, \"#fb9f3a\"], [0.8888888888888888, \"#fdca26\"], [1.0, \"#f0f921\"]], \"type\": \"histogram2dcontour\"}], \"mesh3d\": [{\"colorbar\": {\"outlinewidth\": 0, \"ticks\": \"\"}, \"type\": \"mesh3d\"}], \"parcoords\": [{\"line\": {\"colorbar\": {\"outlinewidth\": 0, \"ticks\": \"\"}}, \"type\": \"parcoords\"}], \"pie\": [{\"automargin\": true, \"type\": \"pie\"}], \"scatter\": [{\"marker\": {\"colorbar\": {\"outlinewidth\": 0, \"ticks\": \"\"}}, \"type\": \"scatter\"}], \"scatter3d\": [{\"line\": {\"colorbar\": {\"outlinewidth\": 0, \"ticks\": \"\"}}, \"marker\": {\"colorbar\": {\"outlinewidth\": 0, \"ticks\": \"\"}}, \"type\": \"scatter3d\"}], \"scattercarpet\": [{\"marker\": {\"colorbar\": {\"outlinewidth\": 0, \"ticks\": \"\"}}, \"type\": \"scattercarpet\"}], \"scattergeo\": [{\"marker\": {\"colorbar\": {\"outlinewidth\": 0, \"ticks\": \"\"}}, \"type\": \"scattergeo\"}], \"scattergl\": [{\"marker\": {\"colorbar\": {\"outlinewidth\": 0, \"ticks\": \"\"}}, \"type\": \"scattergl\"}], \"scattermapbox\": [{\"marker\": {\"colorbar\": {\"outlinewidth\": 0, \"ticks\": \"\"}}, \"type\": \"scattermapbox\"}], \"scatterpolar\": [{\"marker\": {\"colorbar\": {\"outlinewidth\": 0, \"ticks\": \"\"}}, \"type\": \"scatterpolar\"}], \"scatterpolargl\": [{\"marker\": {\"colorbar\": {\"outlinewidth\": 0, \"ticks\": \"\"}}, \"type\": \"scatterpolargl\"}], \"scatterternary\": [{\"marker\": {\"colorbar\": {\"outlinewidth\": 0, \"ticks\": \"\"}}, \"type\": \"scatterternary\"}], \"surface\": [{\"colorbar\": {\"outlinewidth\": 0, \"ticks\": \"\"}, \"colorscale\": [[0.0, \"#0d0887\"], [0.1111111111111111, \"#46039f\"], [0.2222222222222222, \"#7201a8\"], [0.3333333333333333, \"#9c179e\"], [0.4444444444444444, \"#bd3786\"], [0.5555555555555556, \"#d8576b\"], [0.6666666666666666, \"#ed7953\"], [0.7777777777777778, \"#fb9f3a\"], [0.8888888888888888, \"#fdca26\"], [1.0, \"#f0f921\"]], \"type\": \"surface\"}], \"table\": [{\"cells\": {\"fill\": {\"color\": \"#EBF0F8\"}, \"line\": {\"color\": \"white\"}}, \"header\": {\"fill\": {\"color\": \"#C8D4E3\"}, \"line\": {\"color\": \"white\"}}, \"type\": \"table\"}]}, \"layout\": {\"annotationdefaults\": {\"arrowcolor\": \"#2a3f5f\", \"arrowhead\": 0, \"arrowwidth\": 1}, \"coloraxis\": {\"colorbar\": {\"outlinewidth\": 0, \"ticks\": \"\"}}, \"colorscale\": {\"diverging\": [[0, \"#8e0152\"], [0.1, \"#c51b7d\"], [0.2, \"#de77ae\"], [0.3, \"#f1b6da\"], [0.4, \"#fde0ef\"], [0.5, \"#f7f7f7\"], [0.6, \"#e6f5d0\"], [0.7, \"#b8e186\"], [0.8, \"#7fbc41\"], [0.9, \"#4d9221\"], [1, \"#276419\"]], \"sequential\": [[0.0, \"#0d0887\"], [0.1111111111111111, \"#46039f\"], [0.2222222222222222, \"#7201a8\"], [0.3333333333333333, \"#9c179e\"], [0.4444444444444444, \"#bd3786\"], [0.5555555555555556, \"#d8576b\"], [0.6666666666666666, \"#ed7953\"], [0.7777777777777778, \"#fb9f3a\"], [0.8888888888888888, \"#fdca26\"], [1.0, \"#f0f921\"]], \"sequentialminus\": [[0.0, \"#0d0887\"], [0.1111111111111111, \"#46039f\"], [0.2222222222222222, \"#7201a8\"], [0.3333333333333333, \"#9c179e\"], [0.4444444444444444, \"#bd3786\"], [0.5555555555555556, \"#d8576b\"], [0.6666666666666666, \"#ed7953\"], [0.7777777777777778, \"#fb9f3a\"], [0.8888888888888888, \"#fdca26\"], [1.0, \"#f0f921\"]]}, \"colorway\": [\"#636efa\", \"#EF553B\", \"#00cc96\", \"#ab63fa\", \"#FFA15A\", \"#19d3f3\", \"#FF6692\", \"#B6E880\", \"#FF97FF\", \"#FECB52\"], \"font\": {\"color\": \"#2a3f5f\"}, \"geo\": {\"bgcolor\": \"white\", \"lakecolor\": \"white\", \"landcolor\": \"#E5ECF6\", \"showlakes\": true, \"showland\": true, \"subunitcolor\": \"white\"}, \"hoverlabel\": {\"align\": \"left\"}, \"hovermode\": \"closest\", \"mapbox\": {\"style\": \"light\"}, \"paper_bgcolor\": \"white\", \"plot_bgcolor\": \"#E5ECF6\", \"polar\": {\"angularaxis\": {\"gridcolor\": \"white\", \"linecolor\": \"white\", \"ticks\": \"\"}, \"bgcolor\": \"#E5ECF6\", \"radialaxis\": {\"gridcolor\": \"white\", \"linecolor\": \"white\", \"ticks\": \"\"}}, \"scene\": {\"xaxis\": {\"backgroundcolor\": \"#E5ECF6\", \"gridcolor\": \"white\", \"gridwidth\": 2, \"linecolor\": \"white\", \"showbackground\": true, \"ticks\": \"\", \"zerolinecolor\": \"white\"}, \"yaxis\": {\"backgroundcolor\": \"#E5ECF6\", \"gridcolor\": \"white\", \"gridwidth\": 2, \"linecolor\": \"white\", \"showbackground\": true, \"ticks\": \"\", \"zerolinecolor\": \"white\"}, \"zaxis\": {\"backgroundcolor\": \"#E5ECF6\", \"gridcolor\": \"white\", \"gridwidth\": 2, \"linecolor\": \"white\", \"showbackground\": true, \"ticks\": \"\", \"zerolinecolor\": \"white\"}}, \"shapedefaults\": {\"line\": {\"color\": \"#2a3f5f\"}}, \"ternary\": {\"aaxis\": {\"gridcolor\": \"white\", \"linecolor\": \"white\", \"ticks\": \"\"}, \"baxis\": {\"gridcolor\": \"white\", \"linecolor\": \"white\", \"ticks\": \"\"}, \"bgcolor\": \"#E5ECF6\", \"caxis\": {\"gridcolor\": \"white\", \"linecolor\": \"white\", \"ticks\": \"\"}}, \"title\": {\"x\": 0.05}, \"xaxis\": {\"automargin\": true, \"gridcolor\": \"white\", \"linecolor\": \"white\", \"ticks\": \"\", \"title\": {\"standoff\": 15}, \"zerolinecolor\": \"white\", \"zerolinewidth\": 2}, \"yaxis\": {\"automargin\": true, \"gridcolor\": \"white\", \"linecolor\": \"white\", \"ticks\": \"\", \"title\": {\"standoff\": 15}, \"zerolinecolor\": \"white\", \"zerolinewidth\": 2}}}, \"title\": {\"text\": \"Overall Project Sprint Timeline\"}, \"xaxis\": {\"rangeselector\": {\"buttons\": [{\"count\": 7, \"label\": \"1w\", \"step\": \"day\", \"stepmode\": \"backward\"}, {\"count\": 1, \"label\": \"1m\", \"step\": \"month\", \"stepmode\": \"backward\"}, {\"count\": 6, \"label\": \"6m\", \"step\": \"month\", \"stepmode\": \"backward\"}, {\"count\": 1, \"label\": \"YTD\", \"step\": \"year\", \"stepmode\": \"todate\"}, {\"count\": 1, \"label\": \"1y\", \"step\": \"year\", \"stepmode\": \"backward\"}, {\"step\": \"all\"}]}, \"showgrid\": false, \"type\": \"date\", \"zeroline\": false}, \"yaxis\": {\"autorange\": false, \"range\": [-1, 9], \"showgrid\": false, \"ticktext\": [\"V1.0 Release + BUFFER\", \"BUFFER\", \"Sprint 3\", \"Rev+Plan 2-3\", \"Sprint 2\", \"Rev+Plan 1-2\", \"Sprint 1\", \"Sprint 0\"], \"tickvals\": [0, 1, 2, 3, 4, 5, 6, 7], \"zeroline\": false}},\n",
       "                        {\"responsive\": true}\n",
       "                    ).then(function(){\n",
       "                            \n",
       "var gd = document.getElementById('4d8032f7-86be-4ebe-8954-b2092453ef6e');\n",
       "var x = new MutationObserver(function (mutations, observer) {{\n",
       "        var display = window.getComputedStyle(gd).display;\n",
       "        if (!display || display === 'none') {{\n",
       "            console.log([gd, 'removed!']);\n",
       "            Plotly.purge(gd);\n",
       "            observer.disconnect();\n",
       "        }}\n",
       "}});\n",
       "\n",
       "// Listen for the removal of the full notebook cells\n",
       "var notebookContainer = gd.closest('#notebook-container');\n",
       "if (notebookContainer) {{\n",
       "    x.observe(notebookContainer, {childList: true});\n",
       "}}\n",
       "\n",
       "// Listen for the clearing of the current output cell\n",
       "var outputEl = gd.closest('.output');\n",
       "if (outputEl) {{\n",
       "    x.observe(outputEl, {childList: true});\n",
       "}}\n",
       "\n",
       "                        })\n",
       "                };\n",
       "                });\n",
       "            </script>\n",
       "        </div>"
      ]
     },
     "metadata": {},
     "output_type": "display_data"
    }
   ],
   "source": [
    "sprint_timeline = [\n",
    "      dict(Task='Sprint 0',     Start='2020-04-02', Finish='2020-04-24', Resource='Planning'),\n",
    "      dict(Task='Sprint 1',     Start='2020-04-17', Finish='2020-05-12', Resource=\"Core_Programming\"),\n",
    "      dict(Task='Rev+Plan 1-2', Start='2020-05-11', Finish='2020-05-15', Resource=\"Planning\"),\n",
    "      dict(Task='Sprint 2',     Start='2020-05-15', Finish='2020-05-26', Resource=\"Data_pretreatment\"),\n",
    "      dict(Task='Rev+Plan 2-3', Start='2020-05-25', Finish='2020-05-29', Resource=\"Planning\"),\n",
    "      dict(Task=\"Sprint 3\",     Start='2020-05-29', Finish='2020-06-09', Resource='Core_Programming'),\n",
    "      dict(Task='BUFFER', Start='2020-06-07', Finish='2020-06-14', Resource=\"Planning\"),\n",
    "      dict(Task=\"V1.0 Release + BUFFER\", Start='2020-06-14', Finish='2020-06-20', Resource='Final_outcome')\n",
    "      ]\n",
    "\n",
    "colors = dict(Planning = 'rgb(46, 137, 205)',\n",
    "              Data_pretreatment = 'rgb(114, 44, 121)',\n",
    "              Core_Programming = 'rgb(198, 47, 105)',\n",
    "              Final_outcome = 'rgb(58, 149, 136)')\n",
    "\n",
    "sprint_timeline.reverse()  # I prefer to index based on \n",
    "time_fig = ff.create_gantt(sprint_timeline, colors=colors, index_col='Resource', bar_width=0.5,\n",
    "                      show_colorbar=True, title=\"Overall Project Sprint Timeline\")\n",
    "time_fig.show()"
   ]
  },
  {
   "cell_type": "code",
   "execution_count": 25,
   "metadata": {},
   "outputs": [],
   "source": [
    "# Once you've run the whole Jupyter Notebook, run this again here, to plot the Sprint plans at the top!\n",
    "try:\n",
    "    sprint1_fig.show()\n",
    "    sprint2_fig.show()\n",
    "    sprint3_fig.show()\n",
    "except NameError:\n",
    "    pass"
   ]
  },
  {
   "cell_type": "markdown",
   "metadata": {},
   "source": [
    "## Project Breakdown: Design from Final Vision Specification\n",
    "For each of the Three-Sprints and the Final Product, describe the <span style=\"color: red;\">REQUIREMENTS</span>,\n",
    "<span style=\"color: blue;\">GOALS</span>, and\n",
    "<span style=\"color: green;\">STRETCH-GOALS</span>!\n",
    "\n",
    "*Question as I'm writing this: Should I be listing the Sprint focus (aka the \"New Items\", or describe the Total Status? That's just like asking whether we are planning from \"Start$\\Rightarrow$Finish\" or \"FinalProject$\\Rightarrow$InitialWork\"... I think the right answer is to have the FULL spec up front and then break down the sprint deliverables from there.\n",
    "\n",
    "Make sure to hit upon each of the following topics in each update:\n",
    " * Documentation and Usability (Includes CI, Docs, Tutorials, Testing, and Package Downloadability\n",
    " * Data Types + Formats Supported\n",
    " * Method(s) of Transforming data into images (mathematical AND plot manipulation)\n",
    " * Method(s) of setting up and executing CNN Training model\n",
    " * Format of Results\n",
    " * Expected performance quality (Accuracy? RunTime?) \n",
    " * What types of \"Data Logic\", \"Smart Programming\", or \"Learning\" do we execute?\n",
    "\n",
    "### Final Product Specification:\n",
    "The final project will follow our team's Vision statement, with the possibility of any Stretch-goals or any changes we make along the way to the scope based on what we learn as we go. \n",
    "\n",
    "##### Documentation: \n",
    " * Fully functional package, with tutorials guiding user to set up the program with whatever data they have\n",
    " * Hopefully get Test Coverage into the high 80's (coverage of some UI functions will not be able to Travis?)\n",
    "##### Data Supported:\n",
    " * At the end of the project, work on supporting as many data types as reasonable.\n",
    " * Possibly add User-Interaction or Configuration-File ability to most efficiently use new setups.\n",
    "##### Transformations on Data:\n",
    " * Expansive list of Transformations including 1D, 2D, and Domain-Changes (aka Fourier or Laplace)\n",
    " * Also a list of known combined-transformations (such as Integral of Log-transformed data) for even more possible options\n",
    " * Option to Continue trying new (at random, ordered by complexity, or otherwise) transformations until performance gets to a certain metric\n",
    " * <span style=\"color: green;\">[Stretch]</span> Incorporate \"Smart\" type feedback and configuration to perform the most-likely-to-be-valuable transformations. This may include choices based on knowledge of prior runs, or based on some immediate pre - analysis of the data.\n",
    "##### Transformation into Images:\n",
    " * Ability to modify image size (pixel count) as desired, for either better Time-Performance or Data-Completeness (lossless?) which serve two very different use-cases\n",
    " * Ability to setup and configure the \"complexity\" of images you will use, from 1D data (single transformations each for X and Y?) to 8-dimension RGB/CMYK convolutions. (Partially <span style=\"color: green;\">[Stretch]</span>)\n",
    "##### Setup and Execution of CNN\n",
    " * CNN setup using learnings (made by team during scope of term) of 'probably best' parameters.\n",
    " * Set of CNN routines to optimize hyperparameters\n",
    " * Option of whether to optimize HParams for each transformation, or to choose one optimization for all. (aka control over loop nesting). May enforce defaults based on team learnings\n",
    " * <span style=\"color: green;\">[Stretch]</span> Choose Initial HyperParams AND Strategy automatically based on factors about the data such as Size, Transform, etc\n",
    "##### Result Format / Interface\n",
    " * Save Best-Performing model(s? n#?) to be loaded and used later __Note: need a function for loading + using models.__\n",
    " * Log each run with runtime, performance, and user parameters (for repeatability)\n",
    " * Produce Data-Report for run with the top (n#) performing model runs / images, each of their performances, and their parameters + Data-Transformations\n",
    " * Produce Transformation-Report, with the top (n#) of top-associated transformations and their positions/convolutions, which may be useful for user discoveries based on their data\n",
    " * <span style=\"color: green;\">[Stretch]</span> Produce Image-file of the \"Black Box's Insides\" - I forget what this is called, but it featuremaps what is the most important filters that it found.\n",
    "##### Expected Performance Goals\n",
    " * With options set to minimize time, want to be able to fully train a dataset of 10,000 files in <1hr, with 90% accuracy __(NOTE   :   I CHOSE THESE NUMBERS AT RANDOM. PLEASE RE-EVALUATE)__\n",
    " * With options set to maximize quality and thorough transformations, can run for a roughly USER-SET amount of time, and will continue to try new transformations And/Or optimizations until that time.\n",
    " * If we get access to high computing power resources, we should be able to optimize settings to take advantage of that, and routinely acheive >99% accuracy in less than a day of runtime?\n",
    "##### \"Smart\" Logic and Meta-Learning\n",
    " * None in main scope at this time"
   ]
  },
  {
   "cell_type": "markdown",
   "metadata": {},
   "source": [
    "### SPRINT 1: April 17th $\\Rightarrow$ April 28th\n",
    "The final project will follow our team's Vision statement, with the possibility of any Stretch-goals or any changes we make along the way to the scope based on what we learn as we go. \n",
    "\n",
    "##### Documentation: \n",
    " * Setup Travis.CI in github repo and have it Passing (at some point)\n",
    " * Setup ReadTheDocs in repo\n",
    " * Finish [Functional](https://en.wikipedia.org/wiki/Functional_specification) and Component Specifications \n",
    "<span style=\"color: green;\">(w/ Optional Diagrams)</span>\n",
    " * Set up all expected .py files with all functions in the Functional Spec (they can be empty, but add Docstrings whenever possible to explain them!)\n",
    " * Document DATA-FLOW strategy to show which packages are intended to wrap/use the others, and set them up to import eachother as needed\n",
    "##### Data Supported:\n",
    " * Can interperet folder-structure as classifier names (ignore parsing filenames for now)\n",
    " * Starting with 2-column CSV files with only \"Row 0\" column headings.\n",
    "    * Use Functions to generate that data for simple arethmatic f(n)s - ie model distinguishing between line and sin()\n",
    " * Can import data from whatever source we are generating \"Small Angle Scatter\" data (TBD)\n",
    " * Test both of these formats to ensure that they work\n",
    "##### Transformations on Data:\n",
    " * Program the listed 1-D functions\n",
    " * write f(n)s to perform each of these and hand off to image processing\n",
    "##### Transformation into Images:\n",
    " * Can prepare images in the format that the CNN expects them *(I'm not sure what fn to put in charge)*\n",
    "##### Setup and Execution of CNN\n",
    " * CNN setup as built on infrastructure from last term\n",
    " * List of Hyperparameters and some ability to cycle through and optimize\n",
    " * Ability for user to \"control\" the duration of the optimization (of course, with performance tradeoffs)\n",
    "##### Result Format / Interface\n",
    " * Function for saving the model (optional, or \"If Better Than ##%\")\n",
    " * \n",
    "##### Expected Performance Goals\n",
    " * \n",
    "##### \"Smart\" Logic and Meta-Learning\n",
    " * "
   ]
  },
  {
   "cell_type": "code",
   "execution_count": null,
   "metadata": {},
   "outputs": [],
   "source": []
  }
 ],
 "metadata": {
  "kernelspec": {
   "display_name": "Python 3",
   "language": "python",
   "name": "python3"
  },
  "language_info": {
   "codemirror_mode": {
    "name": "ipython",
    "version": 3
   },
   "file_extension": ".py",
   "mimetype": "text/x-python",
   "name": "python",
   "nbconvert_exporter": "python",
   "pygments_lexer": "ipython3",
   "version": "3.7.4"
  }
 },
 "nbformat": 4,
 "nbformat_minor": 2
}
