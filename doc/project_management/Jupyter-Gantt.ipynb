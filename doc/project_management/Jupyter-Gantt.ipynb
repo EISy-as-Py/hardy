{
 "cells": [
  {
   "cell_type": "markdown",
   "metadata": {},
   "source": [
    "## Concept: Jupyter Gantt project Planning\n",
    "In the 2020-04-15 Standup meeting, one of the groups mentioned using a Jupyter notebook to organize their Gantt charts using Plotly! That's pretty cool so we thought we'd try it with the sample they had!\n",
    "\n",
    "There are definitely some drawbacks - It plots but doesn't actually plan or organize things for you based on Dependencies! I could write a function to do all of that, which would be cool! But it's not what we're here to do today, so I'll try and avoid doing that!\n",
    "\n",
    "For a more complete Plan, check the [Component Spec] @ (./component_specs_full.md)\n",
    "#### THEREFORE, I Propose we use these to plan and visualize, but we will need a different way to create and plan tasks! \n",
    "__*(Github, Asana, or Trello? I like Scrum boards with checklists)*__\n",
    "\n",
    "Helpful Links:\n",
    " * https://plotly.com/python/gantt/\n",
    " * https://plotly.github.io/plotly.py-docs/generated/plotly.figure_factory.create_gantt.html"
   ]
  },
  {
   "cell_type": "code",
   "execution_count": null,
   "metadata": {},
   "outputs": [],
   "source": [
    "import plotly.figure_factory as ff"
   ]
  },
  {
   "cell_type": "code",
   "execution_count": 69,
   "metadata": {},
   "outputs": [
    {
     "data": {
      "application/vnd.plotly.v1+json": {
       "config": {
        "plotlyServerURL": "https://plot.ly"
       },
       "data": [
        {
         "fill": "toself",
         "fillcolor": "rgb(114, 44, 121)",
         "hoverinfo": "name",
         "legendgroup": "rgb(114, 44, 121)",
         "mode": "none",
         "name": "Data_pretreatment",
         "type": "scatter",
         "x": [
          "2020-05-15",
          "2020-05-26",
          "2020-05-26",
          "2020-05-15"
         ],
         "y": [
          3.6,
          3.6,
          4.4,
          4.4
         ]
        },
        {
         "fill": "toself",
         "fillcolor": "rgb(198, 47, 105)",
         "hoverinfo": "name",
         "legendgroup": "rgb(198, 47, 105)",
         "mode": "none",
         "name": "Core_Programming",
         "type": "scatter",
         "x": [
          "2020-05-29",
          "2020-06-09",
          "2020-06-09",
          "2020-05-29",
          "2020-05-29",
          "2020-04-17",
          "2020-05-12",
          "2020-05-12",
          "2020-04-17"
         ],
         "y": [
          1.6,
          1.6,
          2.4,
          2.4,
          null,
          5.6,
          5.6,
          6.4,
          6.4
         ]
        },
        {
         "fill": "toself",
         "fillcolor": "rgb(46, 137, 205)",
         "hoverinfo": "name",
         "legendgroup": "rgb(46, 137, 205)",
         "mode": "none",
         "name": "Planning",
         "type": "scatter",
         "x": [
          "2020-06-07",
          "2020-06-14",
          "2020-06-14",
          "2020-06-07",
          "2020-06-07",
          "2020-05-25",
          "2020-05-29",
          "2020-05-29",
          "2020-05-25",
          "2020-05-25",
          "2020-05-11",
          "2020-05-15",
          "2020-05-15",
          "2020-05-11",
          "2020-05-11",
          "2020-04-02",
          "2020-04-24",
          "2020-04-24",
          "2020-04-02"
         ],
         "y": [
          0.6,
          0.6,
          1.4,
          1.4,
          null,
          2.6,
          2.6,
          3.4,
          3.4,
          null,
          4.6,
          4.6,
          5.4,
          5.4,
          null,
          6.6,
          6.6,
          7.4,
          7.4
         ]
        },
        {
         "fill": "toself",
         "fillcolor": "rgb(58, 149, 136)",
         "hoverinfo": "name",
         "legendgroup": "rgb(58, 149, 136)",
         "mode": "none",
         "name": "Final_outcome",
         "type": "scatter",
         "x": [
          "2020-06-14",
          "2020-06-20",
          "2020-06-20",
          "2020-06-14"
         ],
         "y": [
          -0.4,
          -0.4,
          0.4,
          0.4
         ]
        },
        {
         "legendgroup": "rgb(114, 44, 121)",
         "marker": {
          "color": "rgb(114, 44, 121)",
          "opacity": 0,
          "size": 1
         },
         "mode": "markers",
         "name": "",
         "showlegend": false,
         "text": [
          null,
          null
         ],
         "type": "scatter",
         "x": [
          "2020-05-15",
          "2020-05-26"
         ],
         "y": [
          4,
          4
         ]
        },
        {
         "legendgroup": "rgb(198, 47, 105)",
         "marker": {
          "color": "rgb(198, 47, 105)",
          "opacity": 0,
          "size": 1
         },
         "mode": "markers",
         "name": "",
         "showlegend": false,
         "text": [
          null,
          null,
          null,
          null
         ],
         "type": "scatter",
         "x": [
          "2020-05-29",
          "2020-06-09",
          "2020-04-17",
          "2020-05-12"
         ],
         "y": [
          2,
          2,
          6,
          6
         ]
        },
        {
         "legendgroup": "rgb(46, 137, 205)",
         "marker": {
          "color": "rgb(46, 137, 205)",
          "opacity": 0,
          "size": 1
         },
         "mode": "markers",
         "name": "",
         "showlegend": false,
         "text": [
          null,
          null,
          null,
          null,
          null,
          null,
          null,
          null
         ],
         "type": "scatter",
         "x": [
          "2020-06-07",
          "2020-06-14",
          "2020-05-25",
          "2020-05-29",
          "2020-05-11",
          "2020-05-15",
          "2020-04-02",
          "2020-04-24"
         ],
         "y": [
          1,
          1,
          3,
          3,
          5,
          5,
          7,
          7
         ]
        },
        {
         "legendgroup": "rgb(58, 149, 136)",
         "marker": {
          "color": "rgb(58, 149, 136)",
          "opacity": 0,
          "size": 1
         },
         "mode": "markers",
         "name": "",
         "showlegend": false,
         "text": [
          null,
          null
         ],
         "type": "scatter",
         "x": [
          "2020-06-14",
          "2020-06-20"
         ],
         "y": [
          0,
          0
         ]
        }
       ],
       "layout": {
        "height": 600,
        "hovermode": "closest",
        "showlegend": true,
        "template": {
         "data": {
          "bar": [
           {
            "error_x": {
             "color": "#2a3f5f"
            },
            "error_y": {
             "color": "#2a3f5f"
            },
            "marker": {
             "line": {
              "color": "#E5ECF6",
              "width": 0.5
             }
            },
            "type": "bar"
           }
          ],
          "barpolar": [
           {
            "marker": {
             "line": {
              "color": "#E5ECF6",
              "width": 0.5
             }
            },
            "type": "barpolar"
           }
          ],
          "carpet": [
           {
            "aaxis": {
             "endlinecolor": "#2a3f5f",
             "gridcolor": "white",
             "linecolor": "white",
             "minorgridcolor": "white",
             "startlinecolor": "#2a3f5f"
            },
            "baxis": {
             "endlinecolor": "#2a3f5f",
             "gridcolor": "white",
             "linecolor": "white",
             "minorgridcolor": "white",
             "startlinecolor": "#2a3f5f"
            },
            "type": "carpet"
           }
          ],
          "choropleth": [
           {
            "colorbar": {
             "outlinewidth": 0,
             "ticks": ""
            },
            "type": "choropleth"
           }
          ],
          "contour": [
           {
            "colorbar": {
             "outlinewidth": 0,
             "ticks": ""
            },
            "colorscale": [
             [
              0,
              "#0d0887"
             ],
             [
              0.1111111111111111,
              "#46039f"
             ],
             [
              0.2222222222222222,
              "#7201a8"
             ],
             [
              0.3333333333333333,
              "#9c179e"
             ],
             [
              0.4444444444444444,
              "#bd3786"
             ],
             [
              0.5555555555555556,
              "#d8576b"
             ],
             [
              0.6666666666666666,
              "#ed7953"
             ],
             [
              0.7777777777777778,
              "#fb9f3a"
             ],
             [
              0.8888888888888888,
              "#fdca26"
             ],
             [
              1,
              "#f0f921"
             ]
            ],
            "type": "contour"
           }
          ],
          "contourcarpet": [
           {
            "colorbar": {
             "outlinewidth": 0,
             "ticks": ""
            },
            "type": "contourcarpet"
           }
          ],
          "heatmap": [
           {
            "colorbar": {
             "outlinewidth": 0,
             "ticks": ""
            },
            "colorscale": [
             [
              0,
              "#0d0887"
             ],
             [
              0.1111111111111111,
              "#46039f"
             ],
             [
              0.2222222222222222,
              "#7201a8"
             ],
             [
              0.3333333333333333,
              "#9c179e"
             ],
             [
              0.4444444444444444,
              "#bd3786"
             ],
             [
              0.5555555555555556,
              "#d8576b"
             ],
             [
              0.6666666666666666,
              "#ed7953"
             ],
             [
              0.7777777777777778,
              "#fb9f3a"
             ],
             [
              0.8888888888888888,
              "#fdca26"
             ],
             [
              1,
              "#f0f921"
             ]
            ],
            "type": "heatmap"
           }
          ],
          "heatmapgl": [
           {
            "colorbar": {
             "outlinewidth": 0,
             "ticks": ""
            },
            "colorscale": [
             [
              0,
              "#0d0887"
             ],
             [
              0.1111111111111111,
              "#46039f"
             ],
             [
              0.2222222222222222,
              "#7201a8"
             ],
             [
              0.3333333333333333,
              "#9c179e"
             ],
             [
              0.4444444444444444,
              "#bd3786"
             ],
             [
              0.5555555555555556,
              "#d8576b"
             ],
             [
              0.6666666666666666,
              "#ed7953"
             ],
             [
              0.7777777777777778,
              "#fb9f3a"
             ],
             [
              0.8888888888888888,
              "#fdca26"
             ],
             [
              1,
              "#f0f921"
             ]
            ],
            "type": "heatmapgl"
           }
          ],
          "histogram": [
           {
            "marker": {
             "colorbar": {
              "outlinewidth": 0,
              "ticks": ""
             }
            },
            "type": "histogram"
           }
          ],
          "histogram2d": [
           {
            "colorbar": {
             "outlinewidth": 0,
             "ticks": ""
            },
            "colorscale": [
             [
              0,
              "#0d0887"
             ],
             [
              0.1111111111111111,
              "#46039f"
             ],
             [
              0.2222222222222222,
              "#7201a8"
             ],
             [
              0.3333333333333333,
              "#9c179e"
             ],
             [
              0.4444444444444444,
              "#bd3786"
             ],
             [
              0.5555555555555556,
              "#d8576b"
             ],
             [
              0.6666666666666666,
              "#ed7953"
             ],
             [
              0.7777777777777778,
              "#fb9f3a"
             ],
             [
              0.8888888888888888,
              "#fdca26"
             ],
             [
              1,
              "#f0f921"
             ]
            ],
            "type": "histogram2d"
           }
          ],
          "histogram2dcontour": [
           {
            "colorbar": {
             "outlinewidth": 0,
             "ticks": ""
            },
            "colorscale": [
             [
              0,
              "#0d0887"
             ],
             [
              0.1111111111111111,
              "#46039f"
             ],
             [
              0.2222222222222222,
              "#7201a8"
             ],
             [
              0.3333333333333333,
              "#9c179e"
             ],
             [
              0.4444444444444444,
              "#bd3786"
             ],
             [
              0.5555555555555556,
              "#d8576b"
             ],
             [
              0.6666666666666666,
              "#ed7953"
             ],
             [
              0.7777777777777778,
              "#fb9f3a"
             ],
             [
              0.8888888888888888,
              "#fdca26"
             ],
             [
              1,
              "#f0f921"
             ]
            ],
            "type": "histogram2dcontour"
           }
          ],
          "mesh3d": [
           {
            "colorbar": {
             "outlinewidth": 0,
             "ticks": ""
            },
            "type": "mesh3d"
           }
          ],
          "parcoords": [
           {
            "line": {
             "colorbar": {
              "outlinewidth": 0,
              "ticks": ""
             }
            },
            "type": "parcoords"
           }
          ],
          "pie": [
           {
            "automargin": true,
            "type": "pie"
           }
          ],
          "scatter": [
           {
            "marker": {
             "colorbar": {
              "outlinewidth": 0,
              "ticks": ""
             }
            },
            "type": "scatter"
           }
          ],
          "scatter3d": [
           {
            "line": {
             "colorbar": {
              "outlinewidth": 0,
              "ticks": ""
             }
            },
            "marker": {
             "colorbar": {
              "outlinewidth": 0,
              "ticks": ""
             }
            },
            "type": "scatter3d"
           }
          ],
          "scattercarpet": [
           {
            "marker": {
             "colorbar": {
              "outlinewidth": 0,
              "ticks": ""
             }
            },
            "type": "scattercarpet"
           }
          ],
          "scattergeo": [
           {
            "marker": {
             "colorbar": {
              "outlinewidth": 0,
              "ticks": ""
             }
            },
            "type": "scattergeo"
           }
          ],
          "scattergl": [
           {
            "marker": {
             "colorbar": {
              "outlinewidth": 0,
              "ticks": ""
             }
            },
            "type": "scattergl"
           }
          ],
          "scattermapbox": [
           {
            "marker": {
             "colorbar": {
              "outlinewidth": 0,
              "ticks": ""
             }
            },
            "type": "scattermapbox"
           }
          ],
          "scatterpolar": [
           {
            "marker": {
             "colorbar": {
              "outlinewidth": 0,
              "ticks": ""
             }
            },
            "type": "scatterpolar"
           }
          ],
          "scatterpolargl": [
           {
            "marker": {
             "colorbar": {
              "outlinewidth": 0,
              "ticks": ""
             }
            },
            "type": "scatterpolargl"
           }
          ],
          "scatterternary": [
           {
            "marker": {
             "colorbar": {
              "outlinewidth": 0,
              "ticks": ""
             }
            },
            "type": "scatterternary"
           }
          ],
          "surface": [
           {
            "colorbar": {
             "outlinewidth": 0,
             "ticks": ""
            },
            "colorscale": [
             [
              0,
              "#0d0887"
             ],
             [
              0.1111111111111111,
              "#46039f"
             ],
             [
              0.2222222222222222,
              "#7201a8"
             ],
             [
              0.3333333333333333,
              "#9c179e"
             ],
             [
              0.4444444444444444,
              "#bd3786"
             ],
             [
              0.5555555555555556,
              "#d8576b"
             ],
             [
              0.6666666666666666,
              "#ed7953"
             ],
             [
              0.7777777777777778,
              "#fb9f3a"
             ],
             [
              0.8888888888888888,
              "#fdca26"
             ],
             [
              1,
              "#f0f921"
             ]
            ],
            "type": "surface"
           }
          ],
          "table": [
           {
            "cells": {
             "fill": {
              "color": "#EBF0F8"
             },
             "line": {
              "color": "white"
             }
            },
            "header": {
             "fill": {
              "color": "#C8D4E3"
             },
             "line": {
              "color": "white"
             }
            },
            "type": "table"
           }
          ]
         },
         "layout": {
          "annotationdefaults": {
           "arrowcolor": "#2a3f5f",
           "arrowhead": 0,
           "arrowwidth": 1
          },
          "coloraxis": {
           "colorbar": {
            "outlinewidth": 0,
            "ticks": ""
           }
          },
          "colorscale": {
           "diverging": [
            [
             0,
             "#8e0152"
            ],
            [
             0.1,
             "#c51b7d"
            ],
            [
             0.2,
             "#de77ae"
            ],
            [
             0.3,
             "#f1b6da"
            ],
            [
             0.4,
             "#fde0ef"
            ],
            [
             0.5,
             "#f7f7f7"
            ],
            [
             0.6,
             "#e6f5d0"
            ],
            [
             0.7,
             "#b8e186"
            ],
            [
             0.8,
             "#7fbc41"
            ],
            [
             0.9,
             "#4d9221"
            ],
            [
             1,
             "#276419"
            ]
           ],
           "sequential": [
            [
             0,
             "#0d0887"
            ],
            [
             0.1111111111111111,
             "#46039f"
            ],
            [
             0.2222222222222222,
             "#7201a8"
            ],
            [
             0.3333333333333333,
             "#9c179e"
            ],
            [
             0.4444444444444444,
             "#bd3786"
            ],
            [
             0.5555555555555556,
             "#d8576b"
            ],
            [
             0.6666666666666666,
             "#ed7953"
            ],
            [
             0.7777777777777778,
             "#fb9f3a"
            ],
            [
             0.8888888888888888,
             "#fdca26"
            ],
            [
             1,
             "#f0f921"
            ]
           ],
           "sequentialminus": [
            [
             0,
             "#0d0887"
            ],
            [
             0.1111111111111111,
             "#46039f"
            ],
            [
             0.2222222222222222,
             "#7201a8"
            ],
            [
             0.3333333333333333,
             "#9c179e"
            ],
            [
             0.4444444444444444,
             "#bd3786"
            ],
            [
             0.5555555555555556,
             "#d8576b"
            ],
            [
             0.6666666666666666,
             "#ed7953"
            ],
            [
             0.7777777777777778,
             "#fb9f3a"
            ],
            [
             0.8888888888888888,
             "#fdca26"
            ],
            [
             1,
             "#f0f921"
            ]
           ]
          },
          "colorway": [
           "#636efa",
           "#EF553B",
           "#00cc96",
           "#ab63fa",
           "#FFA15A",
           "#19d3f3",
           "#FF6692",
           "#B6E880",
           "#FF97FF",
           "#FECB52"
          ],
          "font": {
           "color": "#2a3f5f"
          },
          "geo": {
           "bgcolor": "white",
           "lakecolor": "white",
           "landcolor": "#E5ECF6",
           "showlakes": true,
           "showland": true,
           "subunitcolor": "white"
          },
          "hoverlabel": {
           "align": "left"
          },
          "hovermode": "closest",
          "mapbox": {
           "style": "light"
          },
          "paper_bgcolor": "white",
          "plot_bgcolor": "#E5ECF6",
          "polar": {
           "angularaxis": {
            "gridcolor": "white",
            "linecolor": "white",
            "ticks": ""
           },
           "bgcolor": "#E5ECF6",
           "radialaxis": {
            "gridcolor": "white",
            "linecolor": "white",
            "ticks": ""
           }
          },
          "scene": {
           "xaxis": {
            "backgroundcolor": "#E5ECF6",
            "gridcolor": "white",
            "gridwidth": 2,
            "linecolor": "white",
            "showbackground": true,
            "ticks": "",
            "zerolinecolor": "white"
           },
           "yaxis": {
            "backgroundcolor": "#E5ECF6",
            "gridcolor": "white",
            "gridwidth": 2,
            "linecolor": "white",
            "showbackground": true,
            "ticks": "",
            "zerolinecolor": "white"
           },
           "zaxis": {
            "backgroundcolor": "#E5ECF6",
            "gridcolor": "white",
            "gridwidth": 2,
            "linecolor": "white",
            "showbackground": true,
            "ticks": "",
            "zerolinecolor": "white"
           }
          },
          "shapedefaults": {
           "line": {
            "color": "#2a3f5f"
           }
          },
          "ternary": {
           "aaxis": {
            "gridcolor": "white",
            "linecolor": "white",
            "ticks": ""
           },
           "baxis": {
            "gridcolor": "white",
            "linecolor": "white",
            "ticks": ""
           },
           "bgcolor": "#E5ECF6",
           "caxis": {
            "gridcolor": "white",
            "linecolor": "white",
            "ticks": ""
           }
          },
          "title": {
           "x": 0.05
          },
          "xaxis": {
           "automargin": true,
           "gridcolor": "white",
           "linecolor": "white",
           "ticks": "",
           "title": {
            "standoff": 15
           },
           "zerolinecolor": "white",
           "zerolinewidth": 2
          },
          "yaxis": {
           "automargin": true,
           "gridcolor": "white",
           "linecolor": "white",
           "ticks": "",
           "title": {
            "standoff": 15
           },
           "zerolinecolor": "white",
           "zerolinewidth": 2
          }
         }
        },
        "title": {
         "text": "Overall Project Sprint Timeline"
        },
        "xaxis": {
         "rangeselector": {
          "buttons": [
           {
            "count": 7,
            "label": "1w",
            "step": "day",
            "stepmode": "backward"
           },
           {
            "count": 1,
            "label": "1m",
            "step": "month",
            "stepmode": "backward"
           },
           {
            "count": 6,
            "label": "6m",
            "step": "month",
            "stepmode": "backward"
           },
           {
            "count": 1,
            "label": "YTD",
            "step": "year",
            "stepmode": "todate"
           },
           {
            "count": 1,
            "label": "1y",
            "step": "year",
            "stepmode": "backward"
           },
           {
            "step": "all"
           }
          ]
         },
         "showgrid": false,
         "type": "date",
         "zeroline": false
        },
        "yaxis": {
         "autorange": false,
         "range": [
          -1,
          9
         ],
         "showgrid": false,
         "ticktext": [
          "V1.0 Release + BUFFER",
          "BUFFER",
          "Sprint 3",
          "Rev+Plan 2-3",
          "Sprint 2",
          "Rev+Plan 1-2",
          "Sprint 1",
          "Sprint 0"
         ],
         "tickvals": [
          0,
          1,
          2,
          3,
          4,
          5,
          6,
          7
         ],
         "zeroline": false
        }
       }
      },
      "text/html": [
       "<div>\n",
       "        \n",
       "        \n",
       "            <div id=\"95614b7a-d85d-4393-9819-fcfdaeaa5633\" class=\"plotly-graph-div\" style=\"height:600px; width:100%;\"></div>\n",
       "            <script type=\"text/javascript\">\n",
       "                require([\"plotly\"], function(Plotly) {\n",
       "                    window.PLOTLYENV=window.PLOTLYENV || {};\n",
       "                    \n",
       "                if (document.getElementById(\"95614b7a-d85d-4393-9819-fcfdaeaa5633\")) {\n",
       "                    Plotly.newPlot(\n",
       "                        '95614b7a-d85d-4393-9819-fcfdaeaa5633',\n",
       "                        [{\"fill\": \"toself\", \"fillcolor\": \"rgb(114, 44, 121)\", \"hoverinfo\": \"name\", \"legendgroup\": \"rgb(114, 44, 121)\", \"mode\": \"none\", \"name\": \"Data_pretreatment\", \"type\": \"scatter\", \"x\": [\"2020-05-15\", \"2020-05-26\", \"2020-05-26\", \"2020-05-15\"], \"y\": [3.6, 3.6, 4.4, 4.4]}, {\"fill\": \"toself\", \"fillcolor\": \"rgb(198, 47, 105)\", \"hoverinfo\": \"name\", \"legendgroup\": \"rgb(198, 47, 105)\", \"mode\": \"none\", \"name\": \"Core_Programming\", \"type\": \"scatter\", \"x\": [\"2020-05-29\", \"2020-06-09\", \"2020-06-09\", \"2020-05-29\", \"2020-05-29\", \"2020-04-17\", \"2020-05-12\", \"2020-05-12\", \"2020-04-17\"], \"y\": [1.6, 1.6, 2.4, 2.4, null, 5.6, 5.6, 6.4, 6.4]}, {\"fill\": \"toself\", \"fillcolor\": \"rgb(46, 137, 205)\", \"hoverinfo\": \"name\", \"legendgroup\": \"rgb(46, 137, 205)\", \"mode\": \"none\", \"name\": \"Planning\", \"type\": \"scatter\", \"x\": [\"2020-06-07\", \"2020-06-14\", \"2020-06-14\", \"2020-06-07\", \"2020-06-07\", \"2020-05-25\", \"2020-05-29\", \"2020-05-29\", \"2020-05-25\", \"2020-05-25\", \"2020-05-11\", \"2020-05-15\", \"2020-05-15\", \"2020-05-11\", \"2020-05-11\", \"2020-04-02\", \"2020-04-24\", \"2020-04-24\", \"2020-04-02\"], \"y\": [0.6, 0.6, 1.4, 1.4, null, 2.6, 2.6, 3.4, 3.4, null, 4.6, 4.6, 5.4, 5.4, null, 6.6, 6.6, 7.4, 7.4]}, {\"fill\": \"toself\", \"fillcolor\": \"rgb(58, 149, 136)\", \"hoverinfo\": \"name\", \"legendgroup\": \"rgb(58, 149, 136)\", \"mode\": \"none\", \"name\": \"Final_outcome\", \"type\": \"scatter\", \"x\": [\"2020-06-14\", \"2020-06-20\", \"2020-06-20\", \"2020-06-14\"], \"y\": [-0.4, -0.4, 0.4, 0.4]}, {\"legendgroup\": \"rgb(114, 44, 121)\", \"marker\": {\"color\": \"rgb(114, 44, 121)\", \"opacity\": 0, \"size\": 1}, \"mode\": \"markers\", \"name\": \"\", \"showlegend\": false, \"text\": [null, null], \"type\": \"scatter\", \"x\": [\"2020-05-15\", \"2020-05-26\"], \"y\": [4, 4]}, {\"legendgroup\": \"rgb(198, 47, 105)\", \"marker\": {\"color\": \"rgb(198, 47, 105)\", \"opacity\": 0, \"size\": 1}, \"mode\": \"markers\", \"name\": \"\", \"showlegend\": false, \"text\": [null, null, null, null], \"type\": \"scatter\", \"x\": [\"2020-05-29\", \"2020-06-09\", \"2020-04-17\", \"2020-05-12\"], \"y\": [2, 2, 6, 6]}, {\"legendgroup\": \"rgb(46, 137, 205)\", \"marker\": {\"color\": \"rgb(46, 137, 205)\", \"opacity\": 0, \"size\": 1}, \"mode\": \"markers\", \"name\": \"\", \"showlegend\": false, \"text\": [null, null, null, null, null, null, null, null], \"type\": \"scatter\", \"x\": [\"2020-06-07\", \"2020-06-14\", \"2020-05-25\", \"2020-05-29\", \"2020-05-11\", \"2020-05-15\", \"2020-04-02\", \"2020-04-24\"], \"y\": [1, 1, 3, 3, 5, 5, 7, 7]}, {\"legendgroup\": \"rgb(58, 149, 136)\", \"marker\": {\"color\": \"rgb(58, 149, 136)\", \"opacity\": 0, \"size\": 1}, \"mode\": \"markers\", \"name\": \"\", \"showlegend\": false, \"text\": [null, null], \"type\": \"scatter\", \"x\": [\"2020-06-14\", \"2020-06-20\"], \"y\": [0, 0]}],\n",
       "                        {\"height\": 600, \"hovermode\": \"closest\", \"showlegend\": true, \"template\": {\"data\": {\"bar\": [{\"error_x\": {\"color\": \"#2a3f5f\"}, \"error_y\": {\"color\": \"#2a3f5f\"}, \"marker\": {\"line\": {\"color\": \"#E5ECF6\", \"width\": 0.5}}, \"type\": \"bar\"}], \"barpolar\": [{\"marker\": {\"line\": {\"color\": \"#E5ECF6\", \"width\": 0.5}}, \"type\": \"barpolar\"}], \"carpet\": [{\"aaxis\": {\"endlinecolor\": \"#2a3f5f\", \"gridcolor\": \"white\", \"linecolor\": \"white\", \"minorgridcolor\": \"white\", \"startlinecolor\": \"#2a3f5f\"}, \"baxis\": {\"endlinecolor\": \"#2a3f5f\", \"gridcolor\": \"white\", \"linecolor\": \"white\", \"minorgridcolor\": \"white\", \"startlinecolor\": \"#2a3f5f\"}, \"type\": \"carpet\"}], \"choropleth\": [{\"colorbar\": {\"outlinewidth\": 0, \"ticks\": \"\"}, \"type\": \"choropleth\"}], \"contour\": [{\"colorbar\": {\"outlinewidth\": 0, \"ticks\": \"\"}, \"colorscale\": [[0.0, \"#0d0887\"], [0.1111111111111111, \"#46039f\"], [0.2222222222222222, \"#7201a8\"], [0.3333333333333333, \"#9c179e\"], [0.4444444444444444, \"#bd3786\"], [0.5555555555555556, \"#d8576b\"], [0.6666666666666666, \"#ed7953\"], [0.7777777777777778, \"#fb9f3a\"], [0.8888888888888888, \"#fdca26\"], [1.0, \"#f0f921\"]], \"type\": \"contour\"}], \"contourcarpet\": [{\"colorbar\": {\"outlinewidth\": 0, \"ticks\": \"\"}, \"type\": \"contourcarpet\"}], \"heatmap\": [{\"colorbar\": {\"outlinewidth\": 0, \"ticks\": \"\"}, \"colorscale\": [[0.0, \"#0d0887\"], [0.1111111111111111, \"#46039f\"], [0.2222222222222222, \"#7201a8\"], [0.3333333333333333, \"#9c179e\"], [0.4444444444444444, \"#bd3786\"], [0.5555555555555556, \"#d8576b\"], [0.6666666666666666, \"#ed7953\"], [0.7777777777777778, \"#fb9f3a\"], [0.8888888888888888, \"#fdca26\"], [1.0, \"#f0f921\"]], \"type\": \"heatmap\"}], \"heatmapgl\": [{\"colorbar\": {\"outlinewidth\": 0, \"ticks\": \"\"}, \"colorscale\": [[0.0, \"#0d0887\"], [0.1111111111111111, \"#46039f\"], [0.2222222222222222, \"#7201a8\"], [0.3333333333333333, \"#9c179e\"], [0.4444444444444444, \"#bd3786\"], [0.5555555555555556, \"#d8576b\"], [0.6666666666666666, \"#ed7953\"], [0.7777777777777778, \"#fb9f3a\"], [0.8888888888888888, \"#fdca26\"], [1.0, \"#f0f921\"]], \"type\": \"heatmapgl\"}], \"histogram\": [{\"marker\": {\"colorbar\": {\"outlinewidth\": 0, \"ticks\": \"\"}}, \"type\": \"histogram\"}], \"histogram2d\": [{\"colorbar\": {\"outlinewidth\": 0, \"ticks\": \"\"}, \"colorscale\": [[0.0, \"#0d0887\"], [0.1111111111111111, \"#46039f\"], [0.2222222222222222, \"#7201a8\"], [0.3333333333333333, \"#9c179e\"], [0.4444444444444444, \"#bd3786\"], [0.5555555555555556, \"#d8576b\"], [0.6666666666666666, \"#ed7953\"], [0.7777777777777778, \"#fb9f3a\"], [0.8888888888888888, \"#fdca26\"], [1.0, \"#f0f921\"]], \"type\": \"histogram2d\"}], \"histogram2dcontour\": [{\"colorbar\": {\"outlinewidth\": 0, \"ticks\": \"\"}, \"colorscale\": [[0.0, \"#0d0887\"], [0.1111111111111111, \"#46039f\"], [0.2222222222222222, \"#7201a8\"], [0.3333333333333333, \"#9c179e\"], [0.4444444444444444, \"#bd3786\"], [0.5555555555555556, \"#d8576b\"], [0.6666666666666666, \"#ed7953\"], [0.7777777777777778, \"#fb9f3a\"], [0.8888888888888888, \"#fdca26\"], [1.0, \"#f0f921\"]], \"type\": \"histogram2dcontour\"}], \"mesh3d\": [{\"colorbar\": {\"outlinewidth\": 0, \"ticks\": \"\"}, \"type\": \"mesh3d\"}], \"parcoords\": [{\"line\": {\"colorbar\": {\"outlinewidth\": 0, \"ticks\": \"\"}}, \"type\": \"parcoords\"}], \"pie\": [{\"automargin\": true, \"type\": \"pie\"}], \"scatter\": [{\"marker\": {\"colorbar\": {\"outlinewidth\": 0, \"ticks\": \"\"}}, \"type\": \"scatter\"}], \"scatter3d\": [{\"line\": {\"colorbar\": {\"outlinewidth\": 0, \"ticks\": \"\"}}, \"marker\": {\"colorbar\": {\"outlinewidth\": 0, \"ticks\": \"\"}}, \"type\": \"scatter3d\"}], \"scattercarpet\": [{\"marker\": {\"colorbar\": {\"outlinewidth\": 0, \"ticks\": \"\"}}, \"type\": \"scattercarpet\"}], \"scattergeo\": [{\"marker\": {\"colorbar\": {\"outlinewidth\": 0, \"ticks\": \"\"}}, \"type\": \"scattergeo\"}], \"scattergl\": [{\"marker\": {\"colorbar\": {\"outlinewidth\": 0, \"ticks\": \"\"}}, \"type\": \"scattergl\"}], \"scattermapbox\": [{\"marker\": {\"colorbar\": {\"outlinewidth\": 0, \"ticks\": \"\"}}, \"type\": \"scattermapbox\"}], \"scatterpolar\": [{\"marker\": {\"colorbar\": {\"outlinewidth\": 0, \"ticks\": \"\"}}, \"type\": \"scatterpolar\"}], \"scatterpolargl\": [{\"marker\": {\"colorbar\": {\"outlinewidth\": 0, \"ticks\": \"\"}}, \"type\": \"scatterpolargl\"}], \"scatterternary\": [{\"marker\": {\"colorbar\": {\"outlinewidth\": 0, \"ticks\": \"\"}}, \"type\": \"scatterternary\"}], \"surface\": [{\"colorbar\": {\"outlinewidth\": 0, \"ticks\": \"\"}, \"colorscale\": [[0.0, \"#0d0887\"], [0.1111111111111111, \"#46039f\"], [0.2222222222222222, \"#7201a8\"], [0.3333333333333333, \"#9c179e\"], [0.4444444444444444, \"#bd3786\"], [0.5555555555555556, \"#d8576b\"], [0.6666666666666666, \"#ed7953\"], [0.7777777777777778, \"#fb9f3a\"], [0.8888888888888888, \"#fdca26\"], [1.0, \"#f0f921\"]], \"type\": \"surface\"}], \"table\": [{\"cells\": {\"fill\": {\"color\": \"#EBF0F8\"}, \"line\": {\"color\": \"white\"}}, \"header\": {\"fill\": {\"color\": \"#C8D4E3\"}, \"line\": {\"color\": \"white\"}}, \"type\": \"table\"}]}, \"layout\": {\"annotationdefaults\": {\"arrowcolor\": \"#2a3f5f\", \"arrowhead\": 0, \"arrowwidth\": 1}, \"coloraxis\": {\"colorbar\": {\"outlinewidth\": 0, \"ticks\": \"\"}}, \"colorscale\": {\"diverging\": [[0, \"#8e0152\"], [0.1, \"#c51b7d\"], [0.2, \"#de77ae\"], [0.3, \"#f1b6da\"], [0.4, \"#fde0ef\"], [0.5, \"#f7f7f7\"], [0.6, \"#e6f5d0\"], [0.7, \"#b8e186\"], [0.8, \"#7fbc41\"], [0.9, \"#4d9221\"], [1, \"#276419\"]], \"sequential\": [[0.0, \"#0d0887\"], [0.1111111111111111, \"#46039f\"], [0.2222222222222222, \"#7201a8\"], [0.3333333333333333, \"#9c179e\"], [0.4444444444444444, \"#bd3786\"], [0.5555555555555556, \"#d8576b\"], [0.6666666666666666, \"#ed7953\"], [0.7777777777777778, \"#fb9f3a\"], [0.8888888888888888, \"#fdca26\"], [1.0, \"#f0f921\"]], \"sequentialminus\": [[0.0, \"#0d0887\"], [0.1111111111111111, \"#46039f\"], [0.2222222222222222, \"#7201a8\"], [0.3333333333333333, \"#9c179e\"], [0.4444444444444444, \"#bd3786\"], [0.5555555555555556, \"#d8576b\"], [0.6666666666666666, \"#ed7953\"], [0.7777777777777778, \"#fb9f3a\"], [0.8888888888888888, \"#fdca26\"], [1.0, \"#f0f921\"]]}, \"colorway\": [\"#636efa\", \"#EF553B\", \"#00cc96\", \"#ab63fa\", \"#FFA15A\", \"#19d3f3\", \"#FF6692\", \"#B6E880\", \"#FF97FF\", \"#FECB52\"], \"font\": {\"color\": \"#2a3f5f\"}, \"geo\": {\"bgcolor\": \"white\", \"lakecolor\": \"white\", \"landcolor\": \"#E5ECF6\", \"showlakes\": true, \"showland\": true, \"subunitcolor\": \"white\"}, \"hoverlabel\": {\"align\": \"left\"}, \"hovermode\": \"closest\", \"mapbox\": {\"style\": \"light\"}, \"paper_bgcolor\": \"white\", \"plot_bgcolor\": \"#E5ECF6\", \"polar\": {\"angularaxis\": {\"gridcolor\": \"white\", \"linecolor\": \"white\", \"ticks\": \"\"}, \"bgcolor\": \"#E5ECF6\", \"radialaxis\": {\"gridcolor\": \"white\", \"linecolor\": \"white\", \"ticks\": \"\"}}, \"scene\": {\"xaxis\": {\"backgroundcolor\": \"#E5ECF6\", \"gridcolor\": \"white\", \"gridwidth\": 2, \"linecolor\": \"white\", \"showbackground\": true, \"ticks\": \"\", \"zerolinecolor\": \"white\"}, \"yaxis\": {\"backgroundcolor\": \"#E5ECF6\", \"gridcolor\": \"white\", \"gridwidth\": 2, \"linecolor\": \"white\", \"showbackground\": true, \"ticks\": \"\", \"zerolinecolor\": \"white\"}, \"zaxis\": {\"backgroundcolor\": \"#E5ECF6\", \"gridcolor\": \"white\", \"gridwidth\": 2, \"linecolor\": \"white\", \"showbackground\": true, \"ticks\": \"\", \"zerolinecolor\": \"white\"}}, \"shapedefaults\": {\"line\": {\"color\": \"#2a3f5f\"}}, \"ternary\": {\"aaxis\": {\"gridcolor\": \"white\", \"linecolor\": \"white\", \"ticks\": \"\"}, \"baxis\": {\"gridcolor\": \"white\", \"linecolor\": \"white\", \"ticks\": \"\"}, \"bgcolor\": \"#E5ECF6\", \"caxis\": {\"gridcolor\": \"white\", \"linecolor\": \"white\", \"ticks\": \"\"}}, \"title\": {\"x\": 0.05}, \"xaxis\": {\"automargin\": true, \"gridcolor\": \"white\", \"linecolor\": \"white\", \"ticks\": \"\", \"title\": {\"standoff\": 15}, \"zerolinecolor\": \"white\", \"zerolinewidth\": 2}, \"yaxis\": {\"automargin\": true, \"gridcolor\": \"white\", \"linecolor\": \"white\", \"ticks\": \"\", \"title\": {\"standoff\": 15}, \"zerolinecolor\": \"white\", \"zerolinewidth\": 2}}}, \"title\": {\"text\": \"Overall Project Sprint Timeline\"}, \"xaxis\": {\"rangeselector\": {\"buttons\": [{\"count\": 7, \"label\": \"1w\", \"step\": \"day\", \"stepmode\": \"backward\"}, {\"count\": 1, \"label\": \"1m\", \"step\": \"month\", \"stepmode\": \"backward\"}, {\"count\": 6, \"label\": \"6m\", \"step\": \"month\", \"stepmode\": \"backward\"}, {\"count\": 1, \"label\": \"YTD\", \"step\": \"year\", \"stepmode\": \"todate\"}, {\"count\": 1, \"label\": \"1y\", \"step\": \"year\", \"stepmode\": \"backward\"}, {\"step\": \"all\"}]}, \"showgrid\": false, \"type\": \"date\", \"zeroline\": false}, \"yaxis\": {\"autorange\": false, \"range\": [-1, 9], \"showgrid\": false, \"ticktext\": [\"V1.0 Release + BUFFER\", \"BUFFER\", \"Sprint 3\", \"Rev+Plan 2-3\", \"Sprint 2\", \"Rev+Plan 1-2\", \"Sprint 1\", \"Sprint 0\"], \"tickvals\": [0, 1, 2, 3, 4, 5, 6, 7], \"zeroline\": false}},\n",
       "                        {\"responsive\": true}\n",
       "                    ).then(function(){\n",
       "                            \n",
       "var gd = document.getElementById('95614b7a-d85d-4393-9819-fcfdaeaa5633');\n",
       "var x = new MutationObserver(function (mutations, observer) {{\n",
       "        var display = window.getComputedStyle(gd).display;\n",
       "        if (!display || display === 'none') {{\n",
       "            console.log([gd, 'removed!']);\n",
       "            Plotly.purge(gd);\n",
       "            observer.disconnect();\n",
       "        }}\n",
       "}});\n",
       "\n",
       "// Listen for the removal of the full notebook cells\n",
       "var notebookContainer = gd.closest('#notebook-container');\n",
       "if (notebookContainer) {{\n",
       "    x.observe(notebookContainer, {childList: true});\n",
       "}}\n",
       "\n",
       "// Listen for the clearing of the current output cell\n",
       "var outputEl = gd.closest('.output');\n",
       "if (outputEl) {{\n",
       "    x.observe(outputEl, {childList: true});\n",
       "}}\n",
       "\n",
       "                        })\n",
       "                };\n",
       "                });\n",
       "            </script>\n",
       "        </div>"
      ]
     },
     "metadata": {},
     "output_type": "display_data"
    },
    {
     "data": {
      "application/vnd.plotly.v1+json": {
       "config": {
        "plotlyServerURL": "https://plot.ly"
       },
       "data": [
        {
         "fill": "toself",
         "fillcolor": "rgb(10, 120, 10)",
         "hoverinfo": "name",
         "legendgroup": "rgb(10, 120, 10)",
         "mode": "none",
         "name": "David",
         "type": "scatter",
         "x": [
          "2020-04-17",
          "2020-04-21",
          "2020-04-21",
          "2020-04-17",
          "2020-04-17",
          "2020-04-22",
          "2020-04-24",
          "2020-04-24",
          "2020-04-22",
          "2020-04-22",
          "2020-05-10",
          "2020-05-12",
          "2020-05-12",
          "2020-05-10",
          "2020-05-10",
          "2020-04-17",
          "2020-04-19",
          "2020-04-19",
          "2020-04-17"
         ],
         "y": [
          12.6,
          12.6,
          13.4,
          13.4,
          null,
          18.6,
          18.6,
          19.4,
          19.4,
          null,
          31.6,
          31.6,
          32.4,
          32.4,
          null,
          34.6,
          34.6,
          35.4,
          35.4
         ]
        },
        {
         "fill": "toself",
         "fillcolor": "rgb(114, 44, 121)",
         "hoverinfo": "name",
         "legendgroup": "rgb(114, 44, 121)",
         "mode": "none",
         "name": "Maria",
         "type": "scatter",
         "x": [
          "2020-04-28",
          "2020-05-04",
          "2020-05-04",
          "2020-04-28",
          "2020-04-28",
          "2020-04-17",
          "2020-04-21",
          "2020-04-21",
          "2020-04-17"
         ],
         "y": [
          25.6,
          25.6,
          26.4,
          26.4,
          null,
          35.6,
          35.6,
          36.4,
          36.4
         ]
        },
        {
         "fill": "toself",
         "fillcolor": "rgb(198, 47, 105)",
         "hoverinfo": "name",
         "legendgroup": "rgb(198, 47, 105)",
         "mode": "none",
         "name": "Moeez",
         "type": "scatter",
         "x": [
          "2020-04-17",
          "2020-04-21",
          "2020-04-21",
          "2020-04-17"
         ],
         "y": [
          36.6,
          36.6,
          37.4,
          37.4
         ]
        },
        {
         "fill": "toself",
         "fillcolor": "rgb(200, 200, 200)",
         "hoverinfo": "name",
         "legendgroup": "rgb(200, 200, 200)",
         "mode": "none",
         "name": "NA",
         "type": "scatter",
         "x": [
          "2020-05-12",
          "2020-05-12",
          "2020-05-12",
          "2020-05-12",
          "2020-05-12",
          "2020-0 -  ",
          "2020-0 -  ",
          "2020-0 -  ",
          "2020-0 -  ",
          "2020-0 -  ",
          "2020-0 -  ",
          "2020-0 -  ",
          "2020-0 -  ",
          "2020-0 -  ",
          "2020-0 -  ",
          "2020-0 -  ",
          "2020-0 -  ",
          "2020-0 -  ",
          "2020-0 -  ",
          "2020-0 -  ",
          "2020-0 -  ",
          "2020-0 -  ",
          "2020-0 -  ",
          "2020-0 -  ",
          "2020-0 -  ",
          "2020-05-12",
          "2020-05-12",
          "2020-05-12",
          "2020-05-12",
          "2020-05-12",
          "2020-05-04",
          "2020-05-12",
          "2020-05-12",
          "2020-05-04",
          "2020-05-04",
          "2020-05-01",
          "2020-05-08",
          "2020-05-08",
          "2020-05-01",
          "2020-05-01",
          "2020-05-01",
          "2020-05-04",
          "2020-05-04",
          "2020-05-01",
          "2020-05-01",
          "2020-04-28",
          "2020-05-04",
          "2020-05-04",
          "2020-04-28",
          "2020-04-28",
          "2020-04-21",
          "2020-04-28",
          "2020-04-28",
          "2020-04-21",
          "2020-04-21",
          "2020-04-22",
          "2020-04-23",
          "2020-04-23",
          "2020-04-22",
          "2020-04-22",
          "2020-04-19",
          "2020-04-24",
          "2020-04-24",
          "2020-04-19",
          "2020-04-19",
          "2020-05-12",
          "2020-05-12",
          "2020-05-12",
          "2020-05-12",
          "2020-05-12",
          "2020-04-24",
          "2020-04-28",
          "2020-04-28",
          "2020-04-24",
          "2020-04-24",
          "2020-04-22",
          "2020-04-24",
          "2020-04-24",
          "2020-04-22",
          "2020-04-22",
          "2020-04-22",
          "2020-04-26",
          "2020-04-26",
          "2020-04-22",
          "2020-04-22",
          "2020-04-19",
          "2020-04-24",
          "2020-04-24",
          "2020-04-19",
          "2020-04-19",
          "2020-04-19",
          "2020-04-24",
          "2020-04-24",
          "2020-04-19",
          "2020-04-19",
          "2020-05-12",
          "2020-05-12",
          "2020-05-12",
          "2020-05-12",
          "2020-05-12",
          "2020-04-21",
          "2020-05-06",
          "2020-05-06",
          "2020-04-21",
          "2020-04-21",
          "2020-04-20",
          "2020-04-22",
          "2020-04-22",
          "2020-04-20",
          "2020-04-20",
          "2020-04-19",
          "2020-04-21",
          "2020-04-21",
          "2020-04-19",
          "2020-04-19",
          "2020-05-12",
          "2020-05-12",
          "2020-05-12",
          "2020-05-12"
         ],
         "y": [
          -0.4,
          -0.4,
          0.4,
          0.4,
          null,
          0.6,
          0.6,
          1.4,
          1.4,
          null,
          1.6,
          1.6,
          2.4,
          2.4,
          null,
          2.6,
          2.6,
          3.4,
          3.4,
          null,
          3.6,
          3.6,
          4.4,
          4.4,
          null,
          5.6,
          5.6,
          6.4,
          6.4,
          null,
          6.6,
          6.6,
          7.4,
          7.4,
          null,
          7.6,
          7.6,
          8.4,
          8.4,
          null,
          8.6,
          8.6,
          9.4,
          9.4,
          null,
          9.6,
          9.6,
          10.4,
          10.4,
          null,
          10.6,
          10.6,
          11.4,
          11.4,
          null,
          11.6,
          11.6,
          12.4,
          12.4,
          null,
          13.6,
          13.6,
          14.4,
          14.4,
          null,
          15.6,
          15.6,
          16.4,
          16.4,
          null,
          16.6,
          16.6,
          17.4,
          17.4,
          null,
          17.6,
          17.6,
          18.4,
          18.4,
          null,
          19.6,
          19.6,
          20.4,
          20.4,
          null,
          20.6,
          20.6,
          21.4,
          21.4,
          null,
          21.6,
          21.6,
          22.4,
          22.4,
          null,
          23.6,
          23.6,
          24.4,
          24.4,
          null,
          24.6,
          24.6,
          25.4,
          25.4,
          null,
          26.6,
          26.6,
          27.4,
          27.4,
          null,
          27.6,
          27.6,
          28.4,
          28.4,
          null,
          29.6,
          29.6,
          30.4,
          30.4
         ]
        },
        {
         "fill": "toself",
         "fillcolor": "rgb(30, 30, 30)",
         "hoverinfo": "name",
         "legendgroup": "rgb(30, 30, 30)",
         "mode": "none",
         "name": "TEAM",
         "type": "scatter",
         "x": [
          "2020-04-17",
          "2020-05-12",
          "2020-05-12",
          "2020-04-17",
          "2020-04-17",
          "2020-04-17",
          "2020-05-12",
          "2020-05-12",
          "2020-04-17",
          "2020-04-17",
          "2020-04-17",
          "2020-05-12",
          "2020-05-12",
          "2020-04-17",
          "2020-04-17",
          "2020-04-17",
          "2020-05-12",
          "2020-05-12",
          "2020-04-17",
          "2020-04-17",
          "2020-05-07",
          "2020-05-12",
          "2020-05-12",
          "2020-05-07",
          "2020-05-07",
          "2020-04-27",
          "2020-04-29",
          "2020-04-29",
          "2020-04-27",
          "2020-04-27",
          "2020-04-19",
          "2020-04-21",
          "2020-04-21",
          "2020-04-19",
          "2020-04-19",
          "2020-04-17",
          "2020-05-12",
          "2020-05-12",
          "2020-04-17"
         ],
         "y": [
          4.6,
          4.6,
          5.4,
          5.4,
          null,
          14.6,
          14.6,
          15.4,
          15.4,
          null,
          22.6,
          22.6,
          23.4,
          23.4,
          null,
          28.6,
          28.6,
          29.4,
          29.4,
          null,
          30.6,
          30.6,
          31.4,
          31.4,
          null,
          32.6,
          32.6,
          33.4,
          33.4,
          null,
          33.6,
          33.6,
          34.4,
          34.4,
          null,
          37.6,
          37.6,
          38.4,
          38.4
         ]
        },
        {
         "legendgroup": "rgb(10, 120, 10)",
         "marker": {
          "color": "rgb(10, 120, 10)",
          "opacity": 0,
          "size": 1
         },
         "mode": "markers",
         "name": "",
         "showlegend": false,
         "text": [
          null,
          null,
          null,
          null,
          null,
          null,
          null,
          null
         ],
         "type": "scatter",
         "x": [
          "2020-04-17",
          "2020-04-21",
          "2020-04-22",
          "2020-04-24",
          "2020-05-10",
          "2020-05-12",
          "2020-04-17",
          "2020-04-19"
         ],
         "y": [
          13,
          13,
          19,
          19,
          32,
          32,
          35,
          35
         ]
        },
        {
         "legendgroup": "rgb(114, 44, 121)",
         "marker": {
          "color": "rgb(114, 44, 121)",
          "opacity": 0,
          "size": 1
         },
         "mode": "markers",
         "name": "",
         "showlegend": false,
         "text": [
          null,
          null,
          null,
          null
         ],
         "type": "scatter",
         "x": [
          "2020-04-28",
          "2020-05-04",
          "2020-04-17",
          "2020-04-21"
         ],
         "y": [
          26,
          26,
          36,
          36
         ]
        },
        {
         "legendgroup": "rgb(198, 47, 105)",
         "marker": {
          "color": "rgb(198, 47, 105)",
          "opacity": 0,
          "size": 1
         },
         "mode": "markers",
         "name": "",
         "showlegend": false,
         "text": [
          null,
          null
         ],
         "type": "scatter",
         "x": [
          "2020-04-17",
          "2020-04-21"
         ],
         "y": [
          37,
          37
         ]
        },
        {
         "legendgroup": "rgb(200, 200, 200)",
         "marker": {
          "color": "rgb(200, 200, 200)",
          "opacity": 0,
          "size": 1
         },
         "mode": "markers",
         "name": "",
         "showlegend": false,
         "text": [
          null,
          null,
          null,
          null,
          null,
          null,
          null,
          null,
          null,
          null,
          null,
          null,
          null,
          null,
          null,
          null,
          null,
          null,
          null,
          null,
          null,
          null,
          null,
          null,
          null,
          null,
          null,
          null,
          null,
          null,
          null,
          null,
          null,
          null,
          null,
          null,
          null,
          null,
          null,
          null,
          null,
          null,
          null,
          null,
          null,
          null,
          null,
          null
         ],
         "type": "scatter",
         "x": [
          "2020-05-12",
          "2020-05-12",
          "2020-0 -  ",
          "2020-0 -  ",
          "2020-0 -  ",
          "2020-0 -  ",
          "2020-0 -  ",
          "2020-0 -  ",
          "2020-0 -  ",
          "2020-0 -  ",
          "2020-05-12",
          "2020-05-12",
          "2020-05-04",
          "2020-05-12",
          "2020-05-01",
          "2020-05-08",
          "2020-05-01",
          "2020-05-04",
          "2020-04-28",
          "2020-05-04",
          "2020-04-21",
          "2020-04-28",
          "2020-04-22",
          "2020-04-23",
          "2020-04-19",
          "2020-04-24",
          "2020-05-12",
          "2020-05-12",
          "2020-04-24",
          "2020-04-28",
          "2020-04-22",
          "2020-04-24",
          "2020-04-22",
          "2020-04-26",
          "2020-04-19",
          "2020-04-24",
          "2020-04-19",
          "2020-04-24",
          "2020-05-12",
          "2020-05-12",
          "2020-04-21",
          "2020-05-06",
          "2020-04-20",
          "2020-04-22",
          "2020-04-19",
          "2020-04-21",
          "2020-05-12",
          "2020-05-12"
         ],
         "y": [
          0,
          0,
          1,
          1,
          2,
          2,
          3,
          3,
          4,
          4,
          6,
          6,
          7,
          7,
          8,
          8,
          9,
          9,
          10,
          10,
          11,
          11,
          12,
          12,
          14,
          14,
          16,
          16,
          17,
          17,
          18,
          18,
          20,
          20,
          21,
          21,
          22,
          22,
          24,
          24,
          25,
          25,
          27,
          27,
          28,
          28,
          30,
          30
         ]
        },
        {
         "legendgroup": "rgb(30, 30, 30)",
         "marker": {
          "color": "rgb(30, 30, 30)",
          "opacity": 0,
          "size": 1
         },
         "mode": "markers",
         "name": "",
         "showlegend": false,
         "text": [
          null,
          null,
          null,
          null,
          null,
          null,
          null,
          null,
          null,
          null,
          null,
          null,
          null,
          null,
          null,
          null
         ],
         "type": "scatter",
         "x": [
          "2020-04-17",
          "2020-05-12",
          "2020-04-17",
          "2020-05-12",
          "2020-04-17",
          "2020-05-12",
          "2020-04-17",
          "2020-05-12",
          "2020-05-07",
          "2020-05-12",
          "2020-04-27",
          "2020-04-29",
          "2020-04-19",
          "2020-04-21",
          "2020-04-17",
          "2020-05-12"
         ],
         "y": [
          5,
          5,
          15,
          15,
          23,
          23,
          29,
          29,
          31,
          31,
          33,
          33,
          34,
          34,
          38,
          38
         ]
        }
       ],
       "layout": {
        "height": 600,
        "hovermode": "closest",
        "showlegend": true,
        "template": {
         "data": {
          "bar": [
           {
            "error_x": {
             "color": "#2a3f5f"
            },
            "error_y": {
             "color": "#2a3f5f"
            },
            "marker": {
             "line": {
              "color": "#E5ECF6",
              "width": 0.5
             }
            },
            "type": "bar"
           }
          ],
          "barpolar": [
           {
            "marker": {
             "line": {
              "color": "#E5ECF6",
              "width": 0.5
             }
            },
            "type": "barpolar"
           }
          ],
          "carpet": [
           {
            "aaxis": {
             "endlinecolor": "#2a3f5f",
             "gridcolor": "white",
             "linecolor": "white",
             "minorgridcolor": "white",
             "startlinecolor": "#2a3f5f"
            },
            "baxis": {
             "endlinecolor": "#2a3f5f",
             "gridcolor": "white",
             "linecolor": "white",
             "minorgridcolor": "white",
             "startlinecolor": "#2a3f5f"
            },
            "type": "carpet"
           }
          ],
          "choropleth": [
           {
            "colorbar": {
             "outlinewidth": 0,
             "ticks": ""
            },
            "type": "choropleth"
           }
          ],
          "contour": [
           {
            "colorbar": {
             "outlinewidth": 0,
             "ticks": ""
            },
            "colorscale": [
             [
              0,
              "#0d0887"
             ],
             [
              0.1111111111111111,
              "#46039f"
             ],
             [
              0.2222222222222222,
              "#7201a8"
             ],
             [
              0.3333333333333333,
              "#9c179e"
             ],
             [
              0.4444444444444444,
              "#bd3786"
             ],
             [
              0.5555555555555556,
              "#d8576b"
             ],
             [
              0.6666666666666666,
              "#ed7953"
             ],
             [
              0.7777777777777778,
              "#fb9f3a"
             ],
             [
              0.8888888888888888,
              "#fdca26"
             ],
             [
              1,
              "#f0f921"
             ]
            ],
            "type": "contour"
           }
          ],
          "contourcarpet": [
           {
            "colorbar": {
             "outlinewidth": 0,
             "ticks": ""
            },
            "type": "contourcarpet"
           }
          ],
          "heatmap": [
           {
            "colorbar": {
             "outlinewidth": 0,
             "ticks": ""
            },
            "colorscale": [
             [
              0,
              "#0d0887"
             ],
             [
              0.1111111111111111,
              "#46039f"
             ],
             [
              0.2222222222222222,
              "#7201a8"
             ],
             [
              0.3333333333333333,
              "#9c179e"
             ],
             [
              0.4444444444444444,
              "#bd3786"
             ],
             [
              0.5555555555555556,
              "#d8576b"
             ],
             [
              0.6666666666666666,
              "#ed7953"
             ],
             [
              0.7777777777777778,
              "#fb9f3a"
             ],
             [
              0.8888888888888888,
              "#fdca26"
             ],
             [
              1,
              "#f0f921"
             ]
            ],
            "type": "heatmap"
           }
          ],
          "heatmapgl": [
           {
            "colorbar": {
             "outlinewidth": 0,
             "ticks": ""
            },
            "colorscale": [
             [
              0,
              "#0d0887"
             ],
             [
              0.1111111111111111,
              "#46039f"
             ],
             [
              0.2222222222222222,
              "#7201a8"
             ],
             [
              0.3333333333333333,
              "#9c179e"
             ],
             [
              0.4444444444444444,
              "#bd3786"
             ],
             [
              0.5555555555555556,
              "#d8576b"
             ],
             [
              0.6666666666666666,
              "#ed7953"
             ],
             [
              0.7777777777777778,
              "#fb9f3a"
             ],
             [
              0.8888888888888888,
              "#fdca26"
             ],
             [
              1,
              "#f0f921"
             ]
            ],
            "type": "heatmapgl"
           }
          ],
          "histogram": [
           {
            "marker": {
             "colorbar": {
              "outlinewidth": 0,
              "ticks": ""
             }
            },
            "type": "histogram"
           }
          ],
          "histogram2d": [
           {
            "colorbar": {
             "outlinewidth": 0,
             "ticks": ""
            },
            "colorscale": [
             [
              0,
              "#0d0887"
             ],
             [
              0.1111111111111111,
              "#46039f"
             ],
             [
              0.2222222222222222,
              "#7201a8"
             ],
             [
              0.3333333333333333,
              "#9c179e"
             ],
             [
              0.4444444444444444,
              "#bd3786"
             ],
             [
              0.5555555555555556,
              "#d8576b"
             ],
             [
              0.6666666666666666,
              "#ed7953"
             ],
             [
              0.7777777777777778,
              "#fb9f3a"
             ],
             [
              0.8888888888888888,
              "#fdca26"
             ],
             [
              1,
              "#f0f921"
             ]
            ],
            "type": "histogram2d"
           }
          ],
          "histogram2dcontour": [
           {
            "colorbar": {
             "outlinewidth": 0,
             "ticks": ""
            },
            "colorscale": [
             [
              0,
              "#0d0887"
             ],
             [
              0.1111111111111111,
              "#46039f"
             ],
             [
              0.2222222222222222,
              "#7201a8"
             ],
             [
              0.3333333333333333,
              "#9c179e"
             ],
             [
              0.4444444444444444,
              "#bd3786"
             ],
             [
              0.5555555555555556,
              "#d8576b"
             ],
             [
              0.6666666666666666,
              "#ed7953"
             ],
             [
              0.7777777777777778,
              "#fb9f3a"
             ],
             [
              0.8888888888888888,
              "#fdca26"
             ],
             [
              1,
              "#f0f921"
             ]
            ],
            "type": "histogram2dcontour"
           }
          ],
          "mesh3d": [
           {
            "colorbar": {
             "outlinewidth": 0,
             "ticks": ""
            },
            "type": "mesh3d"
           }
          ],
          "parcoords": [
           {
            "line": {
             "colorbar": {
              "outlinewidth": 0,
              "ticks": ""
             }
            },
            "type": "parcoords"
           }
          ],
          "pie": [
           {
            "automargin": true,
            "type": "pie"
           }
          ],
          "scatter": [
           {
            "marker": {
             "colorbar": {
              "outlinewidth": 0,
              "ticks": ""
             }
            },
            "type": "scatter"
           }
          ],
          "scatter3d": [
           {
            "line": {
             "colorbar": {
              "outlinewidth": 0,
              "ticks": ""
             }
            },
            "marker": {
             "colorbar": {
              "outlinewidth": 0,
              "ticks": ""
             }
            },
            "type": "scatter3d"
           }
          ],
          "scattercarpet": [
           {
            "marker": {
             "colorbar": {
              "outlinewidth": 0,
              "ticks": ""
             }
            },
            "type": "scattercarpet"
           }
          ],
          "scattergeo": [
           {
            "marker": {
             "colorbar": {
              "outlinewidth": 0,
              "ticks": ""
             }
            },
            "type": "scattergeo"
           }
          ],
          "scattergl": [
           {
            "marker": {
             "colorbar": {
              "outlinewidth": 0,
              "ticks": ""
             }
            },
            "type": "scattergl"
           }
          ],
          "scattermapbox": [
           {
            "marker": {
             "colorbar": {
              "outlinewidth": 0,
              "ticks": ""
             }
            },
            "type": "scattermapbox"
           }
          ],
          "scatterpolar": [
           {
            "marker": {
             "colorbar": {
              "outlinewidth": 0,
              "ticks": ""
             }
            },
            "type": "scatterpolar"
           }
          ],
          "scatterpolargl": [
           {
            "marker": {
             "colorbar": {
              "outlinewidth": 0,
              "ticks": ""
             }
            },
            "type": "scatterpolargl"
           }
          ],
          "scatterternary": [
           {
            "marker": {
             "colorbar": {
              "outlinewidth": 0,
              "ticks": ""
             }
            },
            "type": "scatterternary"
           }
          ],
          "surface": [
           {
            "colorbar": {
             "outlinewidth": 0,
             "ticks": ""
            },
            "colorscale": [
             [
              0,
              "#0d0887"
             ],
             [
              0.1111111111111111,
              "#46039f"
             ],
             [
              0.2222222222222222,
              "#7201a8"
             ],
             [
              0.3333333333333333,
              "#9c179e"
             ],
             [
              0.4444444444444444,
              "#bd3786"
             ],
             [
              0.5555555555555556,
              "#d8576b"
             ],
             [
              0.6666666666666666,
              "#ed7953"
             ],
             [
              0.7777777777777778,
              "#fb9f3a"
             ],
             [
              0.8888888888888888,
              "#fdca26"
             ],
             [
              1,
              "#f0f921"
             ]
            ],
            "type": "surface"
           }
          ],
          "table": [
           {
            "cells": {
             "fill": {
              "color": "#EBF0F8"
             },
             "line": {
              "color": "white"
             }
            },
            "header": {
             "fill": {
              "color": "#C8D4E3"
             },
             "line": {
              "color": "white"
             }
            },
            "type": "table"
           }
          ]
         },
         "layout": {
          "annotationdefaults": {
           "arrowcolor": "#2a3f5f",
           "arrowhead": 0,
           "arrowwidth": 1
          },
          "coloraxis": {
           "colorbar": {
            "outlinewidth": 0,
            "ticks": ""
           }
          },
          "colorscale": {
           "diverging": [
            [
             0,
             "#8e0152"
            ],
            [
             0.1,
             "#c51b7d"
            ],
            [
             0.2,
             "#de77ae"
            ],
            [
             0.3,
             "#f1b6da"
            ],
            [
             0.4,
             "#fde0ef"
            ],
            [
             0.5,
             "#f7f7f7"
            ],
            [
             0.6,
             "#e6f5d0"
            ],
            [
             0.7,
             "#b8e186"
            ],
            [
             0.8,
             "#7fbc41"
            ],
            [
             0.9,
             "#4d9221"
            ],
            [
             1,
             "#276419"
            ]
           ],
           "sequential": [
            [
             0,
             "#0d0887"
            ],
            [
             0.1111111111111111,
             "#46039f"
            ],
            [
             0.2222222222222222,
             "#7201a8"
            ],
            [
             0.3333333333333333,
             "#9c179e"
            ],
            [
             0.4444444444444444,
             "#bd3786"
            ],
            [
             0.5555555555555556,
             "#d8576b"
            ],
            [
             0.6666666666666666,
             "#ed7953"
            ],
            [
             0.7777777777777778,
             "#fb9f3a"
            ],
            [
             0.8888888888888888,
             "#fdca26"
            ],
            [
             1,
             "#f0f921"
            ]
           ],
           "sequentialminus": [
            [
             0,
             "#0d0887"
            ],
            [
             0.1111111111111111,
             "#46039f"
            ],
            [
             0.2222222222222222,
             "#7201a8"
            ],
            [
             0.3333333333333333,
             "#9c179e"
            ],
            [
             0.4444444444444444,
             "#bd3786"
            ],
            [
             0.5555555555555556,
             "#d8576b"
            ],
            [
             0.6666666666666666,
             "#ed7953"
            ],
            [
             0.7777777777777778,
             "#fb9f3a"
            ],
            [
             0.8888888888888888,
             "#fdca26"
            ],
            [
             1,
             "#f0f921"
            ]
           ]
          },
          "colorway": [
           "#636efa",
           "#EF553B",
           "#00cc96",
           "#ab63fa",
           "#FFA15A",
           "#19d3f3",
           "#FF6692",
           "#B6E880",
           "#FF97FF",
           "#FECB52"
          ],
          "font": {
           "color": "#2a3f5f"
          },
          "geo": {
           "bgcolor": "white",
           "lakecolor": "white",
           "landcolor": "#E5ECF6",
           "showlakes": true,
           "showland": true,
           "subunitcolor": "white"
          },
          "hoverlabel": {
           "align": "left"
          },
          "hovermode": "closest",
          "mapbox": {
           "style": "light"
          },
          "paper_bgcolor": "white",
          "plot_bgcolor": "#E5ECF6",
          "polar": {
           "angularaxis": {
            "gridcolor": "white",
            "linecolor": "white",
            "ticks": ""
           },
           "bgcolor": "#E5ECF6",
           "radialaxis": {
            "gridcolor": "white",
            "linecolor": "white",
            "ticks": ""
           }
          },
          "scene": {
           "xaxis": {
            "backgroundcolor": "#E5ECF6",
            "gridcolor": "white",
            "gridwidth": 2,
            "linecolor": "white",
            "showbackground": true,
            "ticks": "",
            "zerolinecolor": "white"
           },
           "yaxis": {
            "backgroundcolor": "#E5ECF6",
            "gridcolor": "white",
            "gridwidth": 2,
            "linecolor": "white",
            "showbackground": true,
            "ticks": "",
            "zerolinecolor": "white"
           },
           "zaxis": {
            "backgroundcolor": "#E5ECF6",
            "gridcolor": "white",
            "gridwidth": 2,
            "linecolor": "white",
            "showbackground": true,
            "ticks": "",
            "zerolinecolor": "white"
           }
          },
          "shapedefaults": {
           "line": {
            "color": "#2a3f5f"
           }
          },
          "ternary": {
           "aaxis": {
            "gridcolor": "white",
            "linecolor": "white",
            "ticks": ""
           },
           "baxis": {
            "gridcolor": "white",
            "linecolor": "white",
            "ticks": ""
           },
           "bgcolor": "#E5ECF6",
           "caxis": {
            "gridcolor": "white",
            "linecolor": "white",
            "ticks": ""
           }
          },
          "title": {
           "x": 0.05
          },
          "xaxis": {
           "automargin": true,
           "gridcolor": "white",
           "linecolor": "white",
           "ticks": "",
           "title": {
            "standoff": 15
           },
           "zerolinecolor": "white",
           "zerolinewidth": 2
          },
          "yaxis": {
           "automargin": true,
           "gridcolor": "white",
           "linecolor": "white",
           "ticks": "",
           "title": {
            "standoff": 15
           },
           "zerolinecolor": "white",
           "zerolinewidth": 2
          }
         }
        },
        "title": {
         "text": "Sprint 1 Timeline"
        },
        "xaxis": {
         "rangeselector": {
          "buttons": [
           {
            "count": 7,
            "label": "1w",
            "step": "day",
            "stepmode": "backward"
           },
           {
            "count": 1,
            "label": "1m",
            "step": "month",
            "stepmode": "backward"
           },
           {
            "count": 6,
            "label": "6m",
            "step": "month",
            "stepmode": "backward"
           },
           {
            "count": 1,
            "label": "YTD",
            "step": "year",
            "stepmode": "todate"
           },
           {
            "count": 1,
            "label": "1y",
            "step": "year",
            "stepmode": "backward"
           },
           {
            "step": "all"
           }
          ]
         },
         "showgrid": false,
         "type": "date",
         "zeroline": false
        },
        "yaxis": {
         "autorange": false,
         "range": [
          -1,
          40
         ],
         "showgrid": true,
         "ticktext": [
          " ",
          " ",
          " ",
          " ",
          " ",
          "*OTHER TASKS*               ",
          " ",
          "Test CNN With Multi-Transform",
          "Integrate with Other Packages",
          "Automate Optimization within f(n)",
          "Set up Hyperparameter loop",
          "Get f(n) working to show at 4/28 Advisor Mtg",
          "Debug w/ Round 1 Images",
          "Learn from old CNN",
          "Write Funcitonal Specs",
          "*CNN OPTIMIZATION*               ",
          " ",
          "Check Tests against MATH data",
          "Write 1D-ish Image-Creation F(n)",
          "Learn about CNN Image types",
          "Write Data transformer",
          "Write 1D transforms",
          "Write Funcitonal Specs",
          "*TRANSFORMATION*               ",
          " ",
          "F(n)s to read files + format",
          "F(n)s to generate SAS Data?",
          "F(n)s to generate Math-Data",
          "Write Funcitonal Specs",
          "*DATA MANAGEMENT*               ",
          " ",
          "Tutorial for Sprint-Report",
          "STATUS UPDATE: Docs",
          "Mid-Sprint Advisor Meeting",
          ".py Files + Docstrings",
          "Setup F Spec Document",
          "Setup ReadTheDocs",
          "Get TRAVIS working",
          "*DOCUMENTATION*               "
         ],
         "tickvals": [
          0,
          1,
          2,
          3,
          4,
          5,
          6,
          7,
          8,
          9,
          10,
          11,
          12,
          13,
          14,
          15,
          16,
          17,
          18,
          19,
          20,
          21,
          22,
          23,
          24,
          25,
          26,
          27,
          28,
          29,
          30,
          31,
          32,
          33,
          34,
          35,
          36,
          37,
          38
         ],
         "zeroline": false
        }
       }
      },
      "text/html": [
       "<div>\n",
       "        \n",
       "        \n",
       "            <div id=\"afdc626d-26e7-40b6-8ccc-78f92be4ab83\" class=\"plotly-graph-div\" style=\"height:600px; width:100%;\"></div>\n",
       "            <script type=\"text/javascript\">\n",
       "                require([\"plotly\"], function(Plotly) {\n",
       "                    window.PLOTLYENV=window.PLOTLYENV || {};\n",
       "                    \n",
       "                if (document.getElementById(\"afdc626d-26e7-40b6-8ccc-78f92be4ab83\")) {\n",
       "                    Plotly.newPlot(\n",
       "                        'afdc626d-26e7-40b6-8ccc-78f92be4ab83',\n",
       "                        [{\"fill\": \"toself\", \"fillcolor\": \"rgb(10, 120, 10)\", \"hoverinfo\": \"name\", \"legendgroup\": \"rgb(10, 120, 10)\", \"mode\": \"none\", \"name\": \"David\", \"type\": \"scatter\", \"x\": [\"2020-04-17\", \"2020-04-21\", \"2020-04-21\", \"2020-04-17\", \"2020-04-17\", \"2020-04-22\", \"2020-04-24\", \"2020-04-24\", \"2020-04-22\", \"2020-04-22\", \"2020-05-10\", \"2020-05-12\", \"2020-05-12\", \"2020-05-10\", \"2020-05-10\", \"2020-04-17\", \"2020-04-19\", \"2020-04-19\", \"2020-04-17\"], \"y\": [12.6, 12.6, 13.4, 13.4, null, 18.6, 18.6, 19.4, 19.4, null, 31.6, 31.6, 32.4, 32.4, null, 34.6, 34.6, 35.4, 35.4]}, {\"fill\": \"toself\", \"fillcolor\": \"rgb(114, 44, 121)\", \"hoverinfo\": \"name\", \"legendgroup\": \"rgb(114, 44, 121)\", \"mode\": \"none\", \"name\": \"Maria\", \"type\": \"scatter\", \"x\": [\"2020-04-28\", \"2020-05-04\", \"2020-05-04\", \"2020-04-28\", \"2020-04-28\", \"2020-04-17\", \"2020-04-21\", \"2020-04-21\", \"2020-04-17\"], \"y\": [25.6, 25.6, 26.4, 26.4, null, 35.6, 35.6, 36.4, 36.4]}, {\"fill\": \"toself\", \"fillcolor\": \"rgb(198, 47, 105)\", \"hoverinfo\": \"name\", \"legendgroup\": \"rgb(198, 47, 105)\", \"mode\": \"none\", \"name\": \"Moeez\", \"type\": \"scatter\", \"x\": [\"2020-04-17\", \"2020-04-21\", \"2020-04-21\", \"2020-04-17\"], \"y\": [36.6, 36.6, 37.4, 37.4]}, {\"fill\": \"toself\", \"fillcolor\": \"rgb(200, 200, 200)\", \"hoverinfo\": \"name\", \"legendgroup\": \"rgb(200, 200, 200)\", \"mode\": \"none\", \"name\": \"NA\", \"type\": \"scatter\", \"x\": [\"2020-05-12\", \"2020-05-12\", \"2020-05-12\", \"2020-05-12\", \"2020-05-12\", \"2020-0 -  \", \"2020-0 -  \", \"2020-0 -  \", \"2020-0 -  \", \"2020-0 -  \", \"2020-0 -  \", \"2020-0 -  \", \"2020-0 -  \", \"2020-0 -  \", \"2020-0 -  \", \"2020-0 -  \", \"2020-0 -  \", \"2020-0 -  \", \"2020-0 -  \", \"2020-0 -  \", \"2020-0 -  \", \"2020-0 -  \", \"2020-0 -  \", \"2020-0 -  \", \"2020-0 -  \", \"2020-05-12\", \"2020-05-12\", \"2020-05-12\", \"2020-05-12\", \"2020-05-12\", \"2020-05-04\", \"2020-05-12\", \"2020-05-12\", \"2020-05-04\", \"2020-05-04\", \"2020-05-01\", \"2020-05-08\", \"2020-05-08\", \"2020-05-01\", \"2020-05-01\", \"2020-05-01\", \"2020-05-04\", \"2020-05-04\", \"2020-05-01\", \"2020-05-01\", \"2020-04-28\", \"2020-05-04\", \"2020-05-04\", \"2020-04-28\", \"2020-04-28\", \"2020-04-21\", \"2020-04-28\", \"2020-04-28\", \"2020-04-21\", \"2020-04-21\", \"2020-04-22\", \"2020-04-23\", \"2020-04-23\", \"2020-04-22\", \"2020-04-22\", \"2020-04-19\", \"2020-04-24\", \"2020-04-24\", \"2020-04-19\", \"2020-04-19\", \"2020-05-12\", \"2020-05-12\", \"2020-05-12\", \"2020-05-12\", \"2020-05-12\", \"2020-04-24\", \"2020-04-28\", \"2020-04-28\", \"2020-04-24\", \"2020-04-24\", \"2020-04-22\", \"2020-04-24\", \"2020-04-24\", \"2020-04-22\", \"2020-04-22\", \"2020-04-22\", \"2020-04-26\", \"2020-04-26\", \"2020-04-22\", \"2020-04-22\", \"2020-04-19\", \"2020-04-24\", \"2020-04-24\", \"2020-04-19\", \"2020-04-19\", \"2020-04-19\", \"2020-04-24\", \"2020-04-24\", \"2020-04-19\", \"2020-04-19\", \"2020-05-12\", \"2020-05-12\", \"2020-05-12\", \"2020-05-12\", \"2020-05-12\", \"2020-04-21\", \"2020-05-06\", \"2020-05-06\", \"2020-04-21\", \"2020-04-21\", \"2020-04-20\", \"2020-04-22\", \"2020-04-22\", \"2020-04-20\", \"2020-04-20\", \"2020-04-19\", \"2020-04-21\", \"2020-04-21\", \"2020-04-19\", \"2020-04-19\", \"2020-05-12\", \"2020-05-12\", \"2020-05-12\", \"2020-05-12\"], \"y\": [-0.4, -0.4, 0.4, 0.4, null, 0.6, 0.6, 1.4, 1.4, null, 1.6, 1.6, 2.4, 2.4, null, 2.6, 2.6, 3.4, 3.4, null, 3.6, 3.6, 4.4, 4.4, null, 5.6, 5.6, 6.4, 6.4, null, 6.6, 6.6, 7.4, 7.4, null, 7.6, 7.6, 8.4, 8.4, null, 8.6, 8.6, 9.4, 9.4, null, 9.6, 9.6, 10.4, 10.4, null, 10.6, 10.6, 11.4, 11.4, null, 11.6, 11.6, 12.4, 12.4, null, 13.6, 13.6, 14.4, 14.4, null, 15.6, 15.6, 16.4, 16.4, null, 16.6, 16.6, 17.4, 17.4, null, 17.6, 17.6, 18.4, 18.4, null, 19.6, 19.6, 20.4, 20.4, null, 20.6, 20.6, 21.4, 21.4, null, 21.6, 21.6, 22.4, 22.4, null, 23.6, 23.6, 24.4, 24.4, null, 24.6, 24.6, 25.4, 25.4, null, 26.6, 26.6, 27.4, 27.4, null, 27.6, 27.6, 28.4, 28.4, null, 29.6, 29.6, 30.4, 30.4]}, {\"fill\": \"toself\", \"fillcolor\": \"rgb(30, 30, 30)\", \"hoverinfo\": \"name\", \"legendgroup\": \"rgb(30, 30, 30)\", \"mode\": \"none\", \"name\": \"TEAM\", \"type\": \"scatter\", \"x\": [\"2020-04-17\", \"2020-05-12\", \"2020-05-12\", \"2020-04-17\", \"2020-04-17\", \"2020-04-17\", \"2020-05-12\", \"2020-05-12\", \"2020-04-17\", \"2020-04-17\", \"2020-04-17\", \"2020-05-12\", \"2020-05-12\", \"2020-04-17\", \"2020-04-17\", \"2020-04-17\", \"2020-05-12\", \"2020-05-12\", \"2020-04-17\", \"2020-04-17\", \"2020-05-07\", \"2020-05-12\", \"2020-05-12\", \"2020-05-07\", \"2020-05-07\", \"2020-04-27\", \"2020-04-29\", \"2020-04-29\", \"2020-04-27\", \"2020-04-27\", \"2020-04-19\", \"2020-04-21\", \"2020-04-21\", \"2020-04-19\", \"2020-04-19\", \"2020-04-17\", \"2020-05-12\", \"2020-05-12\", \"2020-04-17\"], \"y\": [4.6, 4.6, 5.4, 5.4, null, 14.6, 14.6, 15.4, 15.4, null, 22.6, 22.6, 23.4, 23.4, null, 28.6, 28.6, 29.4, 29.4, null, 30.6, 30.6, 31.4, 31.4, null, 32.6, 32.6, 33.4, 33.4, null, 33.6, 33.6, 34.4, 34.4, null, 37.6, 37.6, 38.4, 38.4]}, {\"legendgroup\": \"rgb(10, 120, 10)\", \"marker\": {\"color\": \"rgb(10, 120, 10)\", \"opacity\": 0, \"size\": 1}, \"mode\": \"markers\", \"name\": \"\", \"showlegend\": false, \"text\": [null, null, null, null, null, null, null, null], \"type\": \"scatter\", \"x\": [\"2020-04-17\", \"2020-04-21\", \"2020-04-22\", \"2020-04-24\", \"2020-05-10\", \"2020-05-12\", \"2020-04-17\", \"2020-04-19\"], \"y\": [13, 13, 19, 19, 32, 32, 35, 35]}, {\"legendgroup\": \"rgb(114, 44, 121)\", \"marker\": {\"color\": \"rgb(114, 44, 121)\", \"opacity\": 0, \"size\": 1}, \"mode\": \"markers\", \"name\": \"\", \"showlegend\": false, \"text\": [null, null, null, null], \"type\": \"scatter\", \"x\": [\"2020-04-28\", \"2020-05-04\", \"2020-04-17\", \"2020-04-21\"], \"y\": [26, 26, 36, 36]}, {\"legendgroup\": \"rgb(198, 47, 105)\", \"marker\": {\"color\": \"rgb(198, 47, 105)\", \"opacity\": 0, \"size\": 1}, \"mode\": \"markers\", \"name\": \"\", \"showlegend\": false, \"text\": [null, null], \"type\": \"scatter\", \"x\": [\"2020-04-17\", \"2020-04-21\"], \"y\": [37, 37]}, {\"legendgroup\": \"rgb(200, 200, 200)\", \"marker\": {\"color\": \"rgb(200, 200, 200)\", \"opacity\": 0, \"size\": 1}, \"mode\": \"markers\", \"name\": \"\", \"showlegend\": false, \"text\": [null, null, null, null, null, null, null, null, null, null, null, null, null, null, null, null, null, null, null, null, null, null, null, null, null, null, null, null, null, null, null, null, null, null, null, null, null, null, null, null, null, null, null, null, null, null, null, null], \"type\": \"scatter\", \"x\": [\"2020-05-12\", \"2020-05-12\", \"2020-0 -  \", \"2020-0 -  \", \"2020-0 -  \", \"2020-0 -  \", \"2020-0 -  \", \"2020-0 -  \", \"2020-0 -  \", \"2020-0 -  \", \"2020-05-12\", \"2020-05-12\", \"2020-05-04\", \"2020-05-12\", \"2020-05-01\", \"2020-05-08\", \"2020-05-01\", \"2020-05-04\", \"2020-04-28\", \"2020-05-04\", \"2020-04-21\", \"2020-04-28\", \"2020-04-22\", \"2020-04-23\", \"2020-04-19\", \"2020-04-24\", \"2020-05-12\", \"2020-05-12\", \"2020-04-24\", \"2020-04-28\", \"2020-04-22\", \"2020-04-24\", \"2020-04-22\", \"2020-04-26\", \"2020-04-19\", \"2020-04-24\", \"2020-04-19\", \"2020-04-24\", \"2020-05-12\", \"2020-05-12\", \"2020-04-21\", \"2020-05-06\", \"2020-04-20\", \"2020-04-22\", \"2020-04-19\", \"2020-04-21\", \"2020-05-12\", \"2020-05-12\"], \"y\": [0, 0, 1, 1, 2, 2, 3, 3, 4, 4, 6, 6, 7, 7, 8, 8, 9, 9, 10, 10, 11, 11, 12, 12, 14, 14, 16, 16, 17, 17, 18, 18, 20, 20, 21, 21, 22, 22, 24, 24, 25, 25, 27, 27, 28, 28, 30, 30]}, {\"legendgroup\": \"rgb(30, 30, 30)\", \"marker\": {\"color\": \"rgb(30, 30, 30)\", \"opacity\": 0, \"size\": 1}, \"mode\": \"markers\", \"name\": \"\", \"showlegend\": false, \"text\": [null, null, null, null, null, null, null, null, null, null, null, null, null, null, null, null], \"type\": \"scatter\", \"x\": [\"2020-04-17\", \"2020-05-12\", \"2020-04-17\", \"2020-05-12\", \"2020-04-17\", \"2020-05-12\", \"2020-04-17\", \"2020-05-12\", \"2020-05-07\", \"2020-05-12\", \"2020-04-27\", \"2020-04-29\", \"2020-04-19\", \"2020-04-21\", \"2020-04-17\", \"2020-05-12\"], \"y\": [5, 5, 15, 15, 23, 23, 29, 29, 31, 31, 33, 33, 34, 34, 38, 38]}],\n",
       "                        {\"height\": 600, \"hovermode\": \"closest\", \"showlegend\": true, \"template\": {\"data\": {\"bar\": [{\"error_x\": {\"color\": \"#2a3f5f\"}, \"error_y\": {\"color\": \"#2a3f5f\"}, \"marker\": {\"line\": {\"color\": \"#E5ECF6\", \"width\": 0.5}}, \"type\": \"bar\"}], \"barpolar\": [{\"marker\": {\"line\": {\"color\": \"#E5ECF6\", \"width\": 0.5}}, \"type\": \"barpolar\"}], \"carpet\": [{\"aaxis\": {\"endlinecolor\": \"#2a3f5f\", \"gridcolor\": \"white\", \"linecolor\": \"white\", \"minorgridcolor\": \"white\", \"startlinecolor\": \"#2a3f5f\"}, \"baxis\": {\"endlinecolor\": \"#2a3f5f\", \"gridcolor\": \"white\", \"linecolor\": \"white\", \"minorgridcolor\": \"white\", \"startlinecolor\": \"#2a3f5f\"}, \"type\": \"carpet\"}], \"choropleth\": [{\"colorbar\": {\"outlinewidth\": 0, \"ticks\": \"\"}, \"type\": \"choropleth\"}], \"contour\": [{\"colorbar\": {\"outlinewidth\": 0, \"ticks\": \"\"}, \"colorscale\": [[0.0, \"#0d0887\"], [0.1111111111111111, \"#46039f\"], [0.2222222222222222, \"#7201a8\"], [0.3333333333333333, \"#9c179e\"], [0.4444444444444444, \"#bd3786\"], [0.5555555555555556, \"#d8576b\"], [0.6666666666666666, \"#ed7953\"], [0.7777777777777778, \"#fb9f3a\"], [0.8888888888888888, \"#fdca26\"], [1.0, \"#f0f921\"]], \"type\": \"contour\"}], \"contourcarpet\": [{\"colorbar\": {\"outlinewidth\": 0, \"ticks\": \"\"}, \"type\": \"contourcarpet\"}], \"heatmap\": [{\"colorbar\": {\"outlinewidth\": 0, \"ticks\": \"\"}, \"colorscale\": [[0.0, \"#0d0887\"], [0.1111111111111111, \"#46039f\"], [0.2222222222222222, \"#7201a8\"], [0.3333333333333333, \"#9c179e\"], [0.4444444444444444, \"#bd3786\"], [0.5555555555555556, \"#d8576b\"], [0.6666666666666666, \"#ed7953\"], [0.7777777777777778, \"#fb9f3a\"], [0.8888888888888888, \"#fdca26\"], [1.0, \"#f0f921\"]], \"type\": \"heatmap\"}], \"heatmapgl\": [{\"colorbar\": {\"outlinewidth\": 0, \"ticks\": \"\"}, \"colorscale\": [[0.0, \"#0d0887\"], [0.1111111111111111, \"#46039f\"], [0.2222222222222222, \"#7201a8\"], [0.3333333333333333, \"#9c179e\"], [0.4444444444444444, \"#bd3786\"], [0.5555555555555556, \"#d8576b\"], [0.6666666666666666, \"#ed7953\"], [0.7777777777777778, \"#fb9f3a\"], [0.8888888888888888, \"#fdca26\"], [1.0, \"#f0f921\"]], \"type\": \"heatmapgl\"}], \"histogram\": [{\"marker\": {\"colorbar\": {\"outlinewidth\": 0, \"ticks\": \"\"}}, \"type\": \"histogram\"}], \"histogram2d\": [{\"colorbar\": {\"outlinewidth\": 0, \"ticks\": \"\"}, \"colorscale\": [[0.0, \"#0d0887\"], [0.1111111111111111, \"#46039f\"], [0.2222222222222222, \"#7201a8\"], [0.3333333333333333, \"#9c179e\"], [0.4444444444444444, \"#bd3786\"], [0.5555555555555556, \"#d8576b\"], [0.6666666666666666, \"#ed7953\"], [0.7777777777777778, \"#fb9f3a\"], [0.8888888888888888, \"#fdca26\"], [1.0, \"#f0f921\"]], \"type\": \"histogram2d\"}], \"histogram2dcontour\": [{\"colorbar\": {\"outlinewidth\": 0, \"ticks\": \"\"}, \"colorscale\": [[0.0, \"#0d0887\"], [0.1111111111111111, \"#46039f\"], [0.2222222222222222, \"#7201a8\"], [0.3333333333333333, \"#9c179e\"], [0.4444444444444444, \"#bd3786\"], [0.5555555555555556, \"#d8576b\"], [0.6666666666666666, \"#ed7953\"], [0.7777777777777778, \"#fb9f3a\"], [0.8888888888888888, \"#fdca26\"], [1.0, \"#f0f921\"]], \"type\": \"histogram2dcontour\"}], \"mesh3d\": [{\"colorbar\": {\"outlinewidth\": 0, \"ticks\": \"\"}, \"type\": \"mesh3d\"}], \"parcoords\": [{\"line\": {\"colorbar\": {\"outlinewidth\": 0, \"ticks\": \"\"}}, \"type\": \"parcoords\"}], \"pie\": [{\"automargin\": true, \"type\": \"pie\"}], \"scatter\": [{\"marker\": {\"colorbar\": {\"outlinewidth\": 0, \"ticks\": \"\"}}, \"type\": \"scatter\"}], \"scatter3d\": [{\"line\": {\"colorbar\": {\"outlinewidth\": 0, \"ticks\": \"\"}}, \"marker\": {\"colorbar\": {\"outlinewidth\": 0, \"ticks\": \"\"}}, \"type\": \"scatter3d\"}], \"scattercarpet\": [{\"marker\": {\"colorbar\": {\"outlinewidth\": 0, \"ticks\": \"\"}}, \"type\": \"scattercarpet\"}], \"scattergeo\": [{\"marker\": {\"colorbar\": {\"outlinewidth\": 0, \"ticks\": \"\"}}, \"type\": \"scattergeo\"}], \"scattergl\": [{\"marker\": {\"colorbar\": {\"outlinewidth\": 0, \"ticks\": \"\"}}, \"type\": \"scattergl\"}], \"scattermapbox\": [{\"marker\": {\"colorbar\": {\"outlinewidth\": 0, \"ticks\": \"\"}}, \"type\": \"scattermapbox\"}], \"scatterpolar\": [{\"marker\": {\"colorbar\": {\"outlinewidth\": 0, \"ticks\": \"\"}}, \"type\": \"scatterpolar\"}], \"scatterpolargl\": [{\"marker\": {\"colorbar\": {\"outlinewidth\": 0, \"ticks\": \"\"}}, \"type\": \"scatterpolargl\"}], \"scatterternary\": [{\"marker\": {\"colorbar\": {\"outlinewidth\": 0, \"ticks\": \"\"}}, \"type\": \"scatterternary\"}], \"surface\": [{\"colorbar\": {\"outlinewidth\": 0, \"ticks\": \"\"}, \"colorscale\": [[0.0, \"#0d0887\"], [0.1111111111111111, \"#46039f\"], [0.2222222222222222, \"#7201a8\"], [0.3333333333333333, \"#9c179e\"], [0.4444444444444444, \"#bd3786\"], [0.5555555555555556, \"#d8576b\"], [0.6666666666666666, \"#ed7953\"], [0.7777777777777778, \"#fb9f3a\"], [0.8888888888888888, \"#fdca26\"], [1.0, \"#f0f921\"]], \"type\": \"surface\"}], \"table\": [{\"cells\": {\"fill\": {\"color\": \"#EBF0F8\"}, \"line\": {\"color\": \"white\"}}, \"header\": {\"fill\": {\"color\": \"#C8D4E3\"}, \"line\": {\"color\": \"white\"}}, \"type\": \"table\"}]}, \"layout\": {\"annotationdefaults\": {\"arrowcolor\": \"#2a3f5f\", \"arrowhead\": 0, \"arrowwidth\": 1}, \"coloraxis\": {\"colorbar\": {\"outlinewidth\": 0, \"ticks\": \"\"}}, \"colorscale\": {\"diverging\": [[0, \"#8e0152\"], [0.1, \"#c51b7d\"], [0.2, \"#de77ae\"], [0.3, \"#f1b6da\"], [0.4, \"#fde0ef\"], [0.5, \"#f7f7f7\"], [0.6, \"#e6f5d0\"], [0.7, \"#b8e186\"], [0.8, \"#7fbc41\"], [0.9, \"#4d9221\"], [1, \"#276419\"]], \"sequential\": [[0.0, \"#0d0887\"], [0.1111111111111111, \"#46039f\"], [0.2222222222222222, \"#7201a8\"], [0.3333333333333333, \"#9c179e\"], [0.4444444444444444, \"#bd3786\"], [0.5555555555555556, \"#d8576b\"], [0.6666666666666666, \"#ed7953\"], [0.7777777777777778, \"#fb9f3a\"], [0.8888888888888888, \"#fdca26\"], [1.0, \"#f0f921\"]], \"sequentialminus\": [[0.0, \"#0d0887\"], [0.1111111111111111, \"#46039f\"], [0.2222222222222222, \"#7201a8\"], [0.3333333333333333, \"#9c179e\"], [0.4444444444444444, \"#bd3786\"], [0.5555555555555556, \"#d8576b\"], [0.6666666666666666, \"#ed7953\"], [0.7777777777777778, \"#fb9f3a\"], [0.8888888888888888, \"#fdca26\"], [1.0, \"#f0f921\"]]}, \"colorway\": [\"#636efa\", \"#EF553B\", \"#00cc96\", \"#ab63fa\", \"#FFA15A\", \"#19d3f3\", \"#FF6692\", \"#B6E880\", \"#FF97FF\", \"#FECB52\"], \"font\": {\"color\": \"#2a3f5f\"}, \"geo\": {\"bgcolor\": \"white\", \"lakecolor\": \"white\", \"landcolor\": \"#E5ECF6\", \"showlakes\": true, \"showland\": true, \"subunitcolor\": \"white\"}, \"hoverlabel\": {\"align\": \"left\"}, \"hovermode\": \"closest\", \"mapbox\": {\"style\": \"light\"}, \"paper_bgcolor\": \"white\", \"plot_bgcolor\": \"#E5ECF6\", \"polar\": {\"angularaxis\": {\"gridcolor\": \"white\", \"linecolor\": \"white\", \"ticks\": \"\"}, \"bgcolor\": \"#E5ECF6\", \"radialaxis\": {\"gridcolor\": \"white\", \"linecolor\": \"white\", \"ticks\": \"\"}}, \"scene\": {\"xaxis\": {\"backgroundcolor\": \"#E5ECF6\", \"gridcolor\": \"white\", \"gridwidth\": 2, \"linecolor\": \"white\", \"showbackground\": true, \"ticks\": \"\", \"zerolinecolor\": \"white\"}, \"yaxis\": {\"backgroundcolor\": \"#E5ECF6\", \"gridcolor\": \"white\", \"gridwidth\": 2, \"linecolor\": \"white\", \"showbackground\": true, \"ticks\": \"\", \"zerolinecolor\": \"white\"}, \"zaxis\": {\"backgroundcolor\": \"#E5ECF6\", \"gridcolor\": \"white\", \"gridwidth\": 2, \"linecolor\": \"white\", \"showbackground\": true, \"ticks\": \"\", \"zerolinecolor\": \"white\"}}, \"shapedefaults\": {\"line\": {\"color\": \"#2a3f5f\"}}, \"ternary\": {\"aaxis\": {\"gridcolor\": \"white\", \"linecolor\": \"white\", \"ticks\": \"\"}, \"baxis\": {\"gridcolor\": \"white\", \"linecolor\": \"white\", \"ticks\": \"\"}, \"bgcolor\": \"#E5ECF6\", \"caxis\": {\"gridcolor\": \"white\", \"linecolor\": \"white\", \"ticks\": \"\"}}, \"title\": {\"x\": 0.05}, \"xaxis\": {\"automargin\": true, \"gridcolor\": \"white\", \"linecolor\": \"white\", \"ticks\": \"\", \"title\": {\"standoff\": 15}, \"zerolinecolor\": \"white\", \"zerolinewidth\": 2}, \"yaxis\": {\"automargin\": true, \"gridcolor\": \"white\", \"linecolor\": \"white\", \"ticks\": \"\", \"title\": {\"standoff\": 15}, \"zerolinecolor\": \"white\", \"zerolinewidth\": 2}}}, \"title\": {\"text\": \"Sprint 1 Timeline\"}, \"xaxis\": {\"rangeselector\": {\"buttons\": [{\"count\": 7, \"label\": \"1w\", \"step\": \"day\", \"stepmode\": \"backward\"}, {\"count\": 1, \"label\": \"1m\", \"step\": \"month\", \"stepmode\": \"backward\"}, {\"count\": 6, \"label\": \"6m\", \"step\": \"month\", \"stepmode\": \"backward\"}, {\"count\": 1, \"label\": \"YTD\", \"step\": \"year\", \"stepmode\": \"todate\"}, {\"count\": 1, \"label\": \"1y\", \"step\": \"year\", \"stepmode\": \"backward\"}, {\"step\": \"all\"}]}, \"showgrid\": false, \"type\": \"date\", \"zeroline\": false}, \"yaxis\": {\"autorange\": false, \"range\": [-1, 40], \"showgrid\": true, \"ticktext\": [\" \", \" \", \" \", \" \", \" \", \"*OTHER TASKS*               \", \" \", \"Test CNN With Multi-Transform\", \"Integrate with Other Packages\", \"Automate Optimization within f(n)\", \"Set up Hyperparameter loop\", \"Get f(n) working to show at 4/28 Advisor Mtg\", \"Debug w/ Round 1 Images\", \"Learn from old CNN\", \"Write Funcitonal Specs\", \"*CNN OPTIMIZATION*               \", \" \", \"Check Tests against MATH data\", \"Write 1D-ish Image-Creation F(n)\", \"Learn about CNN Image types\", \"Write Data transformer\", \"Write 1D transforms\", \"Write Funcitonal Specs\", \"*TRANSFORMATION*               \", \" \", \"F(n)s to read files + format\", \"F(n)s to generate SAS Data?\", \"F(n)s to generate Math-Data\", \"Write Funcitonal Specs\", \"*DATA MANAGEMENT*               \", \" \", \"Tutorial for Sprint-Report\", \"STATUS UPDATE: Docs\", \"Mid-Sprint Advisor Meeting\", \".py Files + Docstrings\", \"Setup F Spec Document\", \"Setup ReadTheDocs\", \"Get TRAVIS working\", \"*DOCUMENTATION*               \"], \"tickvals\": [0, 1, 2, 3, 4, 5, 6, 7, 8, 9, 10, 11, 12, 13, 14, 15, 16, 17, 18, 19, 20, 21, 22, 23, 24, 25, 26, 27, 28, 29, 30, 31, 32, 33, 34, 35, 36, 37, 38], \"zeroline\": false}},\n",
       "                        {\"responsive\": true}\n",
       "                    ).then(function(){\n",
       "                            \n",
       "var gd = document.getElementById('afdc626d-26e7-40b6-8ccc-78f92be4ab83');\n",
       "var x = new MutationObserver(function (mutations, observer) {{\n",
       "        var display = window.getComputedStyle(gd).display;\n",
       "        if (!display || display === 'none') {{\n",
       "            console.log([gd, 'removed!']);\n",
       "            Plotly.purge(gd);\n",
       "            observer.disconnect();\n",
       "        }}\n",
       "}});\n",
       "\n",
       "// Listen for the removal of the full notebook cells\n",
       "var notebookContainer = gd.closest('#notebook-container');\n",
       "if (notebookContainer) {{\n",
       "    x.observe(notebookContainer, {childList: true});\n",
       "}}\n",
       "\n",
       "// Listen for the clearing of the current output cell\n",
       "var outputEl = gd.closest('.output');\n",
       "if (outputEl) {{\n",
       "    x.observe(outputEl, {childList: true});\n",
       "}}\n",
       "\n",
       "                        })\n",
       "                };\n",
       "                });\n",
       "            </script>\n",
       "        </div>"
      ]
     },
     "metadata": {},
     "output_type": "display_data"
    }
   ],
   "source": [
    "# Once you've run the WHOLE Jupyter Notebook, run this again here, to plot the Sprint plans at the top!\n",
    "try:\n",
    "    time_fig.show()\n",
    "    sprint1_fig.show()\n",
    "    sprint2_fig.show()\n",
    "    sprint3_fig.show()\n",
    "except NameError:\n",
    "    pass"
   ]
  },
  {
   "cell_type": "code",
   "execution_count": 58,
   "metadata": {},
   "outputs": [],
   "source": [
    "# Editing for the Master! Eveyone choose their favorite Color scheme!\n",
    "team_colors = dict(TEAM = 'rgb(30,30,30)',\n",
    "              David = 'rgb(10, 120, 10)',\n",
    "              Maria = 'rgb(114, 44, 121)',\n",
    "              Moeez = 'rgb(198, 47, 105)',\n",
    "              NA = 'rgb(200, 200, 200)')"
   ]
  },
  {
   "cell_type": "markdown",
   "metadata": {},
   "source": [
    "## Project Breakdown: Design from Final Vision Specification\n",
    "For each of the Three-Sprints and the Final Product, describe the <span style=\"color: red;\">REQUIREMENTS</span>,\n",
    "<span style=\"color: blue;\">GOALS</span>, and\n",
    "<span style=\"color: green;\">STRETCH-GOALS</span>!\n",
    "\n",
    "*Question as I'm writing this: Should I be listing the Sprint focus (aka the \"New Items\", or describe the Total Status? That's just like asking whether we are planning from \"Start$\\Rightarrow$Finish\" or \"FinalProject$\\Rightarrow$InitialWork\"... I think the right answer is to have the FULL spec up front and then break down the sprint deliverables from there.\n",
    "\n",
    "Make sure to hit upon each of the following topics in each update:\n",
    " * Documentation and Usability (Includes CI, Docs, Tutorials, Testing, and Package Downloadability\n",
    " * Data Types + Formats Supported\n",
    " * Method(s) of Transforming data into images (mathematical AND plot manipulation)\n",
    " * Method(s) of setting up and executing CNN Training model\n",
    " * Format of Results\n",
    " * Expected performance quality (Accuracy? RunTime?) \n",
    " * What types of \"Data Logic\", \"Smart Programming\", or \"Learning\" do we execute?\n",
    "\n",
    "### Final Product Specification:\n",
    "The final project will follow our team's Vision statement, with the possibility of any Stretch-goals or any changes we make along the way to the scope based on what we learn as we go. \n",
    "\n",
    "##### Documentation: \n",
    " * Fully functional package, with tutorials guiding user to set up the program with whatever data they have\n",
    " * Hopefully get Test Coverage into the high 80's (coverage of some UI functions will not be able to Travis?)\n",
    "##### Data Supported:\n",
    " * At the end of the project, work on supporting as many data types as reasonable.\n",
    " * Possibly add User-Interaction or Configuration-File ability to most efficiently use new setups.\n",
    "##### Transformations on Data:\n",
    " * Expansive list of Transformations including 1D, 2D, and Domain-Changes (aka Fourier or Laplace)\n",
    " * Also a list of known combined-transformations (such as Integral of Log-transformed data) for even more possible options\n",
    " * Option to Continue trying new (at random, ordered by complexity, or otherwise) transformations until performance gets to a certain metric\n",
    " * <span style=\"color: green;\">[Stretch]</span> Incorporate \"Smart\" type feedback and configuration to perform the most-likely-to-be-valuable transformations. This may include choices based on knowledge of prior runs, or based on some immediate pre - analysis of the data.\n",
    "##### Transformation into Images:\n",
    " * Ability to modify image size (pixel count) as desired, for either better Time-Performance or Data-Completeness (lossless?) which serve two very different use-cases\n",
    " * Ability to setup and configure the \"complexity\" of images you will use, from 1D data (single transformations each for X and Y?) to 8-dimension RGB/CMYK convolutions. (Partially <span style=\"color: green;\">[Stretch]</span>)\n",
    "##### Setup and Execution of CNN\n",
    " * CNN setup using learnings (made by team during scope of term) of 'probably best' parameters.\n",
    " * Set of CNN routines to optimize hyperparameters\n",
    " * Option of whether to optimize HParams for each transformation, or to choose one optimization for all. (aka control over loop nesting). May enforce defaults based on team learnings\n",
    " * <span style=\"color: green;\">[Stretch]</span> Choose Initial HyperParams AND Strategy automatically based on factors about the data such as Size, Transform, etc\n",
    "##### Result Format / Interface\n",
    " * Save Best-Performing model(s? n#?) to be loaded and used later __Note: need a function for loading + using models.__\n",
    " * Log each run with runtime, performance, and user parameters (for repeatability)\n",
    " * Produce Data-Report for run with the top (n#) performing model runs / images, each of their performances, and their parameters + Data-Transformations\n",
    " * Produce Transformation-Report, with the top (n#) of top-associated transformations and their positions/convolutions, which may be useful for user discoveries based on their data\n",
    " * <span style=\"color: green;\">[Stretch]</span> Produce Image-file of the \"Black Box's Insides\" - I forget what this is called, but it featuremaps what is the most important filters that it found.\n",
    "##### Expected Performance Goals\n",
    " * With options set to minimize time, want to be able to fully train a dataset of 10,000 files in <1hr, with 90% accuracy __(NOTE   :   I CHOSE THESE NUMBERS AT RANDOM. PLEASE RE-EVALUATE)__\n",
    " * With options set to maximize quality and thorough transformations, can run for a roughly USER-SET amount of time, and will continue to try new transformations And/Or optimizations until that time.\n",
    " * If we get access to high computing power resources, we should be able to optimize settings to take advantage of that, and routinely acheive >99% accuracy in less than a day of runtime?\n",
    "##### \"Smart\" Logic and Meta-Learning\n",
    " * None in main scope at this time"
   ]
  },
  {
   "cell_type": "code",
   "execution_count": 49,
   "metadata": {
    "scrolled": false
   },
   "outputs": [
    {
     "data": {
      "application/vnd.plotly.v1+json": {
       "config": {
        "plotlyServerURL": "https://plot.ly"
       },
       "data": [
        {
         "fill": "toself",
         "fillcolor": "rgb(114, 44, 121)",
         "hoverinfo": "name",
         "legendgroup": "rgb(114, 44, 121)",
         "mode": "none",
         "name": "Data_pretreatment",
         "type": "scatter",
         "x": [
          "2020-05-15",
          "2020-05-26",
          "2020-05-26",
          "2020-05-15"
         ],
         "y": [
          3.6,
          3.6,
          4.4,
          4.4
         ]
        },
        {
         "fill": "toself",
         "fillcolor": "rgb(198, 47, 105)",
         "hoverinfo": "name",
         "legendgroup": "rgb(198, 47, 105)",
         "mode": "none",
         "name": "Core_Programming",
         "type": "scatter",
         "x": [
          "2020-05-29",
          "2020-06-09",
          "2020-06-09",
          "2020-05-29",
          "2020-05-29",
          "2020-04-17",
          "2020-05-12",
          "2020-05-12",
          "2020-04-17"
         ],
         "y": [
          1.6,
          1.6,
          2.4,
          2.4,
          null,
          5.6,
          5.6,
          6.4,
          6.4
         ]
        },
        {
         "fill": "toself",
         "fillcolor": "rgb(46, 137, 205)",
         "hoverinfo": "name",
         "legendgroup": "rgb(46, 137, 205)",
         "mode": "none",
         "name": "Planning",
         "type": "scatter",
         "x": [
          "2020-06-07",
          "2020-06-14",
          "2020-06-14",
          "2020-06-07",
          "2020-06-07",
          "2020-05-25",
          "2020-05-29",
          "2020-05-29",
          "2020-05-25",
          "2020-05-25",
          "2020-05-11",
          "2020-05-15",
          "2020-05-15",
          "2020-05-11",
          "2020-05-11",
          "2020-04-02",
          "2020-04-24",
          "2020-04-24",
          "2020-04-02"
         ],
         "y": [
          0.6,
          0.6,
          1.4,
          1.4,
          null,
          2.6,
          2.6,
          3.4,
          3.4,
          null,
          4.6,
          4.6,
          5.4,
          5.4,
          null,
          6.6,
          6.6,
          7.4,
          7.4
         ]
        },
        {
         "fill": "toself",
         "fillcolor": "rgb(58, 149, 136)",
         "hoverinfo": "name",
         "legendgroup": "rgb(58, 149, 136)",
         "mode": "none",
         "name": "Final_outcome",
         "type": "scatter",
         "x": [
          "2020-06-14",
          "2020-06-20",
          "2020-06-20",
          "2020-06-14"
         ],
         "y": [
          -0.4,
          -0.4,
          0.4,
          0.4
         ]
        },
        {
         "legendgroup": "rgb(114, 44, 121)",
         "marker": {
          "color": "rgb(114, 44, 121)",
          "opacity": 0,
          "size": 1
         },
         "mode": "markers",
         "name": "",
         "showlegend": false,
         "text": [
          null,
          null
         ],
         "type": "scatter",
         "x": [
          "2020-05-15",
          "2020-05-26"
         ],
         "y": [
          4,
          4
         ]
        },
        {
         "legendgroup": "rgb(198, 47, 105)",
         "marker": {
          "color": "rgb(198, 47, 105)",
          "opacity": 0,
          "size": 1
         },
         "mode": "markers",
         "name": "",
         "showlegend": false,
         "text": [
          null,
          null,
          null,
          null
         ],
         "type": "scatter",
         "x": [
          "2020-05-29",
          "2020-06-09",
          "2020-04-17",
          "2020-05-12"
         ],
         "y": [
          2,
          2,
          6,
          6
         ]
        },
        {
         "legendgroup": "rgb(46, 137, 205)",
         "marker": {
          "color": "rgb(46, 137, 205)",
          "opacity": 0,
          "size": 1
         },
         "mode": "markers",
         "name": "",
         "showlegend": false,
         "text": [
          null,
          null,
          null,
          null,
          null,
          null,
          null,
          null
         ],
         "type": "scatter",
         "x": [
          "2020-06-07",
          "2020-06-14",
          "2020-05-25",
          "2020-05-29",
          "2020-05-11",
          "2020-05-15",
          "2020-04-02",
          "2020-04-24"
         ],
         "y": [
          1,
          1,
          3,
          3,
          5,
          5,
          7,
          7
         ]
        },
        {
         "legendgroup": "rgb(58, 149, 136)",
         "marker": {
          "color": "rgb(58, 149, 136)",
          "opacity": 0,
          "size": 1
         },
         "mode": "markers",
         "name": "",
         "showlegend": false,
         "text": [
          null,
          null
         ],
         "type": "scatter",
         "x": [
          "2020-06-14",
          "2020-06-20"
         ],
         "y": [
          0,
          0
         ]
        }
       ],
       "layout": {
        "height": 600,
        "hovermode": "closest",
        "showlegend": true,
        "template": {
         "data": {
          "bar": [
           {
            "error_x": {
             "color": "#2a3f5f"
            },
            "error_y": {
             "color": "#2a3f5f"
            },
            "marker": {
             "line": {
              "color": "#E5ECF6",
              "width": 0.5
             }
            },
            "type": "bar"
           }
          ],
          "barpolar": [
           {
            "marker": {
             "line": {
              "color": "#E5ECF6",
              "width": 0.5
             }
            },
            "type": "barpolar"
           }
          ],
          "carpet": [
           {
            "aaxis": {
             "endlinecolor": "#2a3f5f",
             "gridcolor": "white",
             "linecolor": "white",
             "minorgridcolor": "white",
             "startlinecolor": "#2a3f5f"
            },
            "baxis": {
             "endlinecolor": "#2a3f5f",
             "gridcolor": "white",
             "linecolor": "white",
             "minorgridcolor": "white",
             "startlinecolor": "#2a3f5f"
            },
            "type": "carpet"
           }
          ],
          "choropleth": [
           {
            "colorbar": {
             "outlinewidth": 0,
             "ticks": ""
            },
            "type": "choropleth"
           }
          ],
          "contour": [
           {
            "colorbar": {
             "outlinewidth": 0,
             "ticks": ""
            },
            "colorscale": [
             [
              0,
              "#0d0887"
             ],
             [
              0.1111111111111111,
              "#46039f"
             ],
             [
              0.2222222222222222,
              "#7201a8"
             ],
             [
              0.3333333333333333,
              "#9c179e"
             ],
             [
              0.4444444444444444,
              "#bd3786"
             ],
             [
              0.5555555555555556,
              "#d8576b"
             ],
             [
              0.6666666666666666,
              "#ed7953"
             ],
             [
              0.7777777777777778,
              "#fb9f3a"
             ],
             [
              0.8888888888888888,
              "#fdca26"
             ],
             [
              1,
              "#f0f921"
             ]
            ],
            "type": "contour"
           }
          ],
          "contourcarpet": [
           {
            "colorbar": {
             "outlinewidth": 0,
             "ticks": ""
            },
            "type": "contourcarpet"
           }
          ],
          "heatmap": [
           {
            "colorbar": {
             "outlinewidth": 0,
             "ticks": ""
            },
            "colorscale": [
             [
              0,
              "#0d0887"
             ],
             [
              0.1111111111111111,
              "#46039f"
             ],
             [
              0.2222222222222222,
              "#7201a8"
             ],
             [
              0.3333333333333333,
              "#9c179e"
             ],
             [
              0.4444444444444444,
              "#bd3786"
             ],
             [
              0.5555555555555556,
              "#d8576b"
             ],
             [
              0.6666666666666666,
              "#ed7953"
             ],
             [
              0.7777777777777778,
              "#fb9f3a"
             ],
             [
              0.8888888888888888,
              "#fdca26"
             ],
             [
              1,
              "#f0f921"
             ]
            ],
            "type": "heatmap"
           }
          ],
          "heatmapgl": [
           {
            "colorbar": {
             "outlinewidth": 0,
             "ticks": ""
            },
            "colorscale": [
             [
              0,
              "#0d0887"
             ],
             [
              0.1111111111111111,
              "#46039f"
             ],
             [
              0.2222222222222222,
              "#7201a8"
             ],
             [
              0.3333333333333333,
              "#9c179e"
             ],
             [
              0.4444444444444444,
              "#bd3786"
             ],
             [
              0.5555555555555556,
              "#d8576b"
             ],
             [
              0.6666666666666666,
              "#ed7953"
             ],
             [
              0.7777777777777778,
              "#fb9f3a"
             ],
             [
              0.8888888888888888,
              "#fdca26"
             ],
             [
              1,
              "#f0f921"
             ]
            ],
            "type": "heatmapgl"
           }
          ],
          "histogram": [
           {
            "marker": {
             "colorbar": {
              "outlinewidth": 0,
              "ticks": ""
             }
            },
            "type": "histogram"
           }
          ],
          "histogram2d": [
           {
            "colorbar": {
             "outlinewidth": 0,
             "ticks": ""
            },
            "colorscale": [
             [
              0,
              "#0d0887"
             ],
             [
              0.1111111111111111,
              "#46039f"
             ],
             [
              0.2222222222222222,
              "#7201a8"
             ],
             [
              0.3333333333333333,
              "#9c179e"
             ],
             [
              0.4444444444444444,
              "#bd3786"
             ],
             [
              0.5555555555555556,
              "#d8576b"
             ],
             [
              0.6666666666666666,
              "#ed7953"
             ],
             [
              0.7777777777777778,
              "#fb9f3a"
             ],
             [
              0.8888888888888888,
              "#fdca26"
             ],
             [
              1,
              "#f0f921"
             ]
            ],
            "type": "histogram2d"
           }
          ],
          "histogram2dcontour": [
           {
            "colorbar": {
             "outlinewidth": 0,
             "ticks": ""
            },
            "colorscale": [
             [
              0,
              "#0d0887"
             ],
             [
              0.1111111111111111,
              "#46039f"
             ],
             [
              0.2222222222222222,
              "#7201a8"
             ],
             [
              0.3333333333333333,
              "#9c179e"
             ],
             [
              0.4444444444444444,
              "#bd3786"
             ],
             [
              0.5555555555555556,
              "#d8576b"
             ],
             [
              0.6666666666666666,
              "#ed7953"
             ],
             [
              0.7777777777777778,
              "#fb9f3a"
             ],
             [
              0.8888888888888888,
              "#fdca26"
             ],
             [
              1,
              "#f0f921"
             ]
            ],
            "type": "histogram2dcontour"
           }
          ],
          "mesh3d": [
           {
            "colorbar": {
             "outlinewidth": 0,
             "ticks": ""
            },
            "type": "mesh3d"
           }
          ],
          "parcoords": [
           {
            "line": {
             "colorbar": {
              "outlinewidth": 0,
              "ticks": ""
             }
            },
            "type": "parcoords"
           }
          ],
          "pie": [
           {
            "automargin": true,
            "type": "pie"
           }
          ],
          "scatter": [
           {
            "marker": {
             "colorbar": {
              "outlinewidth": 0,
              "ticks": ""
             }
            },
            "type": "scatter"
           }
          ],
          "scatter3d": [
           {
            "line": {
             "colorbar": {
              "outlinewidth": 0,
              "ticks": ""
             }
            },
            "marker": {
             "colorbar": {
              "outlinewidth": 0,
              "ticks": ""
             }
            },
            "type": "scatter3d"
           }
          ],
          "scattercarpet": [
           {
            "marker": {
             "colorbar": {
              "outlinewidth": 0,
              "ticks": ""
             }
            },
            "type": "scattercarpet"
           }
          ],
          "scattergeo": [
           {
            "marker": {
             "colorbar": {
              "outlinewidth": 0,
              "ticks": ""
             }
            },
            "type": "scattergeo"
           }
          ],
          "scattergl": [
           {
            "marker": {
             "colorbar": {
              "outlinewidth": 0,
              "ticks": ""
             }
            },
            "type": "scattergl"
           }
          ],
          "scattermapbox": [
           {
            "marker": {
             "colorbar": {
              "outlinewidth": 0,
              "ticks": ""
             }
            },
            "type": "scattermapbox"
           }
          ],
          "scatterpolar": [
           {
            "marker": {
             "colorbar": {
              "outlinewidth": 0,
              "ticks": ""
             }
            },
            "type": "scatterpolar"
           }
          ],
          "scatterpolargl": [
           {
            "marker": {
             "colorbar": {
              "outlinewidth": 0,
              "ticks": ""
             }
            },
            "type": "scatterpolargl"
           }
          ],
          "scatterternary": [
           {
            "marker": {
             "colorbar": {
              "outlinewidth": 0,
              "ticks": ""
             }
            },
            "type": "scatterternary"
           }
          ],
          "surface": [
           {
            "colorbar": {
             "outlinewidth": 0,
             "ticks": ""
            },
            "colorscale": [
             [
              0,
              "#0d0887"
             ],
             [
              0.1111111111111111,
              "#46039f"
             ],
             [
              0.2222222222222222,
              "#7201a8"
             ],
             [
              0.3333333333333333,
              "#9c179e"
             ],
             [
              0.4444444444444444,
              "#bd3786"
             ],
             [
              0.5555555555555556,
              "#d8576b"
             ],
             [
              0.6666666666666666,
              "#ed7953"
             ],
             [
              0.7777777777777778,
              "#fb9f3a"
             ],
             [
              0.8888888888888888,
              "#fdca26"
             ],
             [
              1,
              "#f0f921"
             ]
            ],
            "type": "surface"
           }
          ],
          "table": [
           {
            "cells": {
             "fill": {
              "color": "#EBF0F8"
             },
             "line": {
              "color": "white"
             }
            },
            "header": {
             "fill": {
              "color": "#C8D4E3"
             },
             "line": {
              "color": "white"
             }
            },
            "type": "table"
           }
          ]
         },
         "layout": {
          "annotationdefaults": {
           "arrowcolor": "#2a3f5f",
           "arrowhead": 0,
           "arrowwidth": 1
          },
          "coloraxis": {
           "colorbar": {
            "outlinewidth": 0,
            "ticks": ""
           }
          },
          "colorscale": {
           "diverging": [
            [
             0,
             "#8e0152"
            ],
            [
             0.1,
             "#c51b7d"
            ],
            [
             0.2,
             "#de77ae"
            ],
            [
             0.3,
             "#f1b6da"
            ],
            [
             0.4,
             "#fde0ef"
            ],
            [
             0.5,
             "#f7f7f7"
            ],
            [
             0.6,
             "#e6f5d0"
            ],
            [
             0.7,
             "#b8e186"
            ],
            [
             0.8,
             "#7fbc41"
            ],
            [
             0.9,
             "#4d9221"
            ],
            [
             1,
             "#276419"
            ]
           ],
           "sequential": [
            [
             0,
             "#0d0887"
            ],
            [
             0.1111111111111111,
             "#46039f"
            ],
            [
             0.2222222222222222,
             "#7201a8"
            ],
            [
             0.3333333333333333,
             "#9c179e"
            ],
            [
             0.4444444444444444,
             "#bd3786"
            ],
            [
             0.5555555555555556,
             "#d8576b"
            ],
            [
             0.6666666666666666,
             "#ed7953"
            ],
            [
             0.7777777777777778,
             "#fb9f3a"
            ],
            [
             0.8888888888888888,
             "#fdca26"
            ],
            [
             1,
             "#f0f921"
            ]
           ],
           "sequentialminus": [
            [
             0,
             "#0d0887"
            ],
            [
             0.1111111111111111,
             "#46039f"
            ],
            [
             0.2222222222222222,
             "#7201a8"
            ],
            [
             0.3333333333333333,
             "#9c179e"
            ],
            [
             0.4444444444444444,
             "#bd3786"
            ],
            [
             0.5555555555555556,
             "#d8576b"
            ],
            [
             0.6666666666666666,
             "#ed7953"
            ],
            [
             0.7777777777777778,
             "#fb9f3a"
            ],
            [
             0.8888888888888888,
             "#fdca26"
            ],
            [
             1,
             "#f0f921"
            ]
           ]
          },
          "colorway": [
           "#636efa",
           "#EF553B",
           "#00cc96",
           "#ab63fa",
           "#FFA15A",
           "#19d3f3",
           "#FF6692",
           "#B6E880",
           "#FF97FF",
           "#FECB52"
          ],
          "font": {
           "color": "#2a3f5f"
          },
          "geo": {
           "bgcolor": "white",
           "lakecolor": "white",
           "landcolor": "#E5ECF6",
           "showlakes": true,
           "showland": true,
           "subunitcolor": "white"
          },
          "hoverlabel": {
           "align": "left"
          },
          "hovermode": "closest",
          "mapbox": {
           "style": "light"
          },
          "paper_bgcolor": "white",
          "plot_bgcolor": "#E5ECF6",
          "polar": {
           "angularaxis": {
            "gridcolor": "white",
            "linecolor": "white",
            "ticks": ""
           },
           "bgcolor": "#E5ECF6",
           "radialaxis": {
            "gridcolor": "white",
            "linecolor": "white",
            "ticks": ""
           }
          },
          "scene": {
           "xaxis": {
            "backgroundcolor": "#E5ECF6",
            "gridcolor": "white",
            "gridwidth": 2,
            "linecolor": "white",
            "showbackground": true,
            "ticks": "",
            "zerolinecolor": "white"
           },
           "yaxis": {
            "backgroundcolor": "#E5ECF6",
            "gridcolor": "white",
            "gridwidth": 2,
            "linecolor": "white",
            "showbackground": true,
            "ticks": "",
            "zerolinecolor": "white"
           },
           "zaxis": {
            "backgroundcolor": "#E5ECF6",
            "gridcolor": "white",
            "gridwidth": 2,
            "linecolor": "white",
            "showbackground": true,
            "ticks": "",
            "zerolinecolor": "white"
           }
          },
          "shapedefaults": {
           "line": {
            "color": "#2a3f5f"
           }
          },
          "ternary": {
           "aaxis": {
            "gridcolor": "white",
            "linecolor": "white",
            "ticks": ""
           },
           "baxis": {
            "gridcolor": "white",
            "linecolor": "white",
            "ticks": ""
           },
           "bgcolor": "#E5ECF6",
           "caxis": {
            "gridcolor": "white",
            "linecolor": "white",
            "ticks": ""
           }
          },
          "title": {
           "x": 0.05
          },
          "xaxis": {
           "automargin": true,
           "gridcolor": "white",
           "linecolor": "white",
           "ticks": "",
           "title": {
            "standoff": 15
           },
           "zerolinecolor": "white",
           "zerolinewidth": 2
          },
          "yaxis": {
           "automargin": true,
           "gridcolor": "white",
           "linecolor": "white",
           "ticks": "",
           "title": {
            "standoff": 15
           },
           "zerolinecolor": "white",
           "zerolinewidth": 2
          }
         }
        },
        "title": {
         "text": "Overall Project Sprint Timeline"
        },
        "xaxis": {
         "rangeselector": {
          "buttons": [
           {
            "count": 7,
            "label": "1w",
            "step": "day",
            "stepmode": "backward"
           },
           {
            "count": 1,
            "label": "1m",
            "step": "month",
            "stepmode": "backward"
           },
           {
            "count": 6,
            "label": "6m",
            "step": "month",
            "stepmode": "backward"
           },
           {
            "count": 1,
            "label": "YTD",
            "step": "year",
            "stepmode": "todate"
           },
           {
            "count": 1,
            "label": "1y",
            "step": "year",
            "stepmode": "backward"
           },
           {
            "step": "all"
           }
          ]
         },
         "showgrid": false,
         "type": "date",
         "zeroline": false
        },
        "yaxis": {
         "autorange": false,
         "range": [
          -1,
          9
         ],
         "showgrid": false,
         "ticktext": [
          "V1.0 Release + BUFFER",
          "BUFFER",
          "Sprint 3",
          "Rev+Plan 2-3",
          "Sprint 2",
          "Rev+Plan 1-2",
          "Sprint 1",
          "Sprint 0"
         ],
         "tickvals": [
          0,
          1,
          2,
          3,
          4,
          5,
          6,
          7
         ],
         "zeroline": false
        }
       }
      },
      "text/html": [
       "<div>\n",
       "        \n",
       "        \n",
       "            <div id=\"5b56c97b-c13d-41c6-b35b-1f85bf5d4661\" class=\"plotly-graph-div\" style=\"height:600px; width:100%;\"></div>\n",
       "            <script type=\"text/javascript\">\n",
       "                require([\"plotly\"], function(Plotly) {\n",
       "                    window.PLOTLYENV=window.PLOTLYENV || {};\n",
       "                    \n",
       "                if (document.getElementById(\"5b56c97b-c13d-41c6-b35b-1f85bf5d4661\")) {\n",
       "                    Plotly.newPlot(\n",
       "                        '5b56c97b-c13d-41c6-b35b-1f85bf5d4661',\n",
       "                        [{\"fill\": \"toself\", \"fillcolor\": \"rgb(114, 44, 121)\", \"hoverinfo\": \"name\", \"legendgroup\": \"rgb(114, 44, 121)\", \"mode\": \"none\", \"name\": \"Data_pretreatment\", \"type\": \"scatter\", \"x\": [\"2020-05-15\", \"2020-05-26\", \"2020-05-26\", \"2020-05-15\"], \"y\": [3.6, 3.6, 4.4, 4.4]}, {\"fill\": \"toself\", \"fillcolor\": \"rgb(198, 47, 105)\", \"hoverinfo\": \"name\", \"legendgroup\": \"rgb(198, 47, 105)\", \"mode\": \"none\", \"name\": \"Core_Programming\", \"type\": \"scatter\", \"x\": [\"2020-05-29\", \"2020-06-09\", \"2020-06-09\", \"2020-05-29\", \"2020-05-29\", \"2020-04-17\", \"2020-05-12\", \"2020-05-12\", \"2020-04-17\"], \"y\": [1.6, 1.6, 2.4, 2.4, null, 5.6, 5.6, 6.4, 6.4]}, {\"fill\": \"toself\", \"fillcolor\": \"rgb(46, 137, 205)\", \"hoverinfo\": \"name\", \"legendgroup\": \"rgb(46, 137, 205)\", \"mode\": \"none\", \"name\": \"Planning\", \"type\": \"scatter\", \"x\": [\"2020-06-07\", \"2020-06-14\", \"2020-06-14\", \"2020-06-07\", \"2020-06-07\", \"2020-05-25\", \"2020-05-29\", \"2020-05-29\", \"2020-05-25\", \"2020-05-25\", \"2020-05-11\", \"2020-05-15\", \"2020-05-15\", \"2020-05-11\", \"2020-05-11\", \"2020-04-02\", \"2020-04-24\", \"2020-04-24\", \"2020-04-02\"], \"y\": [0.6, 0.6, 1.4, 1.4, null, 2.6, 2.6, 3.4, 3.4, null, 4.6, 4.6, 5.4, 5.4, null, 6.6, 6.6, 7.4, 7.4]}, {\"fill\": \"toself\", \"fillcolor\": \"rgb(58, 149, 136)\", \"hoverinfo\": \"name\", \"legendgroup\": \"rgb(58, 149, 136)\", \"mode\": \"none\", \"name\": \"Final_outcome\", \"type\": \"scatter\", \"x\": [\"2020-06-14\", \"2020-06-20\", \"2020-06-20\", \"2020-06-14\"], \"y\": [-0.4, -0.4, 0.4, 0.4]}, {\"legendgroup\": \"rgb(114, 44, 121)\", \"marker\": {\"color\": \"rgb(114, 44, 121)\", \"opacity\": 0, \"size\": 1}, \"mode\": \"markers\", \"name\": \"\", \"showlegend\": false, \"text\": [null, null], \"type\": \"scatter\", \"x\": [\"2020-05-15\", \"2020-05-26\"], \"y\": [4, 4]}, {\"legendgroup\": \"rgb(198, 47, 105)\", \"marker\": {\"color\": \"rgb(198, 47, 105)\", \"opacity\": 0, \"size\": 1}, \"mode\": \"markers\", \"name\": \"\", \"showlegend\": false, \"text\": [null, null, null, null], \"type\": \"scatter\", \"x\": [\"2020-05-29\", \"2020-06-09\", \"2020-04-17\", \"2020-05-12\"], \"y\": [2, 2, 6, 6]}, {\"legendgroup\": \"rgb(46, 137, 205)\", \"marker\": {\"color\": \"rgb(46, 137, 205)\", \"opacity\": 0, \"size\": 1}, \"mode\": \"markers\", \"name\": \"\", \"showlegend\": false, \"text\": [null, null, null, null, null, null, null, null], \"type\": \"scatter\", \"x\": [\"2020-06-07\", \"2020-06-14\", \"2020-05-25\", \"2020-05-29\", \"2020-05-11\", \"2020-05-15\", \"2020-04-02\", \"2020-04-24\"], \"y\": [1, 1, 3, 3, 5, 5, 7, 7]}, {\"legendgroup\": \"rgb(58, 149, 136)\", \"marker\": {\"color\": \"rgb(58, 149, 136)\", \"opacity\": 0, \"size\": 1}, \"mode\": \"markers\", \"name\": \"\", \"showlegend\": false, \"text\": [null, null], \"type\": \"scatter\", \"x\": [\"2020-06-14\", \"2020-06-20\"], \"y\": [0, 0]}],\n",
       "                        {\"height\": 600, \"hovermode\": \"closest\", \"showlegend\": true, \"template\": {\"data\": {\"bar\": [{\"error_x\": {\"color\": \"#2a3f5f\"}, \"error_y\": {\"color\": \"#2a3f5f\"}, \"marker\": {\"line\": {\"color\": \"#E5ECF6\", \"width\": 0.5}}, \"type\": \"bar\"}], \"barpolar\": [{\"marker\": {\"line\": {\"color\": \"#E5ECF6\", \"width\": 0.5}}, \"type\": \"barpolar\"}], \"carpet\": [{\"aaxis\": {\"endlinecolor\": \"#2a3f5f\", \"gridcolor\": \"white\", \"linecolor\": \"white\", \"minorgridcolor\": \"white\", \"startlinecolor\": \"#2a3f5f\"}, \"baxis\": {\"endlinecolor\": \"#2a3f5f\", \"gridcolor\": \"white\", \"linecolor\": \"white\", \"minorgridcolor\": \"white\", \"startlinecolor\": \"#2a3f5f\"}, \"type\": \"carpet\"}], \"choropleth\": [{\"colorbar\": {\"outlinewidth\": 0, \"ticks\": \"\"}, \"type\": \"choropleth\"}], \"contour\": [{\"colorbar\": {\"outlinewidth\": 0, \"ticks\": \"\"}, \"colorscale\": [[0.0, \"#0d0887\"], [0.1111111111111111, \"#46039f\"], [0.2222222222222222, \"#7201a8\"], [0.3333333333333333, \"#9c179e\"], [0.4444444444444444, \"#bd3786\"], [0.5555555555555556, \"#d8576b\"], [0.6666666666666666, \"#ed7953\"], [0.7777777777777778, \"#fb9f3a\"], [0.8888888888888888, \"#fdca26\"], [1.0, \"#f0f921\"]], \"type\": \"contour\"}], \"contourcarpet\": [{\"colorbar\": {\"outlinewidth\": 0, \"ticks\": \"\"}, \"type\": \"contourcarpet\"}], \"heatmap\": [{\"colorbar\": {\"outlinewidth\": 0, \"ticks\": \"\"}, \"colorscale\": [[0.0, \"#0d0887\"], [0.1111111111111111, \"#46039f\"], [0.2222222222222222, \"#7201a8\"], [0.3333333333333333, \"#9c179e\"], [0.4444444444444444, \"#bd3786\"], [0.5555555555555556, \"#d8576b\"], [0.6666666666666666, \"#ed7953\"], [0.7777777777777778, \"#fb9f3a\"], [0.8888888888888888, \"#fdca26\"], [1.0, \"#f0f921\"]], \"type\": \"heatmap\"}], \"heatmapgl\": [{\"colorbar\": {\"outlinewidth\": 0, \"ticks\": \"\"}, \"colorscale\": [[0.0, \"#0d0887\"], [0.1111111111111111, \"#46039f\"], [0.2222222222222222, \"#7201a8\"], [0.3333333333333333, \"#9c179e\"], [0.4444444444444444, \"#bd3786\"], [0.5555555555555556, \"#d8576b\"], [0.6666666666666666, \"#ed7953\"], [0.7777777777777778, \"#fb9f3a\"], [0.8888888888888888, \"#fdca26\"], [1.0, \"#f0f921\"]], \"type\": \"heatmapgl\"}], \"histogram\": [{\"marker\": {\"colorbar\": {\"outlinewidth\": 0, \"ticks\": \"\"}}, \"type\": \"histogram\"}], \"histogram2d\": [{\"colorbar\": {\"outlinewidth\": 0, \"ticks\": \"\"}, \"colorscale\": [[0.0, \"#0d0887\"], [0.1111111111111111, \"#46039f\"], [0.2222222222222222, \"#7201a8\"], [0.3333333333333333, \"#9c179e\"], [0.4444444444444444, \"#bd3786\"], [0.5555555555555556, \"#d8576b\"], [0.6666666666666666, \"#ed7953\"], [0.7777777777777778, \"#fb9f3a\"], [0.8888888888888888, \"#fdca26\"], [1.0, \"#f0f921\"]], \"type\": \"histogram2d\"}], \"histogram2dcontour\": [{\"colorbar\": {\"outlinewidth\": 0, \"ticks\": \"\"}, \"colorscale\": [[0.0, \"#0d0887\"], [0.1111111111111111, \"#46039f\"], [0.2222222222222222, \"#7201a8\"], [0.3333333333333333, \"#9c179e\"], [0.4444444444444444, \"#bd3786\"], [0.5555555555555556, \"#d8576b\"], [0.6666666666666666, \"#ed7953\"], [0.7777777777777778, \"#fb9f3a\"], [0.8888888888888888, \"#fdca26\"], [1.0, \"#f0f921\"]], \"type\": \"histogram2dcontour\"}], \"mesh3d\": [{\"colorbar\": {\"outlinewidth\": 0, \"ticks\": \"\"}, \"type\": \"mesh3d\"}], \"parcoords\": [{\"line\": {\"colorbar\": {\"outlinewidth\": 0, \"ticks\": \"\"}}, \"type\": \"parcoords\"}], \"pie\": [{\"automargin\": true, \"type\": \"pie\"}], \"scatter\": [{\"marker\": {\"colorbar\": {\"outlinewidth\": 0, \"ticks\": \"\"}}, \"type\": \"scatter\"}], \"scatter3d\": [{\"line\": {\"colorbar\": {\"outlinewidth\": 0, \"ticks\": \"\"}}, \"marker\": {\"colorbar\": {\"outlinewidth\": 0, \"ticks\": \"\"}}, \"type\": \"scatter3d\"}], \"scattercarpet\": [{\"marker\": {\"colorbar\": {\"outlinewidth\": 0, \"ticks\": \"\"}}, \"type\": \"scattercarpet\"}], \"scattergeo\": [{\"marker\": {\"colorbar\": {\"outlinewidth\": 0, \"ticks\": \"\"}}, \"type\": \"scattergeo\"}], \"scattergl\": [{\"marker\": {\"colorbar\": {\"outlinewidth\": 0, \"ticks\": \"\"}}, \"type\": \"scattergl\"}], \"scattermapbox\": [{\"marker\": {\"colorbar\": {\"outlinewidth\": 0, \"ticks\": \"\"}}, \"type\": \"scattermapbox\"}], \"scatterpolar\": [{\"marker\": {\"colorbar\": {\"outlinewidth\": 0, \"ticks\": \"\"}}, \"type\": \"scatterpolar\"}], \"scatterpolargl\": [{\"marker\": {\"colorbar\": {\"outlinewidth\": 0, \"ticks\": \"\"}}, \"type\": \"scatterpolargl\"}], \"scatterternary\": [{\"marker\": {\"colorbar\": {\"outlinewidth\": 0, \"ticks\": \"\"}}, \"type\": \"scatterternary\"}], \"surface\": [{\"colorbar\": {\"outlinewidth\": 0, \"ticks\": \"\"}, \"colorscale\": [[0.0, \"#0d0887\"], [0.1111111111111111, \"#46039f\"], [0.2222222222222222, \"#7201a8\"], [0.3333333333333333, \"#9c179e\"], [0.4444444444444444, \"#bd3786\"], [0.5555555555555556, \"#d8576b\"], [0.6666666666666666, \"#ed7953\"], [0.7777777777777778, \"#fb9f3a\"], [0.8888888888888888, \"#fdca26\"], [1.0, \"#f0f921\"]], \"type\": \"surface\"}], \"table\": [{\"cells\": {\"fill\": {\"color\": \"#EBF0F8\"}, \"line\": {\"color\": \"white\"}}, \"header\": {\"fill\": {\"color\": \"#C8D4E3\"}, \"line\": {\"color\": \"white\"}}, \"type\": \"table\"}]}, \"layout\": {\"annotationdefaults\": {\"arrowcolor\": \"#2a3f5f\", \"arrowhead\": 0, \"arrowwidth\": 1}, \"coloraxis\": {\"colorbar\": {\"outlinewidth\": 0, \"ticks\": \"\"}}, \"colorscale\": {\"diverging\": [[0, \"#8e0152\"], [0.1, \"#c51b7d\"], [0.2, \"#de77ae\"], [0.3, \"#f1b6da\"], [0.4, \"#fde0ef\"], [0.5, \"#f7f7f7\"], [0.6, \"#e6f5d0\"], [0.7, \"#b8e186\"], [0.8, \"#7fbc41\"], [0.9, \"#4d9221\"], [1, \"#276419\"]], \"sequential\": [[0.0, \"#0d0887\"], [0.1111111111111111, \"#46039f\"], [0.2222222222222222, \"#7201a8\"], [0.3333333333333333, \"#9c179e\"], [0.4444444444444444, \"#bd3786\"], [0.5555555555555556, \"#d8576b\"], [0.6666666666666666, \"#ed7953\"], [0.7777777777777778, \"#fb9f3a\"], [0.8888888888888888, \"#fdca26\"], [1.0, \"#f0f921\"]], \"sequentialminus\": [[0.0, \"#0d0887\"], [0.1111111111111111, \"#46039f\"], [0.2222222222222222, \"#7201a8\"], [0.3333333333333333, \"#9c179e\"], [0.4444444444444444, \"#bd3786\"], [0.5555555555555556, \"#d8576b\"], [0.6666666666666666, \"#ed7953\"], [0.7777777777777778, \"#fb9f3a\"], [0.8888888888888888, \"#fdca26\"], [1.0, \"#f0f921\"]]}, \"colorway\": [\"#636efa\", \"#EF553B\", \"#00cc96\", \"#ab63fa\", \"#FFA15A\", \"#19d3f3\", \"#FF6692\", \"#B6E880\", \"#FF97FF\", \"#FECB52\"], \"font\": {\"color\": \"#2a3f5f\"}, \"geo\": {\"bgcolor\": \"white\", \"lakecolor\": \"white\", \"landcolor\": \"#E5ECF6\", \"showlakes\": true, \"showland\": true, \"subunitcolor\": \"white\"}, \"hoverlabel\": {\"align\": \"left\"}, \"hovermode\": \"closest\", \"mapbox\": {\"style\": \"light\"}, \"paper_bgcolor\": \"white\", \"plot_bgcolor\": \"#E5ECF6\", \"polar\": {\"angularaxis\": {\"gridcolor\": \"white\", \"linecolor\": \"white\", \"ticks\": \"\"}, \"bgcolor\": \"#E5ECF6\", \"radialaxis\": {\"gridcolor\": \"white\", \"linecolor\": \"white\", \"ticks\": \"\"}}, \"scene\": {\"xaxis\": {\"backgroundcolor\": \"#E5ECF6\", \"gridcolor\": \"white\", \"gridwidth\": 2, \"linecolor\": \"white\", \"showbackground\": true, \"ticks\": \"\", \"zerolinecolor\": \"white\"}, \"yaxis\": {\"backgroundcolor\": \"#E5ECF6\", \"gridcolor\": \"white\", \"gridwidth\": 2, \"linecolor\": \"white\", \"showbackground\": true, \"ticks\": \"\", \"zerolinecolor\": \"white\"}, \"zaxis\": {\"backgroundcolor\": \"#E5ECF6\", \"gridcolor\": \"white\", \"gridwidth\": 2, \"linecolor\": \"white\", \"showbackground\": true, \"ticks\": \"\", \"zerolinecolor\": \"white\"}}, \"shapedefaults\": {\"line\": {\"color\": \"#2a3f5f\"}}, \"ternary\": {\"aaxis\": {\"gridcolor\": \"white\", \"linecolor\": \"white\", \"ticks\": \"\"}, \"baxis\": {\"gridcolor\": \"white\", \"linecolor\": \"white\", \"ticks\": \"\"}, \"bgcolor\": \"#E5ECF6\", \"caxis\": {\"gridcolor\": \"white\", \"linecolor\": \"white\", \"ticks\": \"\"}}, \"title\": {\"x\": 0.05}, \"xaxis\": {\"automargin\": true, \"gridcolor\": \"white\", \"linecolor\": \"white\", \"ticks\": \"\", \"title\": {\"standoff\": 15}, \"zerolinecolor\": \"white\", \"zerolinewidth\": 2}, \"yaxis\": {\"automargin\": true, \"gridcolor\": \"white\", \"linecolor\": \"white\", \"ticks\": \"\", \"title\": {\"standoff\": 15}, \"zerolinecolor\": \"white\", \"zerolinewidth\": 2}}}, \"title\": {\"text\": \"Overall Project Sprint Timeline\"}, \"xaxis\": {\"rangeselector\": {\"buttons\": [{\"count\": 7, \"label\": \"1w\", \"step\": \"day\", \"stepmode\": \"backward\"}, {\"count\": 1, \"label\": \"1m\", \"step\": \"month\", \"stepmode\": \"backward\"}, {\"count\": 6, \"label\": \"6m\", \"step\": \"month\", \"stepmode\": \"backward\"}, {\"count\": 1, \"label\": \"YTD\", \"step\": \"year\", \"stepmode\": \"todate\"}, {\"count\": 1, \"label\": \"1y\", \"step\": \"year\", \"stepmode\": \"backward\"}, {\"step\": \"all\"}]}, \"showgrid\": false, \"type\": \"date\", \"zeroline\": false}, \"yaxis\": {\"autorange\": false, \"range\": [-1, 9], \"showgrid\": false, \"ticktext\": [\"V1.0 Release + BUFFER\", \"BUFFER\", \"Sprint 3\", \"Rev+Plan 2-3\", \"Sprint 2\", \"Rev+Plan 1-2\", \"Sprint 1\", \"Sprint 0\"], \"tickvals\": [0, 1, 2, 3, 4, 5, 6, 7], \"zeroline\": false}},\n",
       "                        {\"responsive\": true}\n",
       "                    ).then(function(){\n",
       "                            \n",
       "var gd = document.getElementById('5b56c97b-c13d-41c6-b35b-1f85bf5d4661');\n",
       "var x = new MutationObserver(function (mutations, observer) {{\n",
       "        var display = window.getComputedStyle(gd).display;\n",
       "        if (!display || display === 'none') {{\n",
       "            console.log([gd, 'removed!']);\n",
       "            Plotly.purge(gd);\n",
       "            observer.disconnect();\n",
       "        }}\n",
       "}});\n",
       "\n",
       "// Listen for the removal of the full notebook cells\n",
       "var notebookContainer = gd.closest('#notebook-container');\n",
       "if (notebookContainer) {{\n",
       "    x.observe(notebookContainer, {childList: true});\n",
       "}}\n",
       "\n",
       "// Listen for the clearing of the current output cell\n",
       "var outputEl = gd.closest('.output');\n",
       "if (outputEl) {{\n",
       "    x.observe(outputEl, {childList: true});\n",
       "}}\n",
       "\n",
       "                        })\n",
       "                };\n",
       "                });\n",
       "            </script>\n",
       "        </div>"
      ]
     },
     "metadata": {},
     "output_type": "display_data"
    }
   ],
   "source": [
    "sprint_timeline = [\n",
    "      dict(Task='Sprint 0',     Start='2020-04-02', Finish='2020-04-24', Resource='Planning'),\n",
    "      dict(Task='Sprint 1',     Start='2020-04-17', Finish='2020-05-12', Resource=\"Core_Programming\"),\n",
    "      dict(Task='Rev+Plan 1-2', Start='2020-05-11', Finish='2020-05-15', Resource=\"Planning\"),\n",
    "      dict(Task='Sprint 2',     Start='2020-05-15', Finish='2020-05-26', Resource=\"Data_pretreatment\"),\n",
    "      dict(Task='Rev+Plan 2-3', Start='2020-05-25', Finish='2020-05-29', Resource=\"Planning\"),\n",
    "      dict(Task=\"Sprint 3\",     Start='2020-05-29', Finish='2020-06-09', Resource='Core_Programming'),\n",
    "      dict(Task='BUFFER', Start='2020-06-07', Finish='2020-06-14', Resource=\"Planning\"),\n",
    "      dict(Task=\"V1.0 Release + BUFFER\", Start='2020-06-14', Finish='2020-06-20', Resource='Final_outcome')\n",
    "      ]\n",
    "\n",
    "colors = dict(Planning = 'rgb(46, 137, 205)',\n",
    "              Data_pretreatment = 'rgb(114, 44, 121)',\n",
    "              Core_Programming = 'rgb(198, 47, 105)',\n",
    "              Final_outcome = 'rgb(58, 149, 136)')\n",
    "\n",
    "sprint_timeline.reverse()  # I prefer to index based on \n",
    "time_fig = ff.create_gantt(sprint_timeline, colors=colors, index_col='Resource', bar_width=0.4,\n",
    "                      show_colorbar=True, title=\"Overall Project Sprint Timeline\")\n",
    "time_fig.show()"
   ]
  },
  {
   "cell_type": "markdown",
   "metadata": {},
   "source": [
    "### SPRINT 1: April 17th $\\Rightarrow$ April 28th\n",
    "The final project will follow our team's Vision statement, with the possibility of any Stretch-goals or any changes we make along the way to the scope based on what we learn as we go. \n",
    "\n",
    "##### Documentation: \n",
    " * Setup Travis.CI in github repo and have it Passing (at some point)\n",
    " * Setup ReadTheDocs in repo\n",
    " * Finish [Functional](https://en.wikipedia.org/wiki/Functional_specification) and Component Specifications \n",
    "<span style=\"color: green;\">(w/ Optional Diagrams)</span>\n",
    " * Set up all expected .py files with all functions in the Functional Spec (they can be empty, but add Docstrings whenever possible to explain them!)\n",
    " * Document DATA-FLOW strategy to show which packages are intended to wrap/use the others, and set them up to import eachother as needed\n",
    "##### Data Supported:\n",
    " * Can interperet folder-structure as classifier names (ignore parsing filenames for now)\n",
    " * Starting with 2-column CSV files with only \"Row 0\" column headings.\n",
    "    * Use Functions to generate that data for simple arethmatic f(n)s - ie model distinguishing between line and sin()\n",
    " * Can import data from whatever source we are generating \"Small Angle Scatter\" data (TBD)\n",
    " * Test both of these formats to ensure that they work\n",
    "##### Transformations on Data:\n",
    " * Program the listed 1-D functions\n",
    " * write f(n)s to perform each of these and hand off to image processing\n",
    "##### Transformation into Images:\n",
    " * Can prepare images in the format that the CNN expects them *(I'm not sure what fn to put in charge)*\n",
    "##### Setup and Execution of CNN\n",
    " * CNN setup as built on infrastructure from last term\n",
    " * List of Hyperparameters and some ability to cycle through and optimize\n",
    " * Ability for user to \"control\" the duration of the optimization (of course, with performance tradeoffs)\n",
    "##### Result Format / Interface\n",
    " * Function for saving the model (optional, or \"If Better Than ##%\")\n",
    " * Report for run, list of model IDs, transformations, and hyperparameters used (maybe save as csv)\n",
    "##### Expected Performance Goals\n",
    " * Main goal is to have something that runs without taking too long (focus on speed and code here, complexity is only going to get harder!)\n",
    " * If we understand \"Why\" we have the performance we do, that's all the better! I would hope that a simple Linear vs Sin() classifier should be able to acheive high accuracy though! \n",
    "##### \"Smart\" Logic and Meta-Learning\n",
    " * Come up with ideas that we might In-Scope if we have time!"
   ]
  },
  {
   "cell_type": "code",
   "execution_count": 68,
   "metadata": {},
   "outputs": [
    {
     "data": {
      "application/vnd.plotly.v1+json": {
       "config": {
        "plotlyServerURL": "https://plot.ly"
       },
       "data": [
        {
         "fill": "toself",
         "fillcolor": "rgb(10, 120, 10)",
         "hoverinfo": "name",
         "legendgroup": "rgb(10, 120, 10)",
         "mode": "none",
         "name": "David",
         "type": "scatter",
         "x": [
          "2020-04-17",
          "2020-04-21",
          "2020-04-21",
          "2020-04-17",
          "2020-04-17",
          "2020-04-22",
          "2020-04-24",
          "2020-04-24",
          "2020-04-22",
          "2020-04-22",
          "2020-05-10",
          "2020-05-12",
          "2020-05-12",
          "2020-05-10",
          "2020-05-10",
          "2020-04-17",
          "2020-04-19",
          "2020-04-19",
          "2020-04-17"
         ],
         "y": [
          12.6,
          12.6,
          13.4,
          13.4,
          null,
          18.6,
          18.6,
          19.4,
          19.4,
          null,
          31.6,
          31.6,
          32.4,
          32.4,
          null,
          34.6,
          34.6,
          35.4,
          35.4
         ]
        },
        {
         "fill": "toself",
         "fillcolor": "rgb(114, 44, 121)",
         "hoverinfo": "name",
         "legendgroup": "rgb(114, 44, 121)",
         "mode": "none",
         "name": "Maria",
         "type": "scatter",
         "x": [
          "2020-04-28",
          "2020-05-04",
          "2020-05-04",
          "2020-04-28",
          "2020-04-28",
          "2020-04-17",
          "2020-04-21",
          "2020-04-21",
          "2020-04-17"
         ],
         "y": [
          25.6,
          25.6,
          26.4,
          26.4,
          null,
          35.6,
          35.6,
          36.4,
          36.4
         ]
        },
        {
         "fill": "toself",
         "fillcolor": "rgb(198, 47, 105)",
         "hoverinfo": "name",
         "legendgroup": "rgb(198, 47, 105)",
         "mode": "none",
         "name": "Moeez",
         "type": "scatter",
         "x": [
          "2020-04-17",
          "2020-04-21",
          "2020-04-21",
          "2020-04-17"
         ],
         "y": [
          36.6,
          36.6,
          37.4,
          37.4
         ]
        },
        {
         "fill": "toself",
         "fillcolor": "rgb(200, 200, 200)",
         "hoverinfo": "name",
         "legendgroup": "rgb(200, 200, 200)",
         "mode": "none",
         "name": "NA",
         "type": "scatter",
         "x": [
          "2020-05-12",
          "2020-05-12",
          "2020-05-12",
          "2020-05-12",
          "2020-05-12",
          "2020-0 -  ",
          "2020-0 -  ",
          "2020-0 -  ",
          "2020-0 -  ",
          "2020-0 -  ",
          "2020-0 -  ",
          "2020-0 -  ",
          "2020-0 -  ",
          "2020-0 -  ",
          "2020-0 -  ",
          "2020-0 -  ",
          "2020-0 -  ",
          "2020-0 -  ",
          "2020-0 -  ",
          "2020-0 -  ",
          "2020-0 -  ",
          "2020-0 -  ",
          "2020-0 -  ",
          "2020-0 -  ",
          "2020-0 -  ",
          "2020-05-12",
          "2020-05-12",
          "2020-05-12",
          "2020-05-12",
          "2020-05-12",
          "2020-05-04",
          "2020-05-12",
          "2020-05-12",
          "2020-05-04",
          "2020-05-04",
          "2020-05-01",
          "2020-05-08",
          "2020-05-08",
          "2020-05-01",
          "2020-05-01",
          "2020-05-01",
          "2020-05-04",
          "2020-05-04",
          "2020-05-01",
          "2020-05-01",
          "2020-04-28",
          "2020-05-04",
          "2020-05-04",
          "2020-04-28",
          "2020-04-28",
          "2020-04-21",
          "2020-04-28",
          "2020-04-28",
          "2020-04-21",
          "2020-04-21",
          "2020-04-22",
          "2020-04-23",
          "2020-04-23",
          "2020-04-22",
          "2020-04-22",
          "2020-04-19",
          "2020-04-24",
          "2020-04-24",
          "2020-04-19",
          "2020-04-19",
          "2020-05-12",
          "2020-05-12",
          "2020-05-12",
          "2020-05-12",
          "2020-05-12",
          "2020-04-24",
          "2020-04-28",
          "2020-04-28",
          "2020-04-24",
          "2020-04-24",
          "2020-04-22",
          "2020-04-24",
          "2020-04-24",
          "2020-04-22",
          "2020-04-22",
          "2020-04-22",
          "2020-04-26",
          "2020-04-26",
          "2020-04-22",
          "2020-04-22",
          "2020-04-19",
          "2020-04-24",
          "2020-04-24",
          "2020-04-19",
          "2020-04-19",
          "2020-04-19",
          "2020-04-24",
          "2020-04-24",
          "2020-04-19",
          "2020-04-19",
          "2020-05-12",
          "2020-05-12",
          "2020-05-12",
          "2020-05-12",
          "2020-05-12",
          "2020-04-21",
          "2020-05-06",
          "2020-05-06",
          "2020-04-21",
          "2020-04-21",
          "2020-04-20",
          "2020-04-22",
          "2020-04-22",
          "2020-04-20",
          "2020-04-20",
          "2020-04-19",
          "2020-04-21",
          "2020-04-21",
          "2020-04-19",
          "2020-04-19",
          "2020-05-12",
          "2020-05-12",
          "2020-05-12",
          "2020-05-12"
         ],
         "y": [
          -0.4,
          -0.4,
          0.4,
          0.4,
          null,
          0.6,
          0.6,
          1.4,
          1.4,
          null,
          1.6,
          1.6,
          2.4,
          2.4,
          null,
          2.6,
          2.6,
          3.4,
          3.4,
          null,
          3.6,
          3.6,
          4.4,
          4.4,
          null,
          5.6,
          5.6,
          6.4,
          6.4,
          null,
          6.6,
          6.6,
          7.4,
          7.4,
          null,
          7.6,
          7.6,
          8.4,
          8.4,
          null,
          8.6,
          8.6,
          9.4,
          9.4,
          null,
          9.6,
          9.6,
          10.4,
          10.4,
          null,
          10.6,
          10.6,
          11.4,
          11.4,
          null,
          11.6,
          11.6,
          12.4,
          12.4,
          null,
          13.6,
          13.6,
          14.4,
          14.4,
          null,
          15.6,
          15.6,
          16.4,
          16.4,
          null,
          16.6,
          16.6,
          17.4,
          17.4,
          null,
          17.6,
          17.6,
          18.4,
          18.4,
          null,
          19.6,
          19.6,
          20.4,
          20.4,
          null,
          20.6,
          20.6,
          21.4,
          21.4,
          null,
          21.6,
          21.6,
          22.4,
          22.4,
          null,
          23.6,
          23.6,
          24.4,
          24.4,
          null,
          24.6,
          24.6,
          25.4,
          25.4,
          null,
          26.6,
          26.6,
          27.4,
          27.4,
          null,
          27.6,
          27.6,
          28.4,
          28.4,
          null,
          29.6,
          29.6,
          30.4,
          30.4
         ]
        },
        {
         "fill": "toself",
         "fillcolor": "rgb(30, 30, 30)",
         "hoverinfo": "name",
         "legendgroup": "rgb(30, 30, 30)",
         "mode": "none",
         "name": "TEAM",
         "type": "scatter",
         "x": [
          "2020-04-17",
          "2020-05-12",
          "2020-05-12",
          "2020-04-17",
          "2020-04-17",
          "2020-04-17",
          "2020-05-12",
          "2020-05-12",
          "2020-04-17",
          "2020-04-17",
          "2020-04-17",
          "2020-05-12",
          "2020-05-12",
          "2020-04-17",
          "2020-04-17",
          "2020-04-17",
          "2020-05-12",
          "2020-05-12",
          "2020-04-17",
          "2020-04-17",
          "2020-05-07",
          "2020-05-12",
          "2020-05-12",
          "2020-05-07",
          "2020-05-07",
          "2020-04-27",
          "2020-04-29",
          "2020-04-29",
          "2020-04-27",
          "2020-04-27",
          "2020-04-19",
          "2020-04-21",
          "2020-04-21",
          "2020-04-19",
          "2020-04-19",
          "2020-04-17",
          "2020-05-12",
          "2020-05-12",
          "2020-04-17"
         ],
         "y": [
          4.6,
          4.6,
          5.4,
          5.4,
          null,
          14.6,
          14.6,
          15.4,
          15.4,
          null,
          22.6,
          22.6,
          23.4,
          23.4,
          null,
          28.6,
          28.6,
          29.4,
          29.4,
          null,
          30.6,
          30.6,
          31.4,
          31.4,
          null,
          32.6,
          32.6,
          33.4,
          33.4,
          null,
          33.6,
          33.6,
          34.4,
          34.4,
          null,
          37.6,
          37.6,
          38.4,
          38.4
         ]
        },
        {
         "legendgroup": "rgb(10, 120, 10)",
         "marker": {
          "color": "rgb(10, 120, 10)",
          "opacity": 0,
          "size": 1
         },
         "mode": "markers",
         "name": "",
         "showlegend": false,
         "text": [
          null,
          null,
          null,
          null,
          null,
          null,
          null,
          null
         ],
         "type": "scatter",
         "x": [
          "2020-04-17",
          "2020-04-21",
          "2020-04-22",
          "2020-04-24",
          "2020-05-10",
          "2020-05-12",
          "2020-04-17",
          "2020-04-19"
         ],
         "y": [
          13,
          13,
          19,
          19,
          32,
          32,
          35,
          35
         ]
        },
        {
         "legendgroup": "rgb(114, 44, 121)",
         "marker": {
          "color": "rgb(114, 44, 121)",
          "opacity": 0,
          "size": 1
         },
         "mode": "markers",
         "name": "",
         "showlegend": false,
         "text": [
          null,
          null,
          null,
          null
         ],
         "type": "scatter",
         "x": [
          "2020-04-28",
          "2020-05-04",
          "2020-04-17",
          "2020-04-21"
         ],
         "y": [
          26,
          26,
          36,
          36
         ]
        },
        {
         "legendgroup": "rgb(198, 47, 105)",
         "marker": {
          "color": "rgb(198, 47, 105)",
          "opacity": 0,
          "size": 1
         },
         "mode": "markers",
         "name": "",
         "showlegend": false,
         "text": [
          null,
          null
         ],
         "type": "scatter",
         "x": [
          "2020-04-17",
          "2020-04-21"
         ],
         "y": [
          37,
          37
         ]
        },
        {
         "legendgroup": "rgb(200, 200, 200)",
         "marker": {
          "color": "rgb(200, 200, 200)",
          "opacity": 0,
          "size": 1
         },
         "mode": "markers",
         "name": "",
         "showlegend": false,
         "text": [
          null,
          null,
          null,
          null,
          null,
          null,
          null,
          null,
          null,
          null,
          null,
          null,
          null,
          null,
          null,
          null,
          null,
          null,
          null,
          null,
          null,
          null,
          null,
          null,
          null,
          null,
          null,
          null,
          null,
          null,
          null,
          null,
          null,
          null,
          null,
          null,
          null,
          null,
          null,
          null,
          null,
          null,
          null,
          null,
          null,
          null,
          null,
          null
         ],
         "type": "scatter",
         "x": [
          "2020-05-12",
          "2020-05-12",
          "2020-0 -  ",
          "2020-0 -  ",
          "2020-0 -  ",
          "2020-0 -  ",
          "2020-0 -  ",
          "2020-0 -  ",
          "2020-0 -  ",
          "2020-0 -  ",
          "2020-05-12",
          "2020-05-12",
          "2020-05-04",
          "2020-05-12",
          "2020-05-01",
          "2020-05-08",
          "2020-05-01",
          "2020-05-04",
          "2020-04-28",
          "2020-05-04",
          "2020-04-21",
          "2020-04-28",
          "2020-04-22",
          "2020-04-23",
          "2020-04-19",
          "2020-04-24",
          "2020-05-12",
          "2020-05-12",
          "2020-04-24",
          "2020-04-28",
          "2020-04-22",
          "2020-04-24",
          "2020-04-22",
          "2020-04-26",
          "2020-04-19",
          "2020-04-24",
          "2020-04-19",
          "2020-04-24",
          "2020-05-12",
          "2020-05-12",
          "2020-04-21",
          "2020-05-06",
          "2020-04-20",
          "2020-04-22",
          "2020-04-19",
          "2020-04-21",
          "2020-05-12",
          "2020-05-12"
         ],
         "y": [
          0,
          0,
          1,
          1,
          2,
          2,
          3,
          3,
          4,
          4,
          6,
          6,
          7,
          7,
          8,
          8,
          9,
          9,
          10,
          10,
          11,
          11,
          12,
          12,
          14,
          14,
          16,
          16,
          17,
          17,
          18,
          18,
          20,
          20,
          21,
          21,
          22,
          22,
          24,
          24,
          25,
          25,
          27,
          27,
          28,
          28,
          30,
          30
         ]
        },
        {
         "legendgroup": "rgb(30, 30, 30)",
         "marker": {
          "color": "rgb(30, 30, 30)",
          "opacity": 0,
          "size": 1
         },
         "mode": "markers",
         "name": "",
         "showlegend": false,
         "text": [
          null,
          null,
          null,
          null,
          null,
          null,
          null,
          null,
          null,
          null,
          null,
          null,
          null,
          null,
          null,
          null
         ],
         "type": "scatter",
         "x": [
          "2020-04-17",
          "2020-05-12",
          "2020-04-17",
          "2020-05-12",
          "2020-04-17",
          "2020-05-12",
          "2020-04-17",
          "2020-05-12",
          "2020-05-07",
          "2020-05-12",
          "2020-04-27",
          "2020-04-29",
          "2020-04-19",
          "2020-04-21",
          "2020-04-17",
          "2020-05-12"
         ],
         "y": [
          5,
          5,
          15,
          15,
          23,
          23,
          29,
          29,
          31,
          31,
          33,
          33,
          34,
          34,
          38,
          38
         ]
        }
       ],
       "layout": {
        "height": 600,
        "hovermode": "closest",
        "showlegend": true,
        "template": {
         "data": {
          "bar": [
           {
            "error_x": {
             "color": "#2a3f5f"
            },
            "error_y": {
             "color": "#2a3f5f"
            },
            "marker": {
             "line": {
              "color": "#E5ECF6",
              "width": 0.5
             }
            },
            "type": "bar"
           }
          ],
          "barpolar": [
           {
            "marker": {
             "line": {
              "color": "#E5ECF6",
              "width": 0.5
             }
            },
            "type": "barpolar"
           }
          ],
          "carpet": [
           {
            "aaxis": {
             "endlinecolor": "#2a3f5f",
             "gridcolor": "white",
             "linecolor": "white",
             "minorgridcolor": "white",
             "startlinecolor": "#2a3f5f"
            },
            "baxis": {
             "endlinecolor": "#2a3f5f",
             "gridcolor": "white",
             "linecolor": "white",
             "minorgridcolor": "white",
             "startlinecolor": "#2a3f5f"
            },
            "type": "carpet"
           }
          ],
          "choropleth": [
           {
            "colorbar": {
             "outlinewidth": 0,
             "ticks": ""
            },
            "type": "choropleth"
           }
          ],
          "contour": [
           {
            "colorbar": {
             "outlinewidth": 0,
             "ticks": ""
            },
            "colorscale": [
             [
              0,
              "#0d0887"
             ],
             [
              0.1111111111111111,
              "#46039f"
             ],
             [
              0.2222222222222222,
              "#7201a8"
             ],
             [
              0.3333333333333333,
              "#9c179e"
             ],
             [
              0.4444444444444444,
              "#bd3786"
             ],
             [
              0.5555555555555556,
              "#d8576b"
             ],
             [
              0.6666666666666666,
              "#ed7953"
             ],
             [
              0.7777777777777778,
              "#fb9f3a"
             ],
             [
              0.8888888888888888,
              "#fdca26"
             ],
             [
              1,
              "#f0f921"
             ]
            ],
            "type": "contour"
           }
          ],
          "contourcarpet": [
           {
            "colorbar": {
             "outlinewidth": 0,
             "ticks": ""
            },
            "type": "contourcarpet"
           }
          ],
          "heatmap": [
           {
            "colorbar": {
             "outlinewidth": 0,
             "ticks": ""
            },
            "colorscale": [
             [
              0,
              "#0d0887"
             ],
             [
              0.1111111111111111,
              "#46039f"
             ],
             [
              0.2222222222222222,
              "#7201a8"
             ],
             [
              0.3333333333333333,
              "#9c179e"
             ],
             [
              0.4444444444444444,
              "#bd3786"
             ],
             [
              0.5555555555555556,
              "#d8576b"
             ],
             [
              0.6666666666666666,
              "#ed7953"
             ],
             [
              0.7777777777777778,
              "#fb9f3a"
             ],
             [
              0.8888888888888888,
              "#fdca26"
             ],
             [
              1,
              "#f0f921"
             ]
            ],
            "type": "heatmap"
           }
          ],
          "heatmapgl": [
           {
            "colorbar": {
             "outlinewidth": 0,
             "ticks": ""
            },
            "colorscale": [
             [
              0,
              "#0d0887"
             ],
             [
              0.1111111111111111,
              "#46039f"
             ],
             [
              0.2222222222222222,
              "#7201a8"
             ],
             [
              0.3333333333333333,
              "#9c179e"
             ],
             [
              0.4444444444444444,
              "#bd3786"
             ],
             [
              0.5555555555555556,
              "#d8576b"
             ],
             [
              0.6666666666666666,
              "#ed7953"
             ],
             [
              0.7777777777777778,
              "#fb9f3a"
             ],
             [
              0.8888888888888888,
              "#fdca26"
             ],
             [
              1,
              "#f0f921"
             ]
            ],
            "type": "heatmapgl"
           }
          ],
          "histogram": [
           {
            "marker": {
             "colorbar": {
              "outlinewidth": 0,
              "ticks": ""
             }
            },
            "type": "histogram"
           }
          ],
          "histogram2d": [
           {
            "colorbar": {
             "outlinewidth": 0,
             "ticks": ""
            },
            "colorscale": [
             [
              0,
              "#0d0887"
             ],
             [
              0.1111111111111111,
              "#46039f"
             ],
             [
              0.2222222222222222,
              "#7201a8"
             ],
             [
              0.3333333333333333,
              "#9c179e"
             ],
             [
              0.4444444444444444,
              "#bd3786"
             ],
             [
              0.5555555555555556,
              "#d8576b"
             ],
             [
              0.6666666666666666,
              "#ed7953"
             ],
             [
              0.7777777777777778,
              "#fb9f3a"
             ],
             [
              0.8888888888888888,
              "#fdca26"
             ],
             [
              1,
              "#f0f921"
             ]
            ],
            "type": "histogram2d"
           }
          ],
          "histogram2dcontour": [
           {
            "colorbar": {
             "outlinewidth": 0,
             "ticks": ""
            },
            "colorscale": [
             [
              0,
              "#0d0887"
             ],
             [
              0.1111111111111111,
              "#46039f"
             ],
             [
              0.2222222222222222,
              "#7201a8"
             ],
             [
              0.3333333333333333,
              "#9c179e"
             ],
             [
              0.4444444444444444,
              "#bd3786"
             ],
             [
              0.5555555555555556,
              "#d8576b"
             ],
             [
              0.6666666666666666,
              "#ed7953"
             ],
             [
              0.7777777777777778,
              "#fb9f3a"
             ],
             [
              0.8888888888888888,
              "#fdca26"
             ],
             [
              1,
              "#f0f921"
             ]
            ],
            "type": "histogram2dcontour"
           }
          ],
          "mesh3d": [
           {
            "colorbar": {
             "outlinewidth": 0,
             "ticks": ""
            },
            "type": "mesh3d"
           }
          ],
          "parcoords": [
           {
            "line": {
             "colorbar": {
              "outlinewidth": 0,
              "ticks": ""
             }
            },
            "type": "parcoords"
           }
          ],
          "pie": [
           {
            "automargin": true,
            "type": "pie"
           }
          ],
          "scatter": [
           {
            "marker": {
             "colorbar": {
              "outlinewidth": 0,
              "ticks": ""
             }
            },
            "type": "scatter"
           }
          ],
          "scatter3d": [
           {
            "line": {
             "colorbar": {
              "outlinewidth": 0,
              "ticks": ""
             }
            },
            "marker": {
             "colorbar": {
              "outlinewidth": 0,
              "ticks": ""
             }
            },
            "type": "scatter3d"
           }
          ],
          "scattercarpet": [
           {
            "marker": {
             "colorbar": {
              "outlinewidth": 0,
              "ticks": ""
             }
            },
            "type": "scattercarpet"
           }
          ],
          "scattergeo": [
           {
            "marker": {
             "colorbar": {
              "outlinewidth": 0,
              "ticks": ""
             }
            },
            "type": "scattergeo"
           }
          ],
          "scattergl": [
           {
            "marker": {
             "colorbar": {
              "outlinewidth": 0,
              "ticks": ""
             }
            },
            "type": "scattergl"
           }
          ],
          "scattermapbox": [
           {
            "marker": {
             "colorbar": {
              "outlinewidth": 0,
              "ticks": ""
             }
            },
            "type": "scattermapbox"
           }
          ],
          "scatterpolar": [
           {
            "marker": {
             "colorbar": {
              "outlinewidth": 0,
              "ticks": ""
             }
            },
            "type": "scatterpolar"
           }
          ],
          "scatterpolargl": [
           {
            "marker": {
             "colorbar": {
              "outlinewidth": 0,
              "ticks": ""
             }
            },
            "type": "scatterpolargl"
           }
          ],
          "scatterternary": [
           {
            "marker": {
             "colorbar": {
              "outlinewidth": 0,
              "ticks": ""
             }
            },
            "type": "scatterternary"
           }
          ],
          "surface": [
           {
            "colorbar": {
             "outlinewidth": 0,
             "ticks": ""
            },
            "colorscale": [
             [
              0,
              "#0d0887"
             ],
             [
              0.1111111111111111,
              "#46039f"
             ],
             [
              0.2222222222222222,
              "#7201a8"
             ],
             [
              0.3333333333333333,
              "#9c179e"
             ],
             [
              0.4444444444444444,
              "#bd3786"
             ],
             [
              0.5555555555555556,
              "#d8576b"
             ],
             [
              0.6666666666666666,
              "#ed7953"
             ],
             [
              0.7777777777777778,
              "#fb9f3a"
             ],
             [
              0.8888888888888888,
              "#fdca26"
             ],
             [
              1,
              "#f0f921"
             ]
            ],
            "type": "surface"
           }
          ],
          "table": [
           {
            "cells": {
             "fill": {
              "color": "#EBF0F8"
             },
             "line": {
              "color": "white"
             }
            },
            "header": {
             "fill": {
              "color": "#C8D4E3"
             },
             "line": {
              "color": "white"
             }
            },
            "type": "table"
           }
          ]
         },
         "layout": {
          "annotationdefaults": {
           "arrowcolor": "#2a3f5f",
           "arrowhead": 0,
           "arrowwidth": 1
          },
          "coloraxis": {
           "colorbar": {
            "outlinewidth": 0,
            "ticks": ""
           }
          },
          "colorscale": {
           "diverging": [
            [
             0,
             "#8e0152"
            ],
            [
             0.1,
             "#c51b7d"
            ],
            [
             0.2,
             "#de77ae"
            ],
            [
             0.3,
             "#f1b6da"
            ],
            [
             0.4,
             "#fde0ef"
            ],
            [
             0.5,
             "#f7f7f7"
            ],
            [
             0.6,
             "#e6f5d0"
            ],
            [
             0.7,
             "#b8e186"
            ],
            [
             0.8,
             "#7fbc41"
            ],
            [
             0.9,
             "#4d9221"
            ],
            [
             1,
             "#276419"
            ]
           ],
           "sequential": [
            [
             0,
             "#0d0887"
            ],
            [
             0.1111111111111111,
             "#46039f"
            ],
            [
             0.2222222222222222,
             "#7201a8"
            ],
            [
             0.3333333333333333,
             "#9c179e"
            ],
            [
             0.4444444444444444,
             "#bd3786"
            ],
            [
             0.5555555555555556,
             "#d8576b"
            ],
            [
             0.6666666666666666,
             "#ed7953"
            ],
            [
             0.7777777777777778,
             "#fb9f3a"
            ],
            [
             0.8888888888888888,
             "#fdca26"
            ],
            [
             1,
             "#f0f921"
            ]
           ],
           "sequentialminus": [
            [
             0,
             "#0d0887"
            ],
            [
             0.1111111111111111,
             "#46039f"
            ],
            [
             0.2222222222222222,
             "#7201a8"
            ],
            [
             0.3333333333333333,
             "#9c179e"
            ],
            [
             0.4444444444444444,
             "#bd3786"
            ],
            [
             0.5555555555555556,
             "#d8576b"
            ],
            [
             0.6666666666666666,
             "#ed7953"
            ],
            [
             0.7777777777777778,
             "#fb9f3a"
            ],
            [
             0.8888888888888888,
             "#fdca26"
            ],
            [
             1,
             "#f0f921"
            ]
           ]
          },
          "colorway": [
           "#636efa",
           "#EF553B",
           "#00cc96",
           "#ab63fa",
           "#FFA15A",
           "#19d3f3",
           "#FF6692",
           "#B6E880",
           "#FF97FF",
           "#FECB52"
          ],
          "font": {
           "color": "#2a3f5f"
          },
          "geo": {
           "bgcolor": "white",
           "lakecolor": "white",
           "landcolor": "#E5ECF6",
           "showlakes": true,
           "showland": true,
           "subunitcolor": "white"
          },
          "hoverlabel": {
           "align": "left"
          },
          "hovermode": "closest",
          "mapbox": {
           "style": "light"
          },
          "paper_bgcolor": "white",
          "plot_bgcolor": "#E5ECF6",
          "polar": {
           "angularaxis": {
            "gridcolor": "white",
            "linecolor": "white",
            "ticks": ""
           },
           "bgcolor": "#E5ECF6",
           "radialaxis": {
            "gridcolor": "white",
            "linecolor": "white",
            "ticks": ""
           }
          },
          "scene": {
           "xaxis": {
            "backgroundcolor": "#E5ECF6",
            "gridcolor": "white",
            "gridwidth": 2,
            "linecolor": "white",
            "showbackground": true,
            "ticks": "",
            "zerolinecolor": "white"
           },
           "yaxis": {
            "backgroundcolor": "#E5ECF6",
            "gridcolor": "white",
            "gridwidth": 2,
            "linecolor": "white",
            "showbackground": true,
            "ticks": "",
            "zerolinecolor": "white"
           },
           "zaxis": {
            "backgroundcolor": "#E5ECF6",
            "gridcolor": "white",
            "gridwidth": 2,
            "linecolor": "white",
            "showbackground": true,
            "ticks": "",
            "zerolinecolor": "white"
           }
          },
          "shapedefaults": {
           "line": {
            "color": "#2a3f5f"
           }
          },
          "ternary": {
           "aaxis": {
            "gridcolor": "white",
            "linecolor": "white",
            "ticks": ""
           },
           "baxis": {
            "gridcolor": "white",
            "linecolor": "white",
            "ticks": ""
           },
           "bgcolor": "#E5ECF6",
           "caxis": {
            "gridcolor": "white",
            "linecolor": "white",
            "ticks": ""
           }
          },
          "title": {
           "x": 0.05
          },
          "xaxis": {
           "automargin": true,
           "gridcolor": "white",
           "linecolor": "white",
           "ticks": "",
           "title": {
            "standoff": 15
           },
           "zerolinecolor": "white",
           "zerolinewidth": 2
          },
          "yaxis": {
           "automargin": true,
           "gridcolor": "white",
           "linecolor": "white",
           "ticks": "",
           "title": {
            "standoff": 15
           },
           "zerolinecolor": "white",
           "zerolinewidth": 2
          }
         }
        },
        "title": {
         "text": "Sprint 1 Timeline"
        },
        "xaxis": {
         "rangeselector": {
          "buttons": [
           {
            "count": 7,
            "label": "1w",
            "step": "day",
            "stepmode": "backward"
           },
           {
            "count": 1,
            "label": "1m",
            "step": "month",
            "stepmode": "backward"
           },
           {
            "count": 6,
            "label": "6m",
            "step": "month",
            "stepmode": "backward"
           },
           {
            "count": 1,
            "label": "YTD",
            "step": "year",
            "stepmode": "todate"
           },
           {
            "count": 1,
            "label": "1y",
            "step": "year",
            "stepmode": "backward"
           },
           {
            "step": "all"
           }
          ]
         },
         "showgrid": false,
         "type": "date",
         "zeroline": false
        },
        "yaxis": {
         "autorange": false,
         "range": [
          -1,
          40
         ],
         "showgrid": true,
         "ticktext": [
          " ",
          " ",
          " ",
          " ",
          " ",
          "*OTHER TASKS*               ",
          " ",
          "Test CNN With Multi-Transform",
          "Integrate with Other Packages",
          "Automate Optimization within f(n)",
          "Set up Hyperparameter loop",
          "Get f(n) working to show at 4/28 Advisor Mtg",
          "Debug w/ Round 1 Images",
          "Learn from old CNN",
          "Write Funcitonal Specs",
          "*CNN OPTIMIZATION*               ",
          " ",
          "Check Tests against MATH data",
          "Write 1D-ish Image-Creation F(n)",
          "Learn about CNN Image types",
          "Write Data transformer",
          "Write 1D transforms",
          "Write Funcitonal Specs",
          "*TRANSFORMATION*               ",
          " ",
          "F(n)s to read files + format",
          "F(n)s to generate SAS Data?",
          "F(n)s to generate Math-Data",
          "Write Funcitonal Specs",
          "*DATA MANAGEMENT*               ",
          " ",
          "Tutorial for Sprint-Report",
          "STATUS UPDATE: Docs",
          "Mid-Sprint Advisor Meeting",
          ".py Files + Docstrings",
          "Setup F Spec Document",
          "Setup ReadTheDocs",
          "Get TRAVIS working",
          "*DOCUMENTATION*               "
         ],
         "tickvals": [
          0,
          1,
          2,
          3,
          4,
          5,
          6,
          7,
          8,
          9,
          10,
          11,
          12,
          13,
          14,
          15,
          16,
          17,
          18,
          19,
          20,
          21,
          22,
          23,
          24,
          25,
          26,
          27,
          28,
          29,
          30,
          31,
          32,
          33,
          34,
          35,
          36,
          37,
          38
         ],
         "zeroline": false
        }
       }
      },
      "text/html": [
       "<div>\n",
       "        \n",
       "        \n",
       "            <div id=\"8178b436-6b4e-4931-a492-d346ab3b36a3\" class=\"plotly-graph-div\" style=\"height:600px; width:100%;\"></div>\n",
       "            <script type=\"text/javascript\">\n",
       "                require([\"plotly\"], function(Plotly) {\n",
       "                    window.PLOTLYENV=window.PLOTLYENV || {};\n",
       "                    \n",
       "                if (document.getElementById(\"8178b436-6b4e-4931-a492-d346ab3b36a3\")) {\n",
       "                    Plotly.newPlot(\n",
       "                        '8178b436-6b4e-4931-a492-d346ab3b36a3',\n",
       "                        [{\"fill\": \"toself\", \"fillcolor\": \"rgb(10, 120, 10)\", \"hoverinfo\": \"name\", \"legendgroup\": \"rgb(10, 120, 10)\", \"mode\": \"none\", \"name\": \"David\", \"type\": \"scatter\", \"x\": [\"2020-04-17\", \"2020-04-21\", \"2020-04-21\", \"2020-04-17\", \"2020-04-17\", \"2020-04-22\", \"2020-04-24\", \"2020-04-24\", \"2020-04-22\", \"2020-04-22\", \"2020-05-10\", \"2020-05-12\", \"2020-05-12\", \"2020-05-10\", \"2020-05-10\", \"2020-04-17\", \"2020-04-19\", \"2020-04-19\", \"2020-04-17\"], \"y\": [12.6, 12.6, 13.4, 13.4, null, 18.6, 18.6, 19.4, 19.4, null, 31.6, 31.6, 32.4, 32.4, null, 34.6, 34.6, 35.4, 35.4]}, {\"fill\": \"toself\", \"fillcolor\": \"rgb(114, 44, 121)\", \"hoverinfo\": \"name\", \"legendgroup\": \"rgb(114, 44, 121)\", \"mode\": \"none\", \"name\": \"Maria\", \"type\": \"scatter\", \"x\": [\"2020-04-28\", \"2020-05-04\", \"2020-05-04\", \"2020-04-28\", \"2020-04-28\", \"2020-04-17\", \"2020-04-21\", \"2020-04-21\", \"2020-04-17\"], \"y\": [25.6, 25.6, 26.4, 26.4, null, 35.6, 35.6, 36.4, 36.4]}, {\"fill\": \"toself\", \"fillcolor\": \"rgb(198, 47, 105)\", \"hoverinfo\": \"name\", \"legendgroup\": \"rgb(198, 47, 105)\", \"mode\": \"none\", \"name\": \"Moeez\", \"type\": \"scatter\", \"x\": [\"2020-04-17\", \"2020-04-21\", \"2020-04-21\", \"2020-04-17\"], \"y\": [36.6, 36.6, 37.4, 37.4]}, {\"fill\": \"toself\", \"fillcolor\": \"rgb(200, 200, 200)\", \"hoverinfo\": \"name\", \"legendgroup\": \"rgb(200, 200, 200)\", \"mode\": \"none\", \"name\": \"NA\", \"type\": \"scatter\", \"x\": [\"2020-05-12\", \"2020-05-12\", \"2020-05-12\", \"2020-05-12\", \"2020-05-12\", \"2020-0 -  \", \"2020-0 -  \", \"2020-0 -  \", \"2020-0 -  \", \"2020-0 -  \", \"2020-0 -  \", \"2020-0 -  \", \"2020-0 -  \", \"2020-0 -  \", \"2020-0 -  \", \"2020-0 -  \", \"2020-0 -  \", \"2020-0 -  \", \"2020-0 -  \", \"2020-0 -  \", \"2020-0 -  \", \"2020-0 -  \", \"2020-0 -  \", \"2020-0 -  \", \"2020-0 -  \", \"2020-05-12\", \"2020-05-12\", \"2020-05-12\", \"2020-05-12\", \"2020-05-12\", \"2020-05-04\", \"2020-05-12\", \"2020-05-12\", \"2020-05-04\", \"2020-05-04\", \"2020-05-01\", \"2020-05-08\", \"2020-05-08\", \"2020-05-01\", \"2020-05-01\", \"2020-05-01\", \"2020-05-04\", \"2020-05-04\", \"2020-05-01\", \"2020-05-01\", \"2020-04-28\", \"2020-05-04\", \"2020-05-04\", \"2020-04-28\", \"2020-04-28\", \"2020-04-21\", \"2020-04-28\", \"2020-04-28\", \"2020-04-21\", \"2020-04-21\", \"2020-04-22\", \"2020-04-23\", \"2020-04-23\", \"2020-04-22\", \"2020-04-22\", \"2020-04-19\", \"2020-04-24\", \"2020-04-24\", \"2020-04-19\", \"2020-04-19\", \"2020-05-12\", \"2020-05-12\", \"2020-05-12\", \"2020-05-12\", \"2020-05-12\", \"2020-04-24\", \"2020-04-28\", \"2020-04-28\", \"2020-04-24\", \"2020-04-24\", \"2020-04-22\", \"2020-04-24\", \"2020-04-24\", \"2020-04-22\", \"2020-04-22\", \"2020-04-22\", \"2020-04-26\", \"2020-04-26\", \"2020-04-22\", \"2020-04-22\", \"2020-04-19\", \"2020-04-24\", \"2020-04-24\", \"2020-04-19\", \"2020-04-19\", \"2020-04-19\", \"2020-04-24\", \"2020-04-24\", \"2020-04-19\", \"2020-04-19\", \"2020-05-12\", \"2020-05-12\", \"2020-05-12\", \"2020-05-12\", \"2020-05-12\", \"2020-04-21\", \"2020-05-06\", \"2020-05-06\", \"2020-04-21\", \"2020-04-21\", \"2020-04-20\", \"2020-04-22\", \"2020-04-22\", \"2020-04-20\", \"2020-04-20\", \"2020-04-19\", \"2020-04-21\", \"2020-04-21\", \"2020-04-19\", \"2020-04-19\", \"2020-05-12\", \"2020-05-12\", \"2020-05-12\", \"2020-05-12\"], \"y\": [-0.4, -0.4, 0.4, 0.4, null, 0.6, 0.6, 1.4, 1.4, null, 1.6, 1.6, 2.4, 2.4, null, 2.6, 2.6, 3.4, 3.4, null, 3.6, 3.6, 4.4, 4.4, null, 5.6, 5.6, 6.4, 6.4, null, 6.6, 6.6, 7.4, 7.4, null, 7.6, 7.6, 8.4, 8.4, null, 8.6, 8.6, 9.4, 9.4, null, 9.6, 9.6, 10.4, 10.4, null, 10.6, 10.6, 11.4, 11.4, null, 11.6, 11.6, 12.4, 12.4, null, 13.6, 13.6, 14.4, 14.4, null, 15.6, 15.6, 16.4, 16.4, null, 16.6, 16.6, 17.4, 17.4, null, 17.6, 17.6, 18.4, 18.4, null, 19.6, 19.6, 20.4, 20.4, null, 20.6, 20.6, 21.4, 21.4, null, 21.6, 21.6, 22.4, 22.4, null, 23.6, 23.6, 24.4, 24.4, null, 24.6, 24.6, 25.4, 25.4, null, 26.6, 26.6, 27.4, 27.4, null, 27.6, 27.6, 28.4, 28.4, null, 29.6, 29.6, 30.4, 30.4]}, {\"fill\": \"toself\", \"fillcolor\": \"rgb(30, 30, 30)\", \"hoverinfo\": \"name\", \"legendgroup\": \"rgb(30, 30, 30)\", \"mode\": \"none\", \"name\": \"TEAM\", \"type\": \"scatter\", \"x\": [\"2020-04-17\", \"2020-05-12\", \"2020-05-12\", \"2020-04-17\", \"2020-04-17\", \"2020-04-17\", \"2020-05-12\", \"2020-05-12\", \"2020-04-17\", \"2020-04-17\", \"2020-04-17\", \"2020-05-12\", \"2020-05-12\", \"2020-04-17\", \"2020-04-17\", \"2020-04-17\", \"2020-05-12\", \"2020-05-12\", \"2020-04-17\", \"2020-04-17\", \"2020-05-07\", \"2020-05-12\", \"2020-05-12\", \"2020-05-07\", \"2020-05-07\", \"2020-04-27\", \"2020-04-29\", \"2020-04-29\", \"2020-04-27\", \"2020-04-27\", \"2020-04-19\", \"2020-04-21\", \"2020-04-21\", \"2020-04-19\", \"2020-04-19\", \"2020-04-17\", \"2020-05-12\", \"2020-05-12\", \"2020-04-17\"], \"y\": [4.6, 4.6, 5.4, 5.4, null, 14.6, 14.6, 15.4, 15.4, null, 22.6, 22.6, 23.4, 23.4, null, 28.6, 28.6, 29.4, 29.4, null, 30.6, 30.6, 31.4, 31.4, null, 32.6, 32.6, 33.4, 33.4, null, 33.6, 33.6, 34.4, 34.4, null, 37.6, 37.6, 38.4, 38.4]}, {\"legendgroup\": \"rgb(10, 120, 10)\", \"marker\": {\"color\": \"rgb(10, 120, 10)\", \"opacity\": 0, \"size\": 1}, \"mode\": \"markers\", \"name\": \"\", \"showlegend\": false, \"text\": [null, null, null, null, null, null, null, null], \"type\": \"scatter\", \"x\": [\"2020-04-17\", \"2020-04-21\", \"2020-04-22\", \"2020-04-24\", \"2020-05-10\", \"2020-05-12\", \"2020-04-17\", \"2020-04-19\"], \"y\": [13, 13, 19, 19, 32, 32, 35, 35]}, {\"legendgroup\": \"rgb(114, 44, 121)\", \"marker\": {\"color\": \"rgb(114, 44, 121)\", \"opacity\": 0, \"size\": 1}, \"mode\": \"markers\", \"name\": \"\", \"showlegend\": false, \"text\": [null, null, null, null], \"type\": \"scatter\", \"x\": [\"2020-04-28\", \"2020-05-04\", \"2020-04-17\", \"2020-04-21\"], \"y\": [26, 26, 36, 36]}, {\"legendgroup\": \"rgb(198, 47, 105)\", \"marker\": {\"color\": \"rgb(198, 47, 105)\", \"opacity\": 0, \"size\": 1}, \"mode\": \"markers\", \"name\": \"\", \"showlegend\": false, \"text\": [null, null], \"type\": \"scatter\", \"x\": [\"2020-04-17\", \"2020-04-21\"], \"y\": [37, 37]}, {\"legendgroup\": \"rgb(200, 200, 200)\", \"marker\": {\"color\": \"rgb(200, 200, 200)\", \"opacity\": 0, \"size\": 1}, \"mode\": \"markers\", \"name\": \"\", \"showlegend\": false, \"text\": [null, null, null, null, null, null, null, null, null, null, null, null, null, null, null, null, null, null, null, null, null, null, null, null, null, null, null, null, null, null, null, null, null, null, null, null, null, null, null, null, null, null, null, null, null, null, null, null], \"type\": \"scatter\", \"x\": [\"2020-05-12\", \"2020-05-12\", \"2020-0 -  \", \"2020-0 -  \", \"2020-0 -  \", \"2020-0 -  \", \"2020-0 -  \", \"2020-0 -  \", \"2020-0 -  \", \"2020-0 -  \", \"2020-05-12\", \"2020-05-12\", \"2020-05-04\", \"2020-05-12\", \"2020-05-01\", \"2020-05-08\", \"2020-05-01\", \"2020-05-04\", \"2020-04-28\", \"2020-05-04\", \"2020-04-21\", \"2020-04-28\", \"2020-04-22\", \"2020-04-23\", \"2020-04-19\", \"2020-04-24\", \"2020-05-12\", \"2020-05-12\", \"2020-04-24\", \"2020-04-28\", \"2020-04-22\", \"2020-04-24\", \"2020-04-22\", \"2020-04-26\", \"2020-04-19\", \"2020-04-24\", \"2020-04-19\", \"2020-04-24\", \"2020-05-12\", \"2020-05-12\", \"2020-04-21\", \"2020-05-06\", \"2020-04-20\", \"2020-04-22\", \"2020-04-19\", \"2020-04-21\", \"2020-05-12\", \"2020-05-12\"], \"y\": [0, 0, 1, 1, 2, 2, 3, 3, 4, 4, 6, 6, 7, 7, 8, 8, 9, 9, 10, 10, 11, 11, 12, 12, 14, 14, 16, 16, 17, 17, 18, 18, 20, 20, 21, 21, 22, 22, 24, 24, 25, 25, 27, 27, 28, 28, 30, 30]}, {\"legendgroup\": \"rgb(30, 30, 30)\", \"marker\": {\"color\": \"rgb(30, 30, 30)\", \"opacity\": 0, \"size\": 1}, \"mode\": \"markers\", \"name\": \"\", \"showlegend\": false, \"text\": [null, null, null, null, null, null, null, null, null, null, null, null, null, null, null, null], \"type\": \"scatter\", \"x\": [\"2020-04-17\", \"2020-05-12\", \"2020-04-17\", \"2020-05-12\", \"2020-04-17\", \"2020-05-12\", \"2020-04-17\", \"2020-05-12\", \"2020-05-07\", \"2020-05-12\", \"2020-04-27\", \"2020-04-29\", \"2020-04-19\", \"2020-04-21\", \"2020-04-17\", \"2020-05-12\"], \"y\": [5, 5, 15, 15, 23, 23, 29, 29, 31, 31, 33, 33, 34, 34, 38, 38]}],\n",
       "                        {\"height\": 600, \"hovermode\": \"closest\", \"showlegend\": true, \"template\": {\"data\": {\"bar\": [{\"error_x\": {\"color\": \"#2a3f5f\"}, \"error_y\": {\"color\": \"#2a3f5f\"}, \"marker\": {\"line\": {\"color\": \"#E5ECF6\", \"width\": 0.5}}, \"type\": \"bar\"}], \"barpolar\": [{\"marker\": {\"line\": {\"color\": \"#E5ECF6\", \"width\": 0.5}}, \"type\": \"barpolar\"}], \"carpet\": [{\"aaxis\": {\"endlinecolor\": \"#2a3f5f\", \"gridcolor\": \"white\", \"linecolor\": \"white\", \"minorgridcolor\": \"white\", \"startlinecolor\": \"#2a3f5f\"}, \"baxis\": {\"endlinecolor\": \"#2a3f5f\", \"gridcolor\": \"white\", \"linecolor\": \"white\", \"minorgridcolor\": \"white\", \"startlinecolor\": \"#2a3f5f\"}, \"type\": \"carpet\"}], \"choropleth\": [{\"colorbar\": {\"outlinewidth\": 0, \"ticks\": \"\"}, \"type\": \"choropleth\"}], \"contour\": [{\"colorbar\": {\"outlinewidth\": 0, \"ticks\": \"\"}, \"colorscale\": [[0.0, \"#0d0887\"], [0.1111111111111111, \"#46039f\"], [0.2222222222222222, \"#7201a8\"], [0.3333333333333333, \"#9c179e\"], [0.4444444444444444, \"#bd3786\"], [0.5555555555555556, \"#d8576b\"], [0.6666666666666666, \"#ed7953\"], [0.7777777777777778, \"#fb9f3a\"], [0.8888888888888888, \"#fdca26\"], [1.0, \"#f0f921\"]], \"type\": \"contour\"}], \"contourcarpet\": [{\"colorbar\": {\"outlinewidth\": 0, \"ticks\": \"\"}, \"type\": \"contourcarpet\"}], \"heatmap\": [{\"colorbar\": {\"outlinewidth\": 0, \"ticks\": \"\"}, \"colorscale\": [[0.0, \"#0d0887\"], [0.1111111111111111, \"#46039f\"], [0.2222222222222222, \"#7201a8\"], [0.3333333333333333, \"#9c179e\"], [0.4444444444444444, \"#bd3786\"], [0.5555555555555556, \"#d8576b\"], [0.6666666666666666, \"#ed7953\"], [0.7777777777777778, \"#fb9f3a\"], [0.8888888888888888, \"#fdca26\"], [1.0, \"#f0f921\"]], \"type\": \"heatmap\"}], \"heatmapgl\": [{\"colorbar\": {\"outlinewidth\": 0, \"ticks\": \"\"}, \"colorscale\": [[0.0, \"#0d0887\"], [0.1111111111111111, \"#46039f\"], [0.2222222222222222, \"#7201a8\"], [0.3333333333333333, \"#9c179e\"], [0.4444444444444444, \"#bd3786\"], [0.5555555555555556, \"#d8576b\"], [0.6666666666666666, \"#ed7953\"], [0.7777777777777778, \"#fb9f3a\"], [0.8888888888888888, \"#fdca26\"], [1.0, \"#f0f921\"]], \"type\": \"heatmapgl\"}], \"histogram\": [{\"marker\": {\"colorbar\": {\"outlinewidth\": 0, \"ticks\": \"\"}}, \"type\": \"histogram\"}], \"histogram2d\": [{\"colorbar\": {\"outlinewidth\": 0, \"ticks\": \"\"}, \"colorscale\": [[0.0, \"#0d0887\"], [0.1111111111111111, \"#46039f\"], [0.2222222222222222, \"#7201a8\"], [0.3333333333333333, \"#9c179e\"], [0.4444444444444444, \"#bd3786\"], [0.5555555555555556, \"#d8576b\"], [0.6666666666666666, \"#ed7953\"], [0.7777777777777778, \"#fb9f3a\"], [0.8888888888888888, \"#fdca26\"], [1.0, \"#f0f921\"]], \"type\": \"histogram2d\"}], \"histogram2dcontour\": [{\"colorbar\": {\"outlinewidth\": 0, \"ticks\": \"\"}, \"colorscale\": [[0.0, \"#0d0887\"], [0.1111111111111111, \"#46039f\"], [0.2222222222222222, \"#7201a8\"], [0.3333333333333333, \"#9c179e\"], [0.4444444444444444, \"#bd3786\"], [0.5555555555555556, \"#d8576b\"], [0.6666666666666666, \"#ed7953\"], [0.7777777777777778, \"#fb9f3a\"], [0.8888888888888888, \"#fdca26\"], [1.0, \"#f0f921\"]], \"type\": \"histogram2dcontour\"}], \"mesh3d\": [{\"colorbar\": {\"outlinewidth\": 0, \"ticks\": \"\"}, \"type\": \"mesh3d\"}], \"parcoords\": [{\"line\": {\"colorbar\": {\"outlinewidth\": 0, \"ticks\": \"\"}}, \"type\": \"parcoords\"}], \"pie\": [{\"automargin\": true, \"type\": \"pie\"}], \"scatter\": [{\"marker\": {\"colorbar\": {\"outlinewidth\": 0, \"ticks\": \"\"}}, \"type\": \"scatter\"}], \"scatter3d\": [{\"line\": {\"colorbar\": {\"outlinewidth\": 0, \"ticks\": \"\"}}, \"marker\": {\"colorbar\": {\"outlinewidth\": 0, \"ticks\": \"\"}}, \"type\": \"scatter3d\"}], \"scattercarpet\": [{\"marker\": {\"colorbar\": {\"outlinewidth\": 0, \"ticks\": \"\"}}, \"type\": \"scattercarpet\"}], \"scattergeo\": [{\"marker\": {\"colorbar\": {\"outlinewidth\": 0, \"ticks\": \"\"}}, \"type\": \"scattergeo\"}], \"scattergl\": [{\"marker\": {\"colorbar\": {\"outlinewidth\": 0, \"ticks\": \"\"}}, \"type\": \"scattergl\"}], \"scattermapbox\": [{\"marker\": {\"colorbar\": {\"outlinewidth\": 0, \"ticks\": \"\"}}, \"type\": \"scattermapbox\"}], \"scatterpolar\": [{\"marker\": {\"colorbar\": {\"outlinewidth\": 0, \"ticks\": \"\"}}, \"type\": \"scatterpolar\"}], \"scatterpolargl\": [{\"marker\": {\"colorbar\": {\"outlinewidth\": 0, \"ticks\": \"\"}}, \"type\": \"scatterpolargl\"}], \"scatterternary\": [{\"marker\": {\"colorbar\": {\"outlinewidth\": 0, \"ticks\": \"\"}}, \"type\": \"scatterternary\"}], \"surface\": [{\"colorbar\": {\"outlinewidth\": 0, \"ticks\": \"\"}, \"colorscale\": [[0.0, \"#0d0887\"], [0.1111111111111111, \"#46039f\"], [0.2222222222222222, \"#7201a8\"], [0.3333333333333333, \"#9c179e\"], [0.4444444444444444, \"#bd3786\"], [0.5555555555555556, \"#d8576b\"], [0.6666666666666666, \"#ed7953\"], [0.7777777777777778, \"#fb9f3a\"], [0.8888888888888888, \"#fdca26\"], [1.0, \"#f0f921\"]], \"type\": \"surface\"}], \"table\": [{\"cells\": {\"fill\": {\"color\": \"#EBF0F8\"}, \"line\": {\"color\": \"white\"}}, \"header\": {\"fill\": {\"color\": \"#C8D4E3\"}, \"line\": {\"color\": \"white\"}}, \"type\": \"table\"}]}, \"layout\": {\"annotationdefaults\": {\"arrowcolor\": \"#2a3f5f\", \"arrowhead\": 0, \"arrowwidth\": 1}, \"coloraxis\": {\"colorbar\": {\"outlinewidth\": 0, \"ticks\": \"\"}}, \"colorscale\": {\"diverging\": [[0, \"#8e0152\"], [0.1, \"#c51b7d\"], [0.2, \"#de77ae\"], [0.3, \"#f1b6da\"], [0.4, \"#fde0ef\"], [0.5, \"#f7f7f7\"], [0.6, \"#e6f5d0\"], [0.7, \"#b8e186\"], [0.8, \"#7fbc41\"], [0.9, \"#4d9221\"], [1, \"#276419\"]], \"sequential\": [[0.0, \"#0d0887\"], [0.1111111111111111, \"#46039f\"], [0.2222222222222222, \"#7201a8\"], [0.3333333333333333, \"#9c179e\"], [0.4444444444444444, \"#bd3786\"], [0.5555555555555556, \"#d8576b\"], [0.6666666666666666, \"#ed7953\"], [0.7777777777777778, \"#fb9f3a\"], [0.8888888888888888, \"#fdca26\"], [1.0, \"#f0f921\"]], \"sequentialminus\": [[0.0, \"#0d0887\"], [0.1111111111111111, \"#46039f\"], [0.2222222222222222, \"#7201a8\"], [0.3333333333333333, \"#9c179e\"], [0.4444444444444444, \"#bd3786\"], [0.5555555555555556, \"#d8576b\"], [0.6666666666666666, \"#ed7953\"], [0.7777777777777778, \"#fb9f3a\"], [0.8888888888888888, \"#fdca26\"], [1.0, \"#f0f921\"]]}, \"colorway\": [\"#636efa\", \"#EF553B\", \"#00cc96\", \"#ab63fa\", \"#FFA15A\", \"#19d3f3\", \"#FF6692\", \"#B6E880\", \"#FF97FF\", \"#FECB52\"], \"font\": {\"color\": \"#2a3f5f\"}, \"geo\": {\"bgcolor\": \"white\", \"lakecolor\": \"white\", \"landcolor\": \"#E5ECF6\", \"showlakes\": true, \"showland\": true, \"subunitcolor\": \"white\"}, \"hoverlabel\": {\"align\": \"left\"}, \"hovermode\": \"closest\", \"mapbox\": {\"style\": \"light\"}, \"paper_bgcolor\": \"white\", \"plot_bgcolor\": \"#E5ECF6\", \"polar\": {\"angularaxis\": {\"gridcolor\": \"white\", \"linecolor\": \"white\", \"ticks\": \"\"}, \"bgcolor\": \"#E5ECF6\", \"radialaxis\": {\"gridcolor\": \"white\", \"linecolor\": \"white\", \"ticks\": \"\"}}, \"scene\": {\"xaxis\": {\"backgroundcolor\": \"#E5ECF6\", \"gridcolor\": \"white\", \"gridwidth\": 2, \"linecolor\": \"white\", \"showbackground\": true, \"ticks\": \"\", \"zerolinecolor\": \"white\"}, \"yaxis\": {\"backgroundcolor\": \"#E5ECF6\", \"gridcolor\": \"white\", \"gridwidth\": 2, \"linecolor\": \"white\", \"showbackground\": true, \"ticks\": \"\", \"zerolinecolor\": \"white\"}, \"zaxis\": {\"backgroundcolor\": \"#E5ECF6\", \"gridcolor\": \"white\", \"gridwidth\": 2, \"linecolor\": \"white\", \"showbackground\": true, \"ticks\": \"\", \"zerolinecolor\": \"white\"}}, \"shapedefaults\": {\"line\": {\"color\": \"#2a3f5f\"}}, \"ternary\": {\"aaxis\": {\"gridcolor\": \"white\", \"linecolor\": \"white\", \"ticks\": \"\"}, \"baxis\": {\"gridcolor\": \"white\", \"linecolor\": \"white\", \"ticks\": \"\"}, \"bgcolor\": \"#E5ECF6\", \"caxis\": {\"gridcolor\": \"white\", \"linecolor\": \"white\", \"ticks\": \"\"}}, \"title\": {\"x\": 0.05}, \"xaxis\": {\"automargin\": true, \"gridcolor\": \"white\", \"linecolor\": \"white\", \"ticks\": \"\", \"title\": {\"standoff\": 15}, \"zerolinecolor\": \"white\", \"zerolinewidth\": 2}, \"yaxis\": {\"automargin\": true, \"gridcolor\": \"white\", \"linecolor\": \"white\", \"ticks\": \"\", \"title\": {\"standoff\": 15}, \"zerolinecolor\": \"white\", \"zerolinewidth\": 2}}}, \"title\": {\"text\": \"Sprint 1 Timeline\"}, \"xaxis\": {\"rangeselector\": {\"buttons\": [{\"count\": 7, \"label\": \"1w\", \"step\": \"day\", \"stepmode\": \"backward\"}, {\"count\": 1, \"label\": \"1m\", \"step\": \"month\", \"stepmode\": \"backward\"}, {\"count\": 6, \"label\": \"6m\", \"step\": \"month\", \"stepmode\": \"backward\"}, {\"count\": 1, \"label\": \"YTD\", \"step\": \"year\", \"stepmode\": \"todate\"}, {\"count\": 1, \"label\": \"1y\", \"step\": \"year\", \"stepmode\": \"backward\"}, {\"step\": \"all\"}]}, \"showgrid\": false, \"type\": \"date\", \"zeroline\": false}, \"yaxis\": {\"autorange\": false, \"range\": [-1, 40], \"showgrid\": true, \"ticktext\": [\" \", \" \", \" \", \" \", \" \", \"*OTHER TASKS*               \", \" \", \"Test CNN With Multi-Transform\", \"Integrate with Other Packages\", \"Automate Optimization within f(n)\", \"Set up Hyperparameter loop\", \"Get f(n) working to show at 4/28 Advisor Mtg\", \"Debug w/ Round 1 Images\", \"Learn from old CNN\", \"Write Funcitonal Specs\", \"*CNN OPTIMIZATION*               \", \" \", \"Check Tests against MATH data\", \"Write 1D-ish Image-Creation F(n)\", \"Learn about CNN Image types\", \"Write Data transformer\", \"Write 1D transforms\", \"Write Funcitonal Specs\", \"*TRANSFORMATION*               \", \" \", \"F(n)s to read files + format\", \"F(n)s to generate SAS Data?\", \"F(n)s to generate Math-Data\", \"Write Funcitonal Specs\", \"*DATA MANAGEMENT*               \", \" \", \"Tutorial for Sprint-Report\", \"STATUS UPDATE: Docs\", \"Mid-Sprint Advisor Meeting\", \".py Files + Docstrings\", \"Setup F Spec Document\", \"Setup ReadTheDocs\", \"Get TRAVIS working\", \"*DOCUMENTATION*               \"], \"tickvals\": [0, 1, 2, 3, 4, 5, 6, 7, 8, 9, 10, 11, 12, 13, 14, 15, 16, 17, 18, 19, 20, 21, 22, 23, 24, 25, 26, 27, 28, 29, 30, 31, 32, 33, 34, 35, 36, 37, 38], \"zeroline\": false}},\n",
       "                        {\"responsive\": true}\n",
       "                    ).then(function(){\n",
       "                            \n",
       "var gd = document.getElementById('8178b436-6b4e-4931-a492-d346ab3b36a3');\n",
       "var x = new MutationObserver(function (mutations, observer) {{\n",
       "        var display = window.getComputedStyle(gd).display;\n",
       "        if (!display || display === 'none') {{\n",
       "            console.log([gd, 'removed!']);\n",
       "            Plotly.purge(gd);\n",
       "            observer.disconnect();\n",
       "        }}\n",
       "}});\n",
       "\n",
       "// Listen for the removal of the full notebook cells\n",
       "var notebookContainer = gd.closest('#notebook-container');\n",
       "if (notebookContainer) {{\n",
       "    x.observe(notebookContainer, {childList: true});\n",
       "}}\n",
       "\n",
       "// Listen for the clearing of the current output cell\n",
       "var outputEl = gd.closest('.output');\n",
       "if (outputEl) {{\n",
       "    x.observe(outputEl, {childList: true});\n",
       "}}\n",
       "\n",
       "                        })\n",
       "                };\n",
       "                });\n",
       "            </script>\n",
       "        </div>"
      ]
     },
     "metadata": {},
     "output_type": "display_data"
    }
   ],
   "source": [
    "\"\"\"\n",
    "SPRINT #1 PLAN for H.A.R.D.y Project\n",
    "\n",
    "\"\"\"\n",
    "# Each of these should be one \"topic\" \n",
    "admin_tasks = [\n",
    "      dict(Task='*DOCUMENTATION*               ' , Start='2020-04-17', Finish='2020-05-12', Owner=\"TEAM\"),\n",
    "      dict(Task='Get TRAVIS working', Start='2020-04-17', Finish='2020-04-21', Owner=\"Moeez\"),\n",
    "      dict(Task='Setup ReadTheDocs', Start='2020-04-17', Finish='2020-04-21', Owner=\"Maria\"),\n",
    "      dict(Task='Setup F Spec Document', Start='2020-04-17', Finish='2020-04-19', Owner=\"David\"),\n",
    "      dict(Task='.py Files + Docstrings', Start='2020-04-19', Finish='2020-04-21', Owner=\"TEAM\"),\n",
    "      dict(Task='Mid-Sprint Advisor Meeting', Start='2020-04-27', Finish='2020-04-29', Owner=\"TEAM\"),\n",
    "      dict(Task='STATUS UPDATE: Docs', Start='2020-05-10', Finish='2020-05-12', Owner=\"David\"),\n",
    "      dict(Task='Tutorial for Sprint-Report', Start='2020-05-07', Finish='2020-05-12', Owner=\"TEAM\"),\n",
    "      dict(Task=' ', Start='2020-05-12', Finish='2020-05-12', Owner=\"NA\")\n",
    "      ]\n",
    "data_tasks = [\n",
    "      dict(Task='*DATA MANAGEMENT*               ', Start='2020-04-17', Finish='2020-05-12', Owner=\"TEAM\"),\n",
    "      dict(Task='Write Funcitonal Specs' , Start='2020-04-19', Finish='2020-04-21', Owner=\"NA\"),\n",
    "      dict(Task='F(n)s to generate Math-Data' , Start='2020-04-20', Finish='2020-04-22', Owner=\"NA\"),\n",
    "      dict(Task='F(n)s to generate SAS Data?' , Start='2020-04-28', Finish='2020-05-04', Owner=\"Maria\"),\n",
    "      dict(Task='F(n)s to read files + format' , Start='2020-04-21', Finish='2020-05-06', Owner=\"NA\"),\n",
    "      dict(Task=' ', Start='2020-05-12', Finish='2020-05-12', Owner=\"NA\")\n",
    "      ]\n",
    "transform_tasks = [\n",
    "      dict(Task='*TRANSFORMATION*               ' , Start='2020-04-17', Finish='2020-05-12', Owner=\"TEAM\"),\n",
    "      dict(Task='Write Funcitonal Specs' , Start='2020-04-19', Finish='2020-04-24', Owner=\"NA\"),\n",
    "      dict(Task='Write 1D transforms', Start='2020-04-19', Finish='2020-04-24', Owner=\"NA\"),\n",
    "      dict(Task='Write Data transformer', Start='2020-04-22', Finish='2020-04-26', Owner=\"NA\"),\n",
    "      dict(Task='Learn about CNN Image types', Start='2020-04-22', Finish='2020-04-24', Owner=\"David\"),\n",
    "      dict(Task='Write 1D-ish Image-Creation F(n)' , Start='2020-04-22', Finish='2020-04-24', Owner=\"NA\"),\n",
    "      dict(Task='Check Tests against MATH data' , Start='2020-04-24', Finish='2020-04-28', Owner=\"NA\"),\n",
    "      dict(Task=' ', Start='2020-05-12', Finish='2020-05-12', Owner=\"NA\")\n",
    "      ]\n",
    "CNN_tasks = [\n",
    "      dict(Task='*CNN OPTIMIZATION*               ', Start='2020-04-17', Finish='2020-05-12', Owner=\"TEAM\"),\n",
    "      dict(Task='Write Funcitonal Specs' , Start='2020-04-19', Finish='2020-04-24', Owner=\"NA\"),\n",
    "      dict(Task='Learn from old CNN', Start='2020-04-17', Finish='2020-04-21', Owner=\"David\"),\n",
    "      dict(Task='Debug w/ Round 1 Images', Start='2020-04-22', Finish='2020-04-23', Owner=\"NA\"),\n",
    "      dict(Task='Get f(n) working to show at 4/28 Advisor Mtg' , Start='2020-04-21', Finish='2020-04-28', Owner=\"NA\"),\n",
    "      dict(Task='Set up Hyperparameter loop' , Start='2020-04-28', Finish='2020-05-04', Owner=\"NA\"),\n",
    "      dict(Task='Automate Optimization within f(n)' , Start='2020-05-01', Finish='2020-05-04', Owner=\"NA\"),\n",
    "      dict(Task='Integrate with Other Packages' , Start='2020-05-01', Finish='2020-05-08', Owner=\"NA\"),\n",
    "      dict(Task='Test CNN With Multi-Transform' , Start='2020-05-04', Finish='2020-05-12', Owner=\"NA\"),\n",
    "      dict(Task=' ', Start='2020-05-12', Finish='2020-05-12', Owner=\"NA\")\n",
    "      ]\n",
    "misc_tasks = [\n",
    "      dict(Task='*OTHER TASKS*               '   , Start='2020-04-17', Finish='2020-05-12', Owner=\"TEAM\"),\n",
    "      dict(Task=' '              , Start='2020-0 -  ', Finish='2020-0 -  ', Owner=\"NA\"),\n",
    "      dict(Task=' '              , Start='2020-0 -  ', Finish='2020-0 -  ', Owner=\"NA\"),\n",
    "      dict(Task=' '              , Start='2020-0 -  ', Finish='2020-0 -  ', Owner=\"NA\"),\n",
    "      dict(Task=' '              , Start='2020-0 -  ', Finish='2020-0 -  ', Owner=\"NA\"),\n",
    "      dict(Task=' ', Start='2020-05-12', Finish='2020-05-12', Owner=\"NA\")\n",
    "      ]\n",
    "\n",
    "sprint1 =   admin_tasks + data_tasks + transform_tasks + CNN_tasks + misc_tasks \n",
    "sprint1.reverse()  # I prefer to index based on a Waterfall-style chart\n",
    "\n",
    "sprint1_fig = ff.create_gantt(sprint1, colors=team_colors, index_col='Owner', bar_width=0.4, \n",
    "                              show_colorbar=True, title=\"Sprint 1 Timeline\", showgrid_y=True)\n",
    "sprint1_fig.show()"
   ]
  },
  {
   "cell_type": "code",
   "execution_count": null,
   "metadata": {},
   "outputs": [],
   "source": []
  },
  {
   "cell_type": "code",
   "execution_count": null,
   "metadata": {},
   "outputs": [],
   "source": []
  },
  {
   "cell_type": "code",
   "execution_count": null,
   "metadata": {},
   "outputs": [],
   "source": []
  },
  {
   "cell_type": "code",
   "execution_count": null,
   "metadata": {},
   "outputs": [],
   "source": [
    "\"\"\"\n",
    "TEMPLATE FOR SPRINT PLANNING for H.A.R.D.y Project\n",
    "\n",
    "\"\"\"\n",
    "# Each of these should be one \"topic\" \n",
    "admin_tasks = [\n",
    "      dict(Task='DOCUMENTATION' , Start='2020-04-17', Finish='2020-05-12', Owner=\"TEAM\"),\n",
    "      dict(Task='  '              , Start='2020-0 -  ', Finish='2020-0 -  ', Owner=\"NA\"),\n",
    "      dict(Task=' '              , Start='2020-0 -  ', Finish='2020-0 -  ', Owner=\"NA\"),\n",
    "      dict(Task=' '              , Start='2020-0 -  ', Finish='2020-0 -  ', Owner=\"NA\"),\n",
    "      dict(Task=' '              , Start='2020-0 -  ', Finish='2020-0 -  ', Owner=\"NA\"),\n",
    "      ]\n",
    "data_tasks = [\n",
    "      dict(Task='DATA MANAGEMENT', Start='2020-04-17', Finish='2020-05-12', Owner=\"TEAM\"),\n",
    "      dict(Task=' '              , Start='2020-0 -  ', Finish='2020-0 -  ', Owner=\"NA\"),\n",
    "      dict(Task=' '              , Start='2020-0 -  ', Finish='2020-0 -  ', Owner=\"NA\"),\n",
    "      dict(Task=' '              , Start='2020-0 -  ', Finish='2020-0 -  ', Owner=\"NA\"),\n",
    "      dict(Task=' '              , Start='2020-0 -  ', Finish='2020-0 -  ', Owner=\"NA\"),\n",
    "      ]\n",
    "transform_tasks = [\n",
    "      dict(Task='TRANSFORMATION' , Start='2020-04-17', Finish='2020-05-12', Owner=\"TEAM\"),\n",
    "      dict(Task=' '              , Start='2020-0 -  ', Finish='2020-0 -  ', Owner=\"NA\"),\n",
    "      dict(Task=' '              , Start='2020-0 -  ', Finish='2020-0 -  ', Owner=\"NA\"),\n",
    "      dict(Task=' '              , Start='2020-0 -  ', Finish='2020-0 -  ', Owner=\"NA\"),\n",
    "      dict(Task=' '              , Start='2020-0 -  ', Finish='2020-0 -  ', Owner=\"NA\"),\n",
    "      ]\n",
    "CNN_tasks = [\n",
    "      dict(Task='CNN OPTIMIZATION', Start='2020-04-17', Finish='2020-05-12', Owner=\"TEAM\"),\n",
    "      dict(Task=' '              , Start='2020-0 -  ', Finish='2020-0 -  ', Owner=\"NA\"),\n",
    "      dict(Task=' '              , Start='2020-0 -  ', Finish='2020-0 -  ', Owner=\"NA\"),\n",
    "      dict(Task=' '              , Start='2020-0 -  ', Finish='2020-0 -  ', Owner=\"NA\"),\n",
    "      dict(Task=' '              , Start='2020-0 -  ', Finish='2020-0 -  ', Owner=\"NA\"),\n",
    "      ]\n",
    "misc_tasks = [\n",
    "      dict(Task='OTHER TASKS'   , Start='2020-04-17', Finish='2020-05-12', Owner=\"TEAM\"),\n",
    "      dict(Task=' '              , Start='2020-0 -  ', Finish='2020-0 -  ', Owner=\"NA\"),\n",
    "      dict(Task=' '              , Start='2020-0 -  ', Finish='2020-0 -  ', Owner=\"NA\"),\n",
    "      dict(Task=' '              , Start='2020-0 -  ', Finish='2020-0 -  ', Owner=\"NA\"),\n",
    "      dict(Task=' '              , Start='2020-0 -  ', Finish='2020-0 -  ', Owner=\"NA\"),\n",
    "      ]\n",
    "\n",
    "sprint1 =   admin_tasks + data_tasks + transform_tasks + CNN_tasks + misc_tasks \n",
    "sprint1.reverse()  # I prefer to index based on a Waterfall-style chart\n",
    "\n",
    "# DEBUGGING LIST\n",
    "# for i in range(len(sprint1)):\n",
    "#    print(sprint1[i])\n",
    "sprint1_fig = ff.create_gantt(sprint1, colors=team_colors, index_col='Owner', bar_width=0.3, \n",
    "                              show_colorbar=True, title=\"Sprint 1 Timeline\")\n",
    "\n",
    "sprint1_fig.show()"
   ]
  }
 ],
 "metadata": {
  "kernelspec": {
   "display_name": "Python 3",
   "language": "python",
   "name": "python3"
  },
  "language_info": {
   "codemirror_mode": {
    "name": "ipython",
    "version": 3
   },
   "file_extension": ".py",
   "mimetype": "text/x-python",
   "name": "python",
   "nbconvert_exporter": "python",
   "pygments_lexer": "ipython3",
   "version": "3.7.4"
  }
 },
 "nbformat": 4,
 "nbformat_minor": 2
}
