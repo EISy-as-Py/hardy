{
 "cells": [
  {
   "cell_type": "markdown",
   "metadata": {},
   "source": [
    "# Supplementary data for generation of SAS models\n",
    "This notebook contains the supplementary data to reproduce the data for JOSS Paper"
   ]
  },
  {
   "cell_type": "markdown",
   "metadata": {},
   "source": [
    "## 1. Data Creation"
   ]
  },
  {
   "cell_type": "markdown",
   "metadata": {},
   "source": [
    "The data for Small Angle Scattering (SAS) was generator using model-generator-sans* library developed by Oak Ridge National Laboratories (ORNL)."
   ]
  },
  {
   "cell_type": "markdown",
   "metadata": {},
   "source": [
    "*https://www.oclcproxy.ornl.gov/sans-ldrd/model-generator-sans"
   ]
  },
  {
   "cell_type": "markdown",
   "metadata": {},
   "source": [
    "#### 1.1 Installation:\n",
    "model-generator-sans was cloned from the repository and was installed using following method:"
   ]
  },
  {
   "cell_type": "markdown",
   "metadata": {},
   "source": [
    "~~~\n",
    "conda env create -f play_27_env.yml\n",
    "~~~"
   ]
  },
  {
   "cell_type": "markdown",
   "metadata": {},
   "source": [
    "~~~\n",
    "conda activate playground-27\n",
    "~~~"
   ]
  },
  {
   "cell_type": "markdown",
   "metadata": {},
   "source": [
    "~~~\n",
    "python setup.py install\n",
    "~~~"
   ]
  },
  {
   "cell_type": "markdown",
   "metadata": {},
   "source": [
    "#### 1.2 Data Generation\n",
    "Following four models were selected for our hypothesis evaluation:\n",
    "\n",
    "- Sphere\n",
    "- Core-shell-sphere\n",
    "- Ellipsoid\n",
    "- Cylinder\n",
    "\n",
    "For each model, 10000 data files were generated. The example code for data generation is shown below:"
   ]
  },
  {
   "cell_type": "markdown",
   "metadata": {},
   "source": [
    "* #### Selection of yaml file to describe the model parameters\n",
    "~~~\n",
    "model_file = os.path.join('../', 'tests', 'models', 'sphere.yaml')\n",
    "~~~\n",
    "* #### Path for Data Generation\n",
    "~~~\n",
    "output_dir = os.path.join('../datapath/')\n",
    "~~~\n",
    "* #### Data Generation\n",
    "~~~\n",
    "KNN_gendata.generate(model_file, 10000, output_dir=output_dir)\n",
    "~~~\n",
    "\n",
    "* #### Importing data from the npy files\n",
    "~~~\n",
    "model_name = 'sphere'\n",
    "~~~\n",
    "~~~\n",
    "with open(os.path.join(output_dir, \"%s_par_names.json\" % model_name), 'r') as fd:\n",
    "            par_names = json.load(fd)\n",
    "~~~\n",
    "~~~\n",
    "q = np.load(os.path.join(output_dir, \"%s_q_values.npy\" % model_name))\n",
    "~~~\n",
    "~~~\n",
    "train_data = np.load(os.path.join(output_dir, \"%s_data.npy\" % model_name))\n",
    "~~~\n",
    "~~~\n",
    "train_pars = np.load(os.path.join(output_dir, \"%s_pars.npy\" % model_name))\n",
    "~~~"
   ]
  },
  {
   "cell_type": "markdown",
   "metadata": {},
   "source": [
    "The data and parameters were stored in .csv and .txt files, respectively. "
   ]
  },
  {
   "cell_type": "markdown",
   "metadata": {},
   "source": [
    "## 2. Configuration files"
   ]
  },
  {
   "cell_type": "markdown",
   "metadata": {},
   "source": [
    "YAML configuration files for transformation and machine learning are available in examples folder."
   ]
  },
  {
   "cell_type": "markdown",
   "metadata": {},
   "source": [
    "## 3. Classification using HARDy"
   ]
  },
  {
   "cell_type": "markdown",
   "metadata": {},
   "source": [
    "The package was uploaded on HYAK HPC Facility at University of Washington. The HPC is equipped with NVIDIA TESLA P100 GPU which was used for training and testing of machine learning models."
   ]
  },
  {
   "cell_type": "markdown",
   "metadata": {},
   "source": [
    "~~~\n",
    "from hardy import * \n",
    "~~~\n",
    "~~~\n",
    "raw_data_path= './data_path/'\n",
    "tform_config_path= './tform_config.yaml'\n",
    "classifier_config_path='./classifier_config/'\n",
    "~~~\n",
    "~~~\n",
    "hardy_main(raw_data_path, tform_config_path, classifier_config_path, batch_size=64, num_test_files_class=750, target_size=(100,100), iterator_mode='arrays',scale=0.2, seed=5,  n_threads=28, classifier='tuner', classes=['ellipsoid', 'sphere', 'core_shell', 'cylinder'], project_name='scat_rgb')\n",
    "~~~"
   ]
  },
  {
   "cell_type": "markdown",
   "metadata": {},
   "source": [
    "## 4. Data Analysis"
   ]
  },
  {
   "cell_type": "markdown",
   "metadata": {},
   "source": [
    "The post-training and testing of data was analyzed using the report-generation module in the hardy. Following script was used to build error-loss and parallel coordinate plots."
   ]
  },
  {
   "cell_type": "code",
   "execution_count": 1,
   "metadata": {},
   "outputs": [
    {
     "name": "stderr",
     "output_type": "stream",
     "text": [
      "Using TensorFlow backend.\n"
     ]
    }
   ],
   "source": [
    "from hardy import reporting"
   ]
  },
  {
   "cell_type": "code",
   "execution_count": 6,
   "metadata": {},
   "outputs": [],
   "source": [
    "loss_accuracy, parallel = reporting.summary_report_plots('../raw_datapath/project_name/')"
   ]
  },
  {
   "cell_type": "markdown",
   "metadata": {},
   "source": [
    "~~~\n",
    "loss_accuracy.show()\n",
    "~~~"
   ]
  },
  {
   "cell_type": "markdown",
   "metadata": {},
   "source": [
    "!['Image showing the mean loss through epochs for various transformations'](../images/error_loss_graph.png)"
   ]
  },
  {
   "cell_type": "markdown",
   "metadata": {},
   "source": [
    "`Note:` The above image is just an example. The graph generated by `HARDy` is interactive"
   ]
  },
  {
   "cell_type": "markdown",
   "metadata": {},
   "source": [
    "~~~\n",
    "parallel.show()\n",
    "~~~"
   ]
  },
  {
   "cell_type": "markdown",
   "metadata": {},
   "source": [
    "!['Parallel Coordinate Plot Generated by HARDy'](../images/parallel_coordinate_plot.png)"
   ]
  },
  {
   "cell_type": "markdown",
   "metadata": {},
   "source": [
    "`Note:` The above image is just an example. The graph generated by `HARDy` is interactive"
   ]
  },
  {
   "cell_type": "markdown",
   "metadata": {},
   "source": [
    "## 5. Validation"
   ]
  },
  {
   "cell_type": "markdown",
   "metadata": {},
   "source": [
    "The evaluate the effectiveness of machine learning model, the test set files were fitted with most probable classifications using sas-models*."
   ]
  },
  {
   "cell_type": "markdown",
   "metadata": {},
   "source": [
    "*https://github.com/SasView/sasmodels"
   ]
  },
  {
   "cell_type": "markdown",
   "metadata": {},
   "source": [
    "The parameter space used to fit the scattering data for each classification is shown below:"
   ]
  },
  {
   "cell_type": "markdown",
   "metadata": {},
   "source": [
    "#### 5.1 Sphere"
   ]
  },
  {
   "cell_type": "markdown",
   "metadata": {},
   "source": [
    "~~~\n",
    "label = \"sphere\"\n",
    "pars = dict(scale=1.0, background=0.001,)\n",
    "kernel = load_model(label)\n",
    "model = Model(kernel, **pars)\n",
    "\n",
    "# SET THE FITTING PARAMETERS\n",
    "\n",
    "model.radius.range(0.0, 3200.0)\n",
    "model.sld.range(-0.56, 8.00)\n",
    "model.sld_solvent.range(-0.56, 6.38)\n",
    "model.radius_pd.range(0.1, 0.11)\n",
    "experiment = Experiment(data=data, model=model)\n",
    "problem = FitProblem(experiment)\n",
    "result = fit(problem, method='dream')\n",
    "chisq = problem.chisq()\n",
    "~~~"
   ]
  },
  {
   "cell_type": "markdown",
   "metadata": {},
   "source": [
    "#### 5.2 Core-shell-sphere"
   ]
  },
  {
   "cell_type": "markdown",
   "metadata": {},
   "source": [
    "~~~\n",
    "label = \"core_shell_sphere\"\n",
    "pars = dict(scale=1.0, background=0.001,)\n",
    "kernel = load_model(label)\n",
    "model = Model(kernel, **pars)\n",
    "\n",
    "# SET THE FITTING PARAMETERS\n",
    "\n",
    "model.radius.range(0.0, 1000.0)\n",
    "model.thickness.range(0.0, 100.0)\n",
    "model.sld_core.range(-0.56, 8.00)\n",
    "model.sld_shell.range(-0.56, 8.00)\n",
    "model.sld_solvent.range(-0.56, 6.38)\n",
    "model.radius_pd.range(0.1, 0.11)\n",
    "experiment = Experiment(data=data, model=model)\n",
    "problem = FitProblem(experiment)\n",
    "result = fit(problem, method='dream')\n",
    "~~~"
   ]
  },
  {
   "cell_type": "markdown",
   "metadata": {},
   "source": [
    "#### 5.3 Cylinder"
   ]
  },
  {
   "cell_type": "markdown",
   "metadata": {},
   "source": [
    "~~~\n",
    "label = \"cylinder\"\n",
    "pars = dict(scale=1.0, background=0.001,)\n",
    "kernel = load_model(label)\n",
    "model = Model(kernel, **pars)\n",
    "\n",
    "# SET THE FITTING PARAMETERS\n",
    "\n",
    "model.radius.range(0, 1000.0)\n",
    "model.length.range(0, 1000.0)\n",
    "model.sld.range(-0.56, 8.00)\n",
    "model.sld_solvent.range(-0.56, 6.38)\n",
    "model.radius_pd.range(0, 0.11)\n",
    "experiment = Experiment(data=data, model=model)\n",
    "problem = FitProblem(experiment)\n",
    "result = fit(problem, method='dream')\n",
    "~~~"
   ]
  },
  {
   "cell_type": "markdown",
   "metadata": {},
   "source": [
    "#### 5.4 Ellipsoid"
   ]
  },
  {
   "cell_type": "markdown",
   "metadata": {},
   "source": [
    "~~~\n",
    "label = \"ellipsoid\"\n",
    "pars = dict(scale=1.0, background=0.001,)\n",
    "kernel = load_model(label)\n",
    "model = Model(kernel, **pars)\n",
    "\n",
    "# SET THE FITTING PARAMETERS\n",
    "\n",
    "model.radius_polar.range(0.0, 1000.0)\n",
    "model.radius_equatorial.range(0.0, 1000.0)\n",
    "model.sld.range(-0.56, 8.00)\n",
    "model.sld_solvent.range(-0.56, 6.38)\n",
    "model.radius_polar_pd.range(0, 0.11)\n",
    "experiment = Experiment(data=data, model=model)\n",
    "problem = FitProblem(experiment)\n",
    "result = fit(problem, method='dream')\n",
    "~~~"
   ]
  },
  {
   "cell_type": "markdown",
   "metadata": {},
   "source": [
    "The source code of automated fitting with csv file creation is available in the examples folder as <a href=https://github.com/EISy-as-Py/hardy/blob/parallel_processing/doc/examples/fit_scattering.py>fit_scattering.py</a>"
   ]
  }
 ],
 "metadata": {
  "kernelspec": {
   "display_name": "Python 3",
   "language": "python",
   "name": "python3"
  },
  "language_info": {
   "codemirror_mode": {
    "name": "ipython",
    "version": 3
   },
   "file_extension": ".py",
   "mimetype": "text/x-python",
   "name": "python",
   "nbconvert_exporter": "python",
   "pygments_lexer": "ipython3",
   "version": "3.7.7"
  }
 },
 "nbformat": 4,
 "nbformat_minor": 4
}
