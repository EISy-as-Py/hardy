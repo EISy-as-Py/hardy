{
 "cells": [
  {
   "cell_type": "markdown",
   "metadata": {},
   "source": [
    "# Guide to use trained model for predictions\n",
    "This guide explain how to use a trained model to make predictions of new data set"
   ]
  },
  {
   "cell_type": "markdown",
   "metadata": {},
   "source": [
    "## 1. Preparing transformation configuration file  "
   ]
  },
  {
   "cell_type": "markdown",
   "metadata": {},
   "source": [
    "Just like training, predictions using <code>HARDy</code> requires a transformation configuration .yaml file. In this example, only best performing transformation $log(q)$ vs. $d(I(q))/d(q)$ is considered. The configuration file is shown in image below:"
   ]
  },
  {
   "cell_type": "markdown",
   "metadata": {},
   "source": [
    "<img src=\"../images/scattering_new_data.png\" width=310 align=\"center\" />"
   ]
  },
  {
   "cell_type": "markdown",
   "metadata": {},
   "source": [
    "The instructions for building transformation configuration file are available at <a href=\"https://hardy.readthedocs.io/en/latest/examples/How_to_write_Configuration_files.html\">How to write configuration files </a>"
   ]
  },
  {
   "cell_type": "markdown",
   "metadata": {},
   "source": [
    "## 2. Importing required modules"
   ]
  },
  {
   "cell_type": "markdown",
   "metadata": {},
   "source": [
    "~~~\n",
    "import hardy\n",
    "import os\n",
    "~~~"
   ]
  },
  {
   "cell_type": "markdown",
   "metadata": {},
   "source": [
    "## 3. Preparing the new data set to be fed into trained model"
   ]
  },
  {
   "cell_type": "markdown",
   "metadata": {},
   "source": [
    "### Applying transformations to the data"
   ]
  },
  {
   "cell_type": "markdown",
   "metadata": {},
   "source": [
    "- Defining the location for transformation configuration"
   ]
  },
  {
   "cell_type": "markdown",
   "metadata": {},
   "source": [
    "``transformation_config_path = './new_data_testing/scattering_tform_config.yaml'``"
   ]
  },
  {
   "cell_type": "markdown",
   "metadata": {},
   "source": [
    "- Collecting the filenames of new data set having only .csv file extension"
   ]
  },
  {
   "cell_type": "markdown",
   "metadata": {},
   "source": [
    "``new_data_file_list = [item for item in os.listdir('./new_data_testing/') if item.endswith('.csv')]``"
   ]
  },
  {
   "cell_type": "markdown",
   "metadata": {},
   "source": [
    "- Loading transformation information from the configuration file"
   ]
  },
  {
   "cell_type": "markdown",
   "metadata": {},
   "source": [
    "``tform_command_list, tform_command_dict = hardy.arbitrage.import_tform_config(tform_config_path)``"
   ]
  },
  {
   "cell_type": "markdown",
   "metadata": {},
   "source": [
    "- Defining variables for transforming images\n",
    "    - ``run_name = 'log_q_der_I'``  \n",
    "    - ``new_datapath = './new_data_testing/new_data_path/'``\n",
    "    - ``classes = ['sphere', 'cylinder', 'core-shell', 'ellipsoid']``\n",
    "    - ``project_name = 'new_data_set'``\n",
    "    - ``scale = 0.2``\n",
    "    - ``target_size = (100, 100)``"
   ]
  },
  {
   "cell_type": "markdown",
   "metadata": {},
   "source": [
    "<i>Please note that the order of <code>classes</code> must be same as used for training of Machine Learning model. Moreover, the <code>scale</code> and <code>target_size</code> must also be the same as used for training.</i>"
   ]
  },
  {
   "cell_type": "markdown",
   "metadata": {},
   "source": [
    "- Using data wrapper function to generate the rgb images"
   ]
  },
  {
   "cell_type": "markdown",
   "metadata": {},
   "source": [
    "~~~\n",
    "hardy.data_wrapper(run_name=run_name, raw_datapath=raw_datapath, tform_command_dict=tform_command_dict, classes='d', scale=0.2)\n",
    "~~~"
   ]
  },
  {
   "cell_type": "markdown",
   "metadata": {},
   "source": [
    "<i>Please note that the value for <code>classes</code> used in <code>data_wrapper</code> module is a string rather than classes. This is being done to use same module for different functionalites i-e for training and predictions. Since, the new data set doesn't have the labels, the class <code>'d'</code> is used as assumed class</i>"
   ]
  },
  {
   "cell_type": "markdown",
   "metadata": {},
   "source": [
    "- The <code>data_rapper</code> will apply the numerical and visual transformations and pickle the data into the <code>new_datapath</code> folder"
   ]
  },
  {
   "cell_type": "markdown",
   "metadata": {},
   "source": [
    "- To load the transformed data, following code is used:"
   ]
  },
  {
   "cell_type": "markdown",
   "metadata": {},
   "source": [
    "``transformed_data = hardy.handling.pickled_data_loader(new_datapath, run_name)``"
   ]
  },
  {
   "cell_type": "markdown",
   "metadata": {},
   "source": [
    "- The data now needs to be converted into iterator acceptable to tensorflow. This can be done by"
   ]
  },
  {
   "cell_type": "markdown",
   "metadata": {},
   "source": [
    "~~~\n",
    "\n",
    "new_data_set = hardy.to_catalogue.test_set(image_list=transformed_data, target_size=target_size, classes=classes, color_mode='rgb', iterator_mode='arrays', batch_size=len(new_data_file_list), training=False)\n",
    "\n",
    "~~~"
   ]
  },
  {
   "cell_type": "markdown",
   "metadata": {},
   "source": [
    "<i>The argument for <code>training</code> is kept false, to avoid tagging classes in data set. During training, it is kept as true so that model can seek validation of predicted outcomes"
   ]
  },
  {
   "cell_type": "markdown",
   "metadata": {},
   "source": [
    "The data is now ready to be used for predictions"
   ]
  },
  {
   "cell_type": "markdown",
   "metadata": {},
   "source": [
    "## 4. Making predictions"
   ]
  },
  {
   "cell_type": "markdown",
   "metadata": {},
   "source": [
    "- Loading the model"
   ]
  },
  {
   "cell_type": "markdown",
   "metadata": {},
   "source": [
    "``best_model = hardy.cnn.save_load_model('./model_location/model_name.h5', load=True)``"
   ]
  },
  {
   "cell_type": "markdown",
   "metadata": {},
   "source": [
    "* Making predictions"
   ]
  },
  {
   "cell_type": "markdown",
   "metadata": {},
   "source": [
    "``hardy.reporting.model_predictions(best_model, new_test_set, classes, transformed_data)``"
   ]
  },
  {
   "cell_type": "markdown",
   "metadata": {},
   "source": [
    "This will generate a pandas dataframe outlining the file names, their predicted labels, and probabilities of predictions for each class. It is shown in image below:"
   ]
  },
  {
   "cell_type": "markdown",
   "metadata": {},
   "source": [
    "<img src=\"../images/scattering_results_new_data.png\" width=310 align=\"center\" />"
   ]
  },
  {
   "cell_type": "markdown",
   "metadata": {},
   "source": [
    "____"
   ]
  }
 ],
 "metadata": {
  "kernelspec": {
   "display_name": "Python 3",
   "language": "python",
   "name": "python3"
  },
  "language_info": {
   "codemirror_mode": {
    "name": "ipython",
    "version": 3
   },
   "file_extension": ".py",
   "mimetype": "text/x-python",
   "name": "python",
   "nbconvert_exporter": "python",
   "pygments_lexer": "ipython3",
   "version": "3.7.7"
  }
 },
 "nbformat": 4,
 "nbformat_minor": 4
}
