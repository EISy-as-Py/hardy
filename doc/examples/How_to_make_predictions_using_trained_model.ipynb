{
 "cells": [
  {
   "cell_type": "markdown",
   "metadata": {},
   "source": [
    "# Guide to use trained model for predictions\n",
    "This guide explain how to use a trained model to make predictions of new data set"
   ]
  },
  {
   "cell_type": "markdown",
   "metadata": {},
   "source": [
    "## 1. Preparing transformation configuration file  "
   ]
  },
  {
   "cell_type": "markdown",
   "metadata": {},
   "source": [
    "Just like training, predictions using <code>HARDy</code> requires a transformation configuration .yaml file. In this example, only best performing transformation $log(q)$ vs. $d(I(q))/d(q)$ is considered. The configuration file is shown in image below:"
   ]
  },
  {
   "cell_type": "markdown",
   "metadata": {},
   "source": [
    "<img src=\"../images/scattering_new_data.png\" width=310 align=\"center\" />"
   ]
  },
  {
   "cell_type": "markdown",
   "metadata": {},
   "source": [
    "The instructions for building transformation configuration file are available at <a href=\"https://hardy.readthedocs.io/en/latest/examples/How_to_write_Configuration_files.html\">How to write configuration files </a>"
   ]
  },
  {
   "cell_type": "markdown",
   "metadata": {},
   "source": [
    "Extracting new data into the binder directory"
   ]
  },
  {
   "cell_type": "code",
   "execution_count": 1,
   "metadata": {},
   "outputs": [],
   "source": [
    "!tar -xzf new_data_set.tar.gz"
   ]
  },
  {
   "cell_type": "markdown",
   "metadata": {},
   "source": [
    "## 2. Importing required modules"
   ]
  },
  {
   "cell_type": "code",
   "execution_count": 2,
   "metadata": {},
   "outputs": [
    {
     "name": "stderr",
     "output_type": "stream",
     "text": [
      "Using TensorFlow backend.\n"
     ]
    }
   ],
   "source": [
    "import hardy\n",
    "import os"
   ]
  },
  {
   "cell_type": "markdown",
   "metadata": {},
   "source": [
    "## 3. Preparing the new data set to be fed into trained model"
   ]
  },
  {
   "cell_type": "markdown",
   "metadata": {},
   "source": [
    "### Applying transformations to the data"
   ]
  },
  {
   "cell_type": "markdown",
   "metadata": {},
   "source": [
    "- Defining the location for transformation configuration"
   ]
  },
  {
   "cell_type": "code",
   "execution_count": 3,
   "metadata": {},
   "outputs": [],
   "source": [
    "transformation_config_path = './scattering_tform_config.yaml'"
   ]
  },
  {
   "cell_type": "markdown",
   "metadata": {},
   "source": [
    "- Collecting the filenames of new data set having only .csv file extension"
   ]
  },
  {
   "cell_type": "code",
   "execution_count": 4,
   "metadata": {},
   "outputs": [],
   "source": [
    "new_data_file_list = [item for item in os.listdir('./new_data_set/') if item.endswith('.csv')]"
   ]
  },
  {
   "cell_type": "markdown",
   "metadata": {},
   "source": [
    "- Loading transformation information from the configuration file"
   ]
  },
  {
   "cell_type": "code",
   "execution_count": 5,
   "metadata": {},
   "outputs": [
    {
     "name": "stdout",
     "output_type": "stream",
     "text": [
      "Successfully Loaded 1 Transforms to Try!\n"
     ]
    }
   ],
   "source": [
    "tform_command_list, tform_command_dict = hardy.arbitrage.import_tform_config(transformation_config_path)"
   ]
  },
  {
   "cell_type": "markdown",
   "metadata": {},
   "source": [
    "- Defining variables for transforming images\n"
   ]
  },
  {
   "cell_type": "code",
   "execution_count": 8,
   "metadata": {},
   "outputs": [],
   "source": [
    "run_name = 'log_q_der_I'\n",
    "new_datapath = './new_data_set/'\n",
    "classes = ['sphere', 'cylinder', 'core-shell', 'ellipsoid']\n",
    "project_name = 'new_data_set'\n",
    "scale = 0.2\n",
    "target_size = (100, 100)"
   ]
  },
  {
   "cell_type": "markdown",
   "metadata": {},
   "source": [
    "<i>Please note that the order of <code>classes</code> must be same as used for training of Machine Learning model. Moreover, the <code>scale</code> and <code>target_size</code> must also be the same as used for training.</i>"
   ]
  },
  {
   "cell_type": "markdown",
   "metadata": {},
   "source": [
    "- Using data wrapper function to generate the rgb images"
   ]
  },
  {
   "cell_type": "code",
   "execution_count": 9,
   "metadata": {},
   "outputs": [
    {
     "name": "stdout",
     "output_type": "stream",
     "text": [
      "Loaded\t44 of 44\tFiles\t at rate of 370 Files per Second\n",
      "\t Success!\t About 0.0 Minutes...\n",
      "Making rgb Images from Data...\tSuccess in 2.12seconds!\n",
      "That Took 2.29 Sec !\n"
     ]
    },
    {
     "data": {
      "text/plain": [
       "0"
      ]
     },
     "execution_count": 9,
     "metadata": {},
     "output_type": "execute_result"
    }
   ],
   "source": [
    "hardy.data_wrapper(run_name=run_name, raw_datapath=new_datapath, tform_command_dict=tform_command_dict,\n",
    "                   classes='d', scale=0.2)"
   ]
  },
  {
   "cell_type": "markdown",
   "metadata": {},
   "source": [
    "<i>Please note that the value for <code>classes</code> used in <code>data_wrapper</code> module is a string rather than classes. This is being done to use same module for different functionalites i-e for training and predictions. Since, the new data set doesn't have the labels, the class <code>'d'</code> is used as assumed class</i>"
   ]
  },
  {
   "cell_type": "markdown",
   "metadata": {},
   "source": [
    "- The <code>data_rapper</code> will apply the numerical and visual transformations and pickle the data into the <code>new_datapath</code> folder"
   ]
  },
  {
   "cell_type": "markdown",
   "metadata": {},
   "source": [
    "- To load the transformed data, following code is used:"
   ]
  },
  {
   "cell_type": "code",
   "execution_count": 10,
   "metadata": {},
   "outputs": [],
   "source": [
    "transformed_data = hardy.handling.pickled_data_loader(new_datapath, run_name)"
   ]
  },
  {
   "cell_type": "markdown",
   "metadata": {},
   "source": [
    "- The data now needs to be converted into iterator acceptable to tensorflow. This can be done by"
   ]
  },
  {
   "cell_type": "code",
   "execution_count": 11,
   "metadata": {},
   "outputs": [
    {
     "name": "stdout",
     "output_type": "stream",
     "text": [
      "The number of unique labels was found to be 1, expected 4\n"
     ]
    }
   ],
   "source": [
    "new_data_set = hardy.to_catalogue.test_set(image_list=transformed_data, target_size=target_size,\n",
    "                                           classes=classes, color_mode='rgb',\n",
    "                                           iterator_mode='arrays', batch_size=len(new_data_file_list),\n",
    "                                           training=False)"
   ]
  },
  {
   "cell_type": "markdown",
   "metadata": {},
   "source": [
    "<i>The argument for <code>training</code> is kept false, to avoid tagging classes in data set. During training, it is kept as true so that model can seek validation of predicted outcomes"
   ]
  },
  {
   "cell_type": "markdown",
   "metadata": {},
   "source": [
    "The data is now ready to be used for predictions"
   ]
  },
  {
   "cell_type": "markdown",
   "metadata": {},
   "source": [
    "## 4. Making predictions"
   ]
  },
  {
   "cell_type": "markdown",
   "metadata": {},
   "source": [
    "- Loading the model"
   ]
  },
  {
   "cell_type": "code",
   "execution_count": 12,
   "metadata": {},
   "outputs": [],
   "source": [
    "trained_model = hardy.cnn.save_load_model('./best_model.h5', load=True)"
   ]
  },
  {
   "cell_type": "markdown",
   "metadata": {},
   "source": [
    "* Making predictions"
   ]
  },
  {
   "cell_type": "code",
   "execution_count": 13,
   "metadata": {},
   "outputs": [
    {
     "data": {
      "text/html": [
       "<div>\n",
       "<style scoped>\n",
       "    .dataframe tbody tr th:only-of-type {\n",
       "        vertical-align: middle;\n",
       "    }\n",
       "\n",
       "    .dataframe tbody tr th {\n",
       "        vertical-align: top;\n",
       "    }\n",
       "\n",
       "    .dataframe thead th {\n",
       "        text-align: right;\n",
       "    }\n",
       "</style>\n",
       "<table border=\"1\" class=\"dataframe\">\n",
       "  <thead>\n",
       "    <tr style=\"text-align: right;\">\n",
       "      <th></th>\n",
       "      <th>Filenames</th>\n",
       "      <th>Predicted_Labels</th>\n",
       "      <th>Probabilities</th>\n",
       "    </tr>\n",
       "  </thead>\n",
       "  <tbody>\n",
       "    <tr>\n",
       "      <th>0</th>\n",
       "      <td>12ab</td>\n",
       "      <td>cylinder</td>\n",
       "      <td>[0.164, 0.745, 0.019, 0.072]</td>\n",
       "    </tr>\n",
       "    <tr>\n",
       "      <th>1</th>\n",
       "      <td>36ab</td>\n",
       "      <td>cylinder</td>\n",
       "      <td>[0.146, 0.738, 0.019, 0.097]</td>\n",
       "    </tr>\n",
       "    <tr>\n",
       "      <th>2</th>\n",
       "      <td>28ab</td>\n",
       "      <td>core-shell</td>\n",
       "      <td>[0.687, 0.086, 0.06, 0.167]</td>\n",
       "    </tr>\n",
       "    <tr>\n",
       "      <th>3</th>\n",
       "      <td>24ab</td>\n",
       "      <td>cylinder</td>\n",
       "      <td>[0.096, 0.809, 0.001, 0.094]</td>\n",
       "    </tr>\n",
       "    <tr>\n",
       "      <th>4</th>\n",
       "      <td>7ab</td>\n",
       "      <td>cylinder</td>\n",
       "      <td>[0.272, 0.597, 0.032, 0.099]</td>\n",
       "    </tr>\n",
       "    <tr>\n",
       "      <th>5</th>\n",
       "      <td>5ab</td>\n",
       "      <td>cylinder</td>\n",
       "      <td>[0.163, 0.77, 0.001, 0.066]</td>\n",
       "    </tr>\n",
       "    <tr>\n",
       "      <th>6</th>\n",
       "      <td>9ab</td>\n",
       "      <td>core-shell</td>\n",
       "      <td>[0.816, 0.023, 0.056, 0.106]</td>\n",
       "    </tr>\n",
       "    <tr>\n",
       "      <th>7</th>\n",
       "      <td>10ab</td>\n",
       "      <td>cylinder</td>\n",
       "      <td>[0.15, 0.794, 0.0, 0.056]</td>\n",
       "    </tr>\n",
       "    <tr>\n",
       "      <th>8</th>\n",
       "      <td>38ab</td>\n",
       "      <td>cylinder</td>\n",
       "      <td>[0.388, 0.477, 0.049, 0.086]</td>\n",
       "    </tr>\n",
       "    <tr>\n",
       "      <th>9</th>\n",
       "      <td>26ab</td>\n",
       "      <td>cylinder</td>\n",
       "      <td>[0.204, 0.666, 0.021, 0.109]</td>\n",
       "    </tr>\n",
       "    <tr>\n",
       "      <th>10</th>\n",
       "      <td>34ab</td>\n",
       "      <td>core-shell</td>\n",
       "      <td>[0.82, 0.035, 0.026, 0.119]</td>\n",
       "    </tr>\n",
       "    <tr>\n",
       "      <th>11</th>\n",
       "      <td>1ab</td>\n",
       "      <td>core-shell</td>\n",
       "      <td>[0.646, 0.226, 0.021, 0.107]</td>\n",
       "    </tr>\n",
       "    <tr>\n",
       "      <th>12</th>\n",
       "      <td>30ab</td>\n",
       "      <td>cylinder</td>\n",
       "      <td>[0.114, 0.677, 0.033, 0.176]</td>\n",
       "    </tr>\n",
       "    <tr>\n",
       "      <th>13</th>\n",
       "      <td>41ab</td>\n",
       "      <td>cylinder</td>\n",
       "      <td>[0.18, 0.54, 0.084, 0.195]</td>\n",
       "    </tr>\n",
       "    <tr>\n",
       "      <th>14</th>\n",
       "      <td>22ab</td>\n",
       "      <td>core-shell</td>\n",
       "      <td>[0.802, 0.107, 0.069, 0.023]</td>\n",
       "    </tr>\n",
       "    <tr>\n",
       "      <th>15</th>\n",
       "      <td>14ab</td>\n",
       "      <td>cylinder</td>\n",
       "      <td>[0.192, 0.493, 0.102, 0.213]</td>\n",
       "    </tr>\n",
       "    <tr>\n",
       "      <th>16</th>\n",
       "      <td>18ab</td>\n",
       "      <td>cylinder</td>\n",
       "      <td>[0.132, 0.686, 0.029, 0.153]</td>\n",
       "    </tr>\n",
       "    <tr>\n",
       "      <th>17</th>\n",
       "      <td>20ab</td>\n",
       "      <td>cylinder</td>\n",
       "      <td>[0.171, 0.703, 0.021, 0.104]</td>\n",
       "    </tr>\n",
       "    <tr>\n",
       "      <th>18</th>\n",
       "      <td>43ab</td>\n",
       "      <td>cylinder</td>\n",
       "      <td>[0.354, 0.545, 0.015, 0.086]</td>\n",
       "    </tr>\n",
       "    <tr>\n",
       "      <th>19</th>\n",
       "      <td>32ab</td>\n",
       "      <td>core-shell</td>\n",
       "      <td>[0.725, 0.175, 0.056, 0.044]</td>\n",
       "    </tr>\n",
       "    <tr>\n",
       "      <th>20</th>\n",
       "      <td>16ab</td>\n",
       "      <td>cylinder</td>\n",
       "      <td>[0.126, 0.693, 0.041, 0.14]</td>\n",
       "    </tr>\n",
       "    <tr>\n",
       "      <th>21</th>\n",
       "      <td>3ab</td>\n",
       "      <td>cylinder</td>\n",
       "      <td>[0.16, 0.567, 0.061, 0.212]</td>\n",
       "    </tr>\n",
       "    <tr>\n",
       "      <th>22</th>\n",
       "      <td>6ab</td>\n",
       "      <td>cylinder</td>\n",
       "      <td>[0.157, 0.759, 0.001, 0.084]</td>\n",
       "    </tr>\n",
       "    <tr>\n",
       "      <th>23</th>\n",
       "      <td>29ab</td>\n",
       "      <td>cylinder</td>\n",
       "      <td>[0.072, 0.831, 0.001, 0.097]</td>\n",
       "    </tr>\n",
       "    <tr>\n",
       "      <th>24</th>\n",
       "      <td>37ab</td>\n",
       "      <td>cylinder</td>\n",
       "      <td>[0.141, 0.669, 0.038, 0.152]</td>\n",
       "    </tr>\n",
       "    <tr>\n",
       "      <th>25</th>\n",
       "      <td>25ab</td>\n",
       "      <td>cylinder</td>\n",
       "      <td>[0.315, 0.57, 0.032, 0.083]</td>\n",
       "    </tr>\n",
       "    <tr>\n",
       "      <th>26</th>\n",
       "      <td>13ab</td>\n",
       "      <td>cylinder</td>\n",
       "      <td>[0.026, 0.862, 0.001, 0.111]</td>\n",
       "    </tr>\n",
       "    <tr>\n",
       "      <th>27</th>\n",
       "      <td>27ab</td>\n",
       "      <td>core-shell</td>\n",
       "      <td>[0.832, 0.111, 0.032, 0.024]</td>\n",
       "    </tr>\n",
       "    <tr>\n",
       "      <th>28</th>\n",
       "      <td>39ab</td>\n",
       "      <td>core-shell</td>\n",
       "      <td>[0.696, 0.056, 0.055, 0.193]</td>\n",
       "    </tr>\n",
       "    <tr>\n",
       "      <th>29</th>\n",
       "      <td>35ab</td>\n",
       "      <td>cylinder</td>\n",
       "      <td>[0.453, 0.51, 0.011, 0.026]</td>\n",
       "    </tr>\n",
       "    <tr>\n",
       "      <th>30</th>\n",
       "      <td>11ab</td>\n",
       "      <td>core-shell</td>\n",
       "      <td>[0.805, 0.118, 0.048, 0.029]</td>\n",
       "    </tr>\n",
       "    <tr>\n",
       "      <th>31</th>\n",
       "      <td>4ab</td>\n",
       "      <td>core-shell</td>\n",
       "      <td>[0.782, 0.044, 0.038, 0.136]</td>\n",
       "    </tr>\n",
       "    <tr>\n",
       "      <th>32</th>\n",
       "      <td>8ab</td>\n",
       "      <td>core-shell</td>\n",
       "      <td>[0.458, 0.431, 0.021, 0.09]</td>\n",
       "    </tr>\n",
       "    <tr>\n",
       "      <th>33</th>\n",
       "      <td>15ab</td>\n",
       "      <td>core-shell</td>\n",
       "      <td>[0.82, 0.03, 0.122, 0.028]</td>\n",
       "    </tr>\n",
       "    <tr>\n",
       "      <th>34</th>\n",
       "      <td>19ab</td>\n",
       "      <td>core-shell</td>\n",
       "      <td>[0.712, 0.156, 0.088, 0.044]</td>\n",
       "    </tr>\n",
       "    <tr>\n",
       "      <th>35</th>\n",
       "      <td>31ab</td>\n",
       "      <td>cylinder</td>\n",
       "      <td>[0.392, 0.494, 0.031, 0.084]</td>\n",
       "    </tr>\n",
       "    <tr>\n",
       "      <th>36</th>\n",
       "      <td>23ab</td>\n",
       "      <td>cylinder</td>\n",
       "      <td>[0.158, 0.794, 0.0, 0.047]</td>\n",
       "    </tr>\n",
       "    <tr>\n",
       "      <th>37</th>\n",
       "      <td>40ab</td>\n",
       "      <td>cylinder</td>\n",
       "      <td>[0.137, 0.701, 0.027, 0.135]</td>\n",
       "    </tr>\n",
       "    <tr>\n",
       "      <th>38</th>\n",
       "      <td>0ab</td>\n",
       "      <td>cylinder</td>\n",
       "      <td>[0.19, 0.557, 0.056, 0.197]</td>\n",
       "    </tr>\n",
       "    <tr>\n",
       "      <th>39</th>\n",
       "      <td>2ab</td>\n",
       "      <td>cylinder</td>\n",
       "      <td>[0.182, 0.507, 0.062, 0.248]</td>\n",
       "    </tr>\n",
       "    <tr>\n",
       "      <th>40</th>\n",
       "      <td>17ab</td>\n",
       "      <td>cylinder</td>\n",
       "      <td>[0.168, 0.54, 0.069, 0.223]</td>\n",
       "    </tr>\n",
       "    <tr>\n",
       "      <th>41</th>\n",
       "      <td>42ab</td>\n",
       "      <td>cylinder</td>\n",
       "      <td>[0.164, 0.792, 0.0, 0.044]</td>\n",
       "    </tr>\n",
       "    <tr>\n",
       "      <th>42</th>\n",
       "      <td>21ab</td>\n",
       "      <td>core-shell</td>\n",
       "      <td>[0.819, 0.097, 0.064, 0.02]</td>\n",
       "    </tr>\n",
       "    <tr>\n",
       "      <th>43</th>\n",
       "      <td>33ab</td>\n",
       "      <td>ellipsoid</td>\n",
       "      <td>[0.111, 0.025, 0.68, 0.183]</td>\n",
       "    </tr>\n",
       "  </tbody>\n",
       "</table>\n",
       "</div>"
      ],
      "text/plain": [
       "   Filenames Predicted_Labels                 Probabilities\n",
       "0       12ab         cylinder  [0.164, 0.745, 0.019, 0.072]\n",
       "1       36ab         cylinder  [0.146, 0.738, 0.019, 0.097]\n",
       "2       28ab       core-shell   [0.687, 0.086, 0.06, 0.167]\n",
       "3       24ab         cylinder  [0.096, 0.809, 0.001, 0.094]\n",
       "4        7ab         cylinder  [0.272, 0.597, 0.032, 0.099]\n",
       "5        5ab         cylinder   [0.163, 0.77, 0.001, 0.066]\n",
       "6        9ab       core-shell  [0.816, 0.023, 0.056, 0.106]\n",
       "7       10ab         cylinder     [0.15, 0.794, 0.0, 0.056]\n",
       "8       38ab         cylinder  [0.388, 0.477, 0.049, 0.086]\n",
       "9       26ab         cylinder  [0.204, 0.666, 0.021, 0.109]\n",
       "10      34ab       core-shell   [0.82, 0.035, 0.026, 0.119]\n",
       "11       1ab       core-shell  [0.646, 0.226, 0.021, 0.107]\n",
       "12      30ab         cylinder  [0.114, 0.677, 0.033, 0.176]\n",
       "13      41ab         cylinder    [0.18, 0.54, 0.084, 0.195]\n",
       "14      22ab       core-shell  [0.802, 0.107, 0.069, 0.023]\n",
       "15      14ab         cylinder  [0.192, 0.493, 0.102, 0.213]\n",
       "16      18ab         cylinder  [0.132, 0.686, 0.029, 0.153]\n",
       "17      20ab         cylinder  [0.171, 0.703, 0.021, 0.104]\n",
       "18      43ab         cylinder  [0.354, 0.545, 0.015, 0.086]\n",
       "19      32ab       core-shell  [0.725, 0.175, 0.056, 0.044]\n",
       "20      16ab         cylinder   [0.126, 0.693, 0.041, 0.14]\n",
       "21       3ab         cylinder   [0.16, 0.567, 0.061, 0.212]\n",
       "22       6ab         cylinder  [0.157, 0.759, 0.001, 0.084]\n",
       "23      29ab         cylinder  [0.072, 0.831, 0.001, 0.097]\n",
       "24      37ab         cylinder  [0.141, 0.669, 0.038, 0.152]\n",
       "25      25ab         cylinder   [0.315, 0.57, 0.032, 0.083]\n",
       "26      13ab         cylinder  [0.026, 0.862, 0.001, 0.111]\n",
       "27      27ab       core-shell  [0.832, 0.111, 0.032, 0.024]\n",
       "28      39ab       core-shell  [0.696, 0.056, 0.055, 0.193]\n",
       "29      35ab         cylinder   [0.453, 0.51, 0.011, 0.026]\n",
       "30      11ab       core-shell  [0.805, 0.118, 0.048, 0.029]\n",
       "31       4ab       core-shell  [0.782, 0.044, 0.038, 0.136]\n",
       "32       8ab       core-shell   [0.458, 0.431, 0.021, 0.09]\n",
       "33      15ab       core-shell    [0.82, 0.03, 0.122, 0.028]\n",
       "34      19ab       core-shell  [0.712, 0.156, 0.088, 0.044]\n",
       "35      31ab         cylinder  [0.392, 0.494, 0.031, 0.084]\n",
       "36      23ab         cylinder    [0.158, 0.794, 0.0, 0.047]\n",
       "37      40ab         cylinder  [0.137, 0.701, 0.027, 0.135]\n",
       "38       0ab         cylinder   [0.19, 0.557, 0.056, 0.197]\n",
       "39       2ab         cylinder  [0.182, 0.507, 0.062, 0.248]\n",
       "40      17ab         cylinder   [0.168, 0.54, 0.069, 0.223]\n",
       "41      42ab         cylinder    [0.164, 0.792, 0.0, 0.044]\n",
       "42      21ab       core-shell   [0.819, 0.097, 0.064, 0.02]\n",
       "43      33ab        ellipsoid   [0.111, 0.025, 0.68, 0.183]"
      ]
     },
     "execution_count": 13,
     "metadata": {},
     "output_type": "execute_result"
    }
   ],
   "source": [
    "hardy.reporting.model_predictions(trained_model, new_data_set, classes, transformed_data)"
   ]
  },
  {
   "cell_type": "markdown",
   "metadata": {},
   "source": [
    "This will generate a pandas dataframe outlining the file names, their predicted labels, and probabilities of predictions for each class. It is shown in image below:"
   ]
  },
  {
   "cell_type": "markdown",
   "metadata": {},
   "source": [
    "<img src=\"../images/scattering_results_new_data.png\" width=310 align=\"center\" />"
   ]
  },
  {
   "cell_type": "markdown",
   "metadata": {},
   "source": [
    "____"
   ]
  }
 ],
 "metadata": {
  "kernelspec": {
   "display_name": "Python 3",
   "language": "python",
   "name": "python3"
  },
  "language_info": {
   "codemirror_mode": {
    "name": "ipython",
    "version": 3
   },
   "file_extension": ".py",
   "mimetype": "text/x-python",
   "name": "python",
   "nbconvert_exporter": "python",
   "pygments_lexer": "ipython3",
   "version": "3.7.7"
  }
 },
 "nbformat": 4,
 "nbformat_minor": 4
}
