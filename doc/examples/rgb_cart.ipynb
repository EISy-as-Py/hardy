{
 "cells": [
  {
   "cell_type": "markdown",
   "metadata": {},
   "source": [
    "# RGB vs. Cartesian Coordinate Representation"
   ]
  },
  {
   "cell_type": "markdown",
   "metadata": {},
   "source": [
    "To compare the performance of Hyperparameter tuning on the type of representation, `HARDy` provides easy access to use to control the representation of transformed data in the Convolutional Neural Network (CNN)"
   ]
  },
  {
   "cell_type": "markdown",
   "metadata": {},
   "source": [
    "The two representations after numerical transformations are shown in the image below:\n",
    "<img src=\"../images/rgb_cart.png\"/>"
   ]
  },
  {
   "cell_type": "markdown",
   "metadata": {},
   "source": [
    "The representation can be controlled through `plot_format` argument in the `hardy_main`"
   ]
  },
  {
   "cell_type": "markdown",
   "metadata": {},
   "source": [
    "## Using RGB Representation"
   ]
  },
  {
   "cell_type": "markdown",
   "metadata": {},
   "source": [
    "Following code will execute `HARDy` using RGB representation"
   ]
  },
  {
   "cell_type": "markdown",
   "metadata": {},
   "source": [
    "~~~\n",
    "run.hardy_main(raw_data_path, tform_config_path, classifier_config_path, batch_size=64,\n",
    "scale=0.2, num_test_files_class=750, target_size=(100, 100), iterator_mode='arrays',\n",
    "classifier='tuner', n_threads=1, classes=['class_1', 'class_2', 'class_3'], plot_format='RGBrgb`\n",
    "project_name='my_project_name')\n",
    "~~~"
   ]
  },
  {
   "cell_type": "markdown",
   "metadata": {},
   "source": [
    "if the `plot_format='RGBrgb'`, the RGB images will be fed into the neural network"
   ]
  },
  {
   "cell_type": "markdown",
   "metadata": {},
   "source": [
    "## Using Cartesian Representation"
   ]
  },
  {
   "cell_type": "markdown",
   "metadata": {},
   "source": [
    "Any other string value other than `RGBrgb` will prompt the `HARDy` to use cartesian representation. The example code will then be:"
   ]
  },
  {
   "cell_type": "markdown",
   "metadata": {},
   "source": [
    "~~~\n",
    "run.hardy_main(raw_data_path, tform_config_path, classifier_config_path, batch_size=64,\n",
    "scale=0.2, num_test_files_class=750, target_size=(100, 100), iterator_mode='arrays',\n",
    "classifier='tuner', n_threads=1, classes=['class_1', 'class_2', 'class_3'], plot_format='cart`\n",
    "project_name='my_project_name')\n",
    "~~~"
   ]
  },
  {
   "cell_type": "markdown",
   "metadata": {},
   "source": [
    "*By default, the plot_format is kept as `RGBrgb`*"
   ]
  },
  {
   "cell_type": "markdown",
   "metadata": {},
   "source": [
    "___"
   ]
  }
 ],
 "metadata": {
  "kernelspec": {
   "display_name": "Python 3",
   "language": "python",
   "name": "python3"
  },
  "language_info": {
   "codemirror_mode": {
    "name": "ipython",
    "version": 3
   },
   "file_extension": ".py",
   "mimetype": "text/x-python",
   "name": "python",
   "nbconvert_exporter": "python",
   "pygments_lexer": "ipython3",
   "version": "3.7.7"
  }
 },
 "nbformat": 4,
 "nbformat_minor": 4
}
