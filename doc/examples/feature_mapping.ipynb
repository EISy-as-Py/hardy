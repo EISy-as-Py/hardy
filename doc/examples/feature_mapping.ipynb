{
 "cells": [
  {
   "cell_type": "markdown",
   "id": "cbb6e352",
   "metadata": {},
   "source": [
    "# Feature Mapping"
   ]
  },
  {
   "cell_type": "markdown",
   "id": "bf153338",
   "metadata": {},
   "source": [
    "This notebook guides the user through the feature mapping modules we provide in `HARDy` to evaluate the features through each layers of a trained model"
   ]
  },
  {
   "cell_type": "markdown",
   "id": "9e1c6015",
   "metadata": {},
   "source": [
    "*Please note that the feature mapping is only available on MASTER branch due to unavailabiliy of the continous integration tool. In version 1.1, it will be available through conda install*"
   ]
  },
  {
   "cell_type": "code",
   "execution_count": 2,
   "id": "8be979d1",
   "metadata": {},
   "outputs": [
    {
     "name": "stderr",
     "output_type": "stream",
     "text": [
      "Using TensorFlow backend.\n"
     ]
    }
   ],
   "source": [
    "import hardy\n",
    "import os\n",
    "import matplotlib.pyplot as plt\n",
    "import numpy as np"
   ]
  },
  {
   "cell_type": "markdown",
   "id": "3075c86e",
   "metadata": {},
   "source": [
    "## Step 1: Importing saved trained model"
   ]
  },
  {
   "cell_type": "code",
   "execution_count": 3,
   "id": "3442e833",
   "metadata": {
    "collapsed": true
   },
   "outputs": [
    {
     "name": "stderr",
     "output_type": "stream",
     "text": [
      "2021-12-17 11:18:10.735085: I tensorflow/core/platform/cpu_feature_guard.cc:143] Your CPU supports instructions that this TensorFlow binary was not compiled to use: AVX2 FMA\n",
      "2021-12-17 11:18:10.752896: I tensorflow/compiler/xla/service/service.cc:168] XLA service 0x7fde9f65c800 initialized for platform Host (this does not guarantee that XLA will be used). Devices:\n",
      "2021-12-17 11:18:10.752911: I tensorflow/compiler/xla/service/service.cc:176]   StreamExecutor device (0): Host, Default Version\n"
     ]
    }
   ],
   "source": [
    "trained_model = hardy.save_load_model('./best_model.h5', load=True)"
   ]
  },
  {
   "cell_type": "markdown",
   "id": "bf3b4560",
   "metadata": {},
   "source": [
    "## Step 2: Extraction of example data set"
   ]
  },
  {
   "cell_type": "code",
   "execution_count": 4,
   "id": "7c6a180b",
   "metadata": {},
   "outputs": [],
   "source": [
    "!tar -xzf new_data_set.tar.gz"
   ]
  },
  {
   "cell_type": "markdown",
   "id": "0f6ab1f3",
   "metadata": {},
   "source": [
    "## Step 3: Applying transformation on data set"
   ]
  },
  {
   "cell_type": "markdown",
   "id": "26251dd0",
   "metadata": {},
   "source": [
    "* Defining the transformation configuration path. For best results, It should be same transformation on which CNN model has been trained"
   ]
  },
  {
   "cell_type": "code",
   "execution_count": 5,
   "id": "03b7a533",
   "metadata": {},
   "outputs": [],
   "source": [
    "transformation_config_path = './scattering_tform_config.yaml'"
   ]
  },
  {
   "cell_type": "markdown",
   "id": "628b25fd",
   "metadata": {},
   "source": [
    "* Sorting out for `.csv` files only in the extracted example data set"
   ]
  },
  {
   "cell_type": "code",
   "execution_count": 6,
   "id": "074e6224",
   "metadata": {},
   "outputs": [],
   "source": [
    "new_data_file_list = [item for item in os.listdir('./new_data_set/') if item.endswith('.csv')]"
   ]
  },
  {
   "cell_type": "markdown",
   "id": "3a191fe0",
   "metadata": {},
   "source": [
    "* Loading the transformation configuration into the notebook"
   ]
  },
  {
   "cell_type": "code",
   "execution_count": 7,
   "id": "de5ec6f8",
   "metadata": {},
   "outputs": [
    {
     "name": "stdout",
     "output_type": "stream",
     "text": [
      "Successfully Loaded 1 Transforms to Try!\n"
     ]
    }
   ],
   "source": [
    "tform_command_list, tform_command_dict = hardy.arbitrage.import_tform_config(transformation_config_path)"
   ]
  },
  {
   "cell_type": "markdown",
   "id": "405b2aaf",
   "metadata": {},
   "source": [
    "* Defining the parameters required for transformation. The `scale` and `target_size` should be same on which CNN model has been trained"
   ]
  },
  {
   "cell_type": "code",
   "execution_count": 9,
   "id": "342bb4bf",
   "metadata": {},
   "outputs": [],
   "source": [
    "run_name = 'log_q_der_I'\n",
    "new_datapath = './new_data_set/'\n",
    "classes = ['sphere', 'cylinder', 'core-shell', 'ellipsoid']\n",
    "project_name = 'feature_maps'\n",
    "scale = 0.2\n",
    "target_size = (100, 100)"
   ]
  },
  {
   "cell_type": "markdown",
   "id": "606ea264",
   "metadata": {},
   "source": [
    "* Running the transformations"
   ]
  },
  {
   "cell_type": "code",
   "execution_count": 10,
   "id": "6a2fc5b7",
   "metadata": {},
   "outputs": [
    {
     "name": "stdout",
     "output_type": "stream",
     "text": [
      "Loaded\t44 of 44\tFiles\t at rate of 475 Files per Second\n",
      "\t Success!\t About 0.0 Minutes...\n",
      "Making rgb Images from Data...\tSuccess in 1.64seconds!\n",
      "That Took 1.8 Sec !\n"
     ]
    },
    {
     "data": {
      "text/plain": [
       "0"
      ]
     },
     "execution_count": 10,
     "metadata": {},
     "output_type": "execute_result"
    }
   ],
   "source": [
    "hardy.data_wrapper(run_name=run_name, raw_datapath=new_datapath, tform_command_dict=tform_command_dict,\n",
    "                   classes='d', scale=0.2)"
   ]
  },
  {
   "cell_type": "code",
   "execution_count": 11,
   "id": "92709a60",
   "metadata": {},
   "outputs": [],
   "source": [
    "transformed_data = hardy.handling.pickled_data_loader(new_datapath, run_name)"
   ]
  },
  {
   "cell_type": "markdown",
   "id": "fdcdd2d4",
   "metadata": {},
   "source": [
    "* Selecting one image from the data set"
   ]
  },
  {
   "cell_type": "code",
   "execution_count": 12,
   "id": "98f03f36",
   "metadata": {},
   "outputs": [],
   "source": [
    "image_1 = transformed_data[0][1]"
   ]
  },
  {
   "cell_type": "markdown",
   "id": "f739169a",
   "metadata": {},
   "source": [
    "* Plotting the image to see if the RGB transformation has been properly performed"
   ]
  },
  {
   "cell_type": "code",
   "execution_count": 13,
   "id": "717ea69e",
   "metadata": {},
   "outputs": [
    {
     "data": {
      "text/plain": [
       "(-0.5, 99.5, 99.5, -0.5)"
      ]
     },
     "execution_count": 13,
     "metadata": {},
     "output_type": "execute_result"
    },
    {
     "data": {
      "image/png": "[encoded data removed]",
      "text/plain": [
       "<Figure size 432x288 with 1 Axes>"
      ]
     },
     "metadata": {
      "needs_background": "light"
     },
     "output_type": "display_data"
    }
   ],
   "source": [
    "plt.imshow(transformed_data[0][1])\n",
    "plt.axis('off')"
   ]
  },
  {
   "cell_type": "markdown",
   "id": "c23260bd",
   "metadata": {},
   "source": [
    "* Generating the summary of trained model to verify the outputs or CNN structure"
   ]
  },
  {
   "cell_type": "code",
   "execution_count": 14,
   "id": "7aee1888",
   "metadata": {},
   "outputs": [
    {
     "name": "stdout",
     "output_type": "stream",
     "text": [
      "Model: \"model\"\n",
      "_________________________________________________________________\n",
      "Layer (type)                 Output Shape              Param #   \n",
      "=================================================================\n",
      "input_1 (InputLayer)         [(None, 100, 100, 3)]     0         \n",
      "_________________________________________________________________\n",
      "conv2d (Conv2D)              (None, 100, 100, 18)      504       \n",
      "_________________________________________________________________\n",
      "conv2d_1 (Conv2D)            (None, 100, 100, 36)      5868      \n",
      "_________________________________________________________________\n",
      "conv2d_2 (Conv2D)            (None, 100, 100, 54)      17550     \n",
      "_________________________________________________________________\n",
      "conv2d_3 (Conv2D)            (None, 100, 100, 72)      35064     \n",
      "_________________________________________________________________\n",
      "global_max_pooling2d (Global (None, 72)                0         \n",
      "_________________________________________________________________\n",
      "dense (Dense)                (None, 4)                 292       \n",
      "=================================================================\n",
      "Total params: 59,278\n",
      "Trainable params: 59,278\n",
      "Non-trainable params: 0\n",
      "_________________________________________________________________\n"
     ]
    }
   ],
   "source": [
    "trained_model.summary()"
   ]
  },
  {
   "cell_type": "markdown",
   "id": "7f541ac9",
   "metadata": {},
   "source": [
    "## Step 4: Generating Feature Maps"
   ]
  },
  {
   "cell_type": "markdown",
   "id": "62ebb843",
   "metadata": {},
   "source": [
    "The `feature_map` function requires following parameters:\n",
    "* an image array\n",
    "* trained model\n",
    "* Number of classes on which model is trained\n",
    "* layer num from which you want to see the output\n",
    "* save argument to save the feature maps on disk"
   ]
  },
  {
   "cell_type": "markdown",
   "id": "9178470b",
   "metadata": {},
   "source": [
    "### Plotting featuremap for specific layer"
   ]
  },
  {
   "cell_type": "code",
   "execution_count": 16,
   "id": "88c170e0",
   "metadata": {
    "scrolled": true
   },
   "outputs": [
    {
     "name": "stdout",
     "output_type": "stream",
     "text": [
      "The output is from layer 1, conv2d with               shape (None, 100, 100, 18)\n"
     ]
    },
    {
     "data": {
      "image/png": "[encoded data removed]",
      "text/plain": [
       "<Figure size 720x720 with 18 Axes>"
      ]
     },
     "metadata": {
      "needs_background": "light"
     },
     "output_type": "display_data"
    }
   ],
   "source": [
    "featuremap = hardy.feature_map(image_1, trained_model, 4, 100, layer_num=1, save=False)"
   ]
  },
  {
   "cell_type": "markdown",
   "id": "657cab39",
   "metadata": {},
   "source": [
    "### Feature prediction from last layer"
   ]
  },
  {
   "cell_type": "code",
   "execution_count": 17,
   "id": "1690bdf1",
   "metadata": {},
   "outputs": [
    {
     "name": "stdout",
     "output_type": "stream",
     "text": [
      "The output from final layer is [[3.5393469e-02 6.4015883e-05 6.0268473e-03 9.5851564e-01]]\n"
     ]
    }
   ],
   "source": [
    "featuremap = hardy.feature_map(image_1, trained_model, 4, 100, layer_num='last', save=False)"
   ]
  },
  {
   "cell_type": "markdown",
   "id": "c9bc8e88",
   "metadata": {},
   "source": [
    "Please note that the `layer_num` is changed from integer value to string value of `last` to get the output from final layer"
   ]
  },
  {
   "cell_type": "markdown",
   "id": "c7797c66",
   "metadata": {},
   "source": [
    "### Plotting feature maps from all Convolutional Layers"
   ]
  },
  {
   "cell_type": "code",
   "execution_count": 18,
   "id": "55e20136",
   "metadata": {
    "scrolled": false
   },
   "outputs": [
    {
     "name": "stdout",
     "output_type": "stream",
     "text": [
      "The output is from layer 0, input_1 with               shape (None, 100, 100, 3)\n",
      "The output is from layer 1, conv2d with               shape (None, 100, 100, 18)\n",
      "The output is from layer 2, conv2d_1 with               shape (None, 100, 100, 36)\n",
      "The output is from layer 3, conv2d_2 with               shape (None, 100, 100, 54)\n",
      "The output is from layer 4, conv2d_3 with               shape (None, 100, 100, 72)\n"
     ]
    },
    {
     "data": {
      "image/png": "[encoded data removed]",
      "text/plain": [
       "<Figure size 720x720 with 3 Axes>"
      ]
     },
     "metadata": {
      "needs_background": "light"
     },
     "output_type": "display_data"
    },
    {
     "data": {
      "image/png": "[encoded data removed]",
      "text/plain": [
       "<Figure size 720x720 with 18 Axes>"
      ]
     },
     "metadata": {
      "needs_background": "light"
     },
     "output_type": "display_data"
    },
    {
     "data": {
      "image/png": "[encoded data removed]",
      "text/plain": [
       "<Figure size 720x720 with 36 Axes>"
      ]
     },
     "metadata": {
      "needs_background": "light"
     },
     "output_type": "display_data"
    },
    {
     "data": {
      "image/png": "[encoded data removed]",
      "text/plain": [
       "<Figure size 720x720 with 54 Axes>"
      ]
     },
     "metadata": {
      "needs_background": "light"
     },
     "output_type": "display_data"
    },
    {
     "data": {
      "image/png": "[encoded data removed]",
      "text/plain": [
       "<Figure size 720x720 with 72 Axes>"
      ]
     },
     "metadata": {
      "needs_background": "light"
     },
     "output_type": "display_data"
    }
   ],
   "source": [
    "featuremap = hardy.feature_map(image_1, trained_model, 4, 100, save=False)"
   ]
  },
  {
   "cell_type": "markdown",
   "id": "20d772ac",
   "metadata": {},
   "source": [
    "Please note that the `layer_num` argument hasn't been used. By default, its value is `None`"
   ]
  },
  {
   "cell_type": "markdown",
   "id": "79cc39fc",
   "metadata": {},
   "source": [
    "___"
   ]
  }
 ],
 "metadata": {
  "kernelspec": {
   "display_name": "Python 3 (ipykernel)",
   "language": "python",
   "name": "python3"
  },
  "language_info": {
   "codemirror_mode": {
    "name": "ipython",
    "version": 3
   },
   "file_extension": ".py",
   "mimetype": "text/x-python",
   "name": "python",
   "nbconvert_exporter": "python",
   "pygments_lexer": "ipython3",
   "version": "3.7.12"
  }
 },
 "nbformat": 4,
 "nbformat_minor": 5
}
