{
 "cells": [
  {
   "cell_type": "markdown",
   "metadata": {},
   "source": [
    "# K-Fold cross-validation using HARDy"
   ]
  },
  {
   "cell_type": "markdown",
   "metadata": {},
   "source": [
    "For cross-validation of a Convolutional Neural Network (CNN), `HARDy` provides user-defined arguments to perform k-fold cross validation. The scheme of data-splitting for k-fold validation is shown in the image below:"
   ]
  },
  {
   "cell_type": "markdown",
   "metadata": {},
   "source": [
    "<img src=\"../images/kfoldvalidation.gif\" />"
   ]
  },
  {
   "cell_type": "markdown",
   "metadata": {},
   "source": [
    "For each fold, the data is splitted differently. The red-box shows changing validation set with each k-fold iteration. This enables the model to train on virtually different dataset thus enabling the user to evaluate the model objectively."
   ]
  },
  {
   "cell_type": "markdown",
   "metadata": {},
   "source": [
    "To further cross-validate, `HARDy` after providing average accuracy for k-folds, tests the `CNN` on the test set which was never seen by the CNN model."
   ]
  },
  {
   "cell_type": "markdown",
   "metadata": {},
   "source": [
    "~~~\n",
    "The k-fold cross-validation is available for running on `CNN` only\n",
    "~~~"
   ]
  },
  {
   "cell_type": "markdown",
   "metadata": {},
   "source": [
    "To utilize k-fold cross-validation in `HARDy`, following steps are required"
   ]
  },
  {
   "cell_type": "markdown",
   "metadata": {},
   "source": [
    "## Step 1: Defining the path variables"
   ]
  },
  {
   "cell_type": "markdown",
   "metadata": {},
   "source": [
    "Defining the `.csv` files datapath"
   ]
  },
  {
   "cell_type": "markdown",
   "metadata": {},
   "source": [
    "~~~\n",
    "raw_data_path = 'path/to/raw/data/'\n",
    "~~~"
   ]
  },
  {
   "cell_type": "markdown",
   "metadata": {},
   "source": [
    "Defining the CNN configuration path. This configuration will be validated using k-folds"
   ]
  },
  {
   "cell_type": "markdown",
   "metadata": {},
   "source": [
    "~~~\n",
    "classifier_config_path = './configuration/forCNN/'\n",
    "~~~"
   ]
  },
  {
   "cell_type": "markdown",
   "metadata": {},
   "source": [
    "Defining the transformation configuration path"
   ]
  },
  {
   "cell_type": "markdown",
   "metadata": {},
   "source": [
    "~~~\n",
    "tform_config_path = './configuration/forTransformation/tform_config.yaml'\n",
    "~~~"
   ]
  },
  {
   "cell_type": "markdown",
   "metadata": {},
   "source": [
    "## Step 2: Defining attributes for transformations"
   ]
  },
  {
   "cell_type": "markdown",
   "metadata": {},
   "source": [
    "~~~\n",
    "scale = 0.2\n",
    "target_size = (100, 100)\n",
    "iterator_mode = 'arrays'\n",
    "classes = ['class1', 'class1, 'class3']\n",
    "n_threads = 1\n",
    "~~~"
   ]
  },
  {
   "cell_type": "markdown",
   "metadata": {},
   "source": [
    "The details on setting these parameters are available on the `Getting Started` webpage"
   ]
  },
  {
   "cell_type": "markdown",
   "metadata": {},
   "source": [
    "## Step 3: Defining attributes for k-fold cross-validation"
   ]
  },
  {
   "cell_type": "markdown",
   "metadata": {},
   "source": [
    "The following parameters are important in using k-fold cross-validation"
   ]
  },
  {
   "cell_type": "markdown",
   "metadata": {},
   "source": [
    "~~~\n",
    "k-fold = True             #indicating to use k-fold\n",
    "k = 5                     #indicating how many folds to use\n",
    "classifier_mode = 'cnn'   #indicating not to use the hyperparameter tuner\n",
    "~~~"
   ]
  },
  {
   "cell_type": "markdown",
   "metadata": {},
   "source": [
    "## Step 4: Running `HARDy`"
   ]
  },
  {
   "cell_type": "markdown",
   "metadata": {},
   "source": [
    "Following script can then be executed to run the k-fold cross-validation"
   ]
  },
  {
   "cell_type": "markdown",
   "metadata": {},
   "source": [
    "~~~\n",
    "run.hardy_main(raw_data_path, tform_config_path, classifier_config_path, batch_size=64,\n",
    "scale=0.2, num_test_files_class=750, target_size=(100, 100), iterator_mode='arrays',\n",
    "classifier='cnn', n_threads=1, classes=['class_1', 'class_2', 'class_3'],\n",
    "k-fold=True, k=5, project_name='my_project_name')\n",
    "~~~"
   ]
  },
  {
   "cell_type": "markdown",
   "metadata": {},
   "source": [
    "This will execute and produce an average accuracy for k-fold cross-validation"
   ]
  },
  {
   "cell_type": "markdown",
   "metadata": {},
   "source": [
    "The run will also produce a report comprising of trained model, model evaluation summary on test set and hyper-parameter space. These reports will be created under `raw_data_path/project_name/transformation_name`"
   ]
  },
  {
   "cell_type": "markdown",
   "metadata": {},
   "source": [
    "___"
   ]
  }
 ],
 "metadata": {
  "kernelspec": {
   "display_name": "Python 3",
   "language": "python",
   "name": "python3"
  },
  "language_info": {
   "codemirror_mode": {
    "name": "ipython",
    "version": 3
   },
   "file_extension": ".py",
   "mimetype": "text/x-python",
   "name": "python",
   "nbconvert_exporter": "python",
   "pygments_lexer": "ipython3",
   "version": "3.7.7"
  }
 },
 "nbformat": 4,
 "nbformat_minor": 4
}
