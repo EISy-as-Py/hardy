{
 "cells": [
  {
   "cell_type": "markdown",
   "metadata": {},
   "source": [
    "# Example script to run the HARDy Package\n",
    "This page shows the description for running the HARDy package using minimal settings"
   ]
  },
  {
   "cell_type": "markdown",
   "metadata": {},
   "source": [
    "## Import the package"
   ]
  },
  {
   "cell_type": "markdown",
   "metadata": {},
   "source": [
    "``import hardy.run_hardy as run``"
   ]
  },
  {
   "cell_type": "markdown",
   "metadata": {},
   "source": [
    "## Provide the path to the configurations:\n",
    "\n",
    "_Note: the configuration path shown are the default path. These can be modified if the configuration files used are stored ina  different folder_"
   ]
  },
  {
   "cell_type": "markdown",
   "metadata": {},
   "source": [
    "* The raw .csv data\n",
    "\n",
    "``raw_data_path = 'path/to/raw/data/'``\n",
    "\n",
    "\n",
    "* The configuration file containing the transformations\n",
    "\n",
    "\n",
    "``tform_config_path = './hardy/arbitrage/tform_config.yaml'``\n",
    "\n",
    "* The configuration file for the classifier\n",
    "\n",
    "\n",
    "``classifier_config_path = './hardy/recognition/'``\n",
    "\n"
   ]
  },
  {
   "cell_type": "markdown",
   "metadata": {},
   "source": [
    "## Execute the function to run the code"
   ]
  },
  {
   "cell_type": "markdown",
   "metadata": {},
   "source": [
    "``run.hardy_main(raw_data_path, tform_config_path, classifier_config_path, batch_size=64, scale=0.2,\n",
    "    num_test_files_class=750, target_size=(500, 500), iterator_mode='arrays',classifier='tuner', n_threads=1,\n",
    "    classes=['class_1', 'class_2', 'class_3'], project_name='my_project_name')``"
   ]
  },
  {
   "cell_type": "markdown",
   "metadata": {},
   "source": [
    "### Explanations neeed to be added"
   ]
  }
 ],
 "metadata": {
  "kernelspec": {
   "display_name": "Python 3",
   "language": "python",
   "name": "python3"
  },
  "language_info": {
   "codemirror_mode": {
    "name": "ipython",
    "version": 3
   },
   "file_extension": ".py",
   "mimetype": "text/x-python",
   "name": "python",
   "nbconvert_exporter": "python",
   "pygments_lexer": "ipython3",
   "version": "3.7.7"
  }
 },
 "nbformat": 4,
 "nbformat_minor": 4
}
