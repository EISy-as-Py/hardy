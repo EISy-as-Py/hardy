{
 "cells": [
  {
   "cell_type": "markdown",
   "metadata": {},
   "source": [
    "# Example script to run the HARDy Package\n",
    "This page shows the description for running the HARDy package using minimal settings"
   ]
  },
  {
   "cell_type": "markdown",
   "metadata": {},
   "source": [
    "## Import the package"
   ]
  },
  {
   "cell_type": "markdown",
   "metadata": {},
   "source": [
    "``import hardy.run_hardy as run``"
   ]
  },
  {
   "cell_type": "markdown",
   "metadata": {},
   "source": [
    "## Provide the path to the configurations:\n",
    "\n",
    "_Note: the configuration path shown are the default path. These can be modified if the configuration files used are stored ina  different folder_"
   ]
  },
  {
   "cell_type": "markdown",
   "metadata": {},
   "source": [
    "* The raw .csv data\n",
    "\n",
    "``raw_data_path = 'path/to/raw/data/'``\n",
    "\n",
    "\n",
    "* The configuration file containing the transformations\n",
    "\n",
    "\n",
    "``tform_config_path = './hardy/arbitrage/tform_config.yaml'``\n",
    "\n",
    "* The configuration file for the classifier\n",
    "\n",
    "\n",
    "``classifier_config_path = './hardy/recognition/'``\n",
    "\n"
   ]
  },
  {
   "cell_type": "markdown",
   "metadata": {},
   "source": [
    "## Execute the ``hardy_main`` function to run the code"
   ]
  },
  {
   "cell_type": "markdown",
   "metadata": {},
   "source": [
    "~~~\n",
    "run.hardy_main(raw_data_path, tform_config_path, classifier_config_path, batch_size=64, scale=0.2, num_test_files_class=750, target_size=(500, 500), iterator_mode='arrays', classifier='tuner', n_threads=1, classes=['class_1', 'class_2', 'class_3'], project_name='my_project_name')\n",
    "~~~"
   ]
  },
  {
   "cell_type": "markdown",
   "metadata": {},
   "source": [
    "Following arguments are acceptable in the ``hardy_main`` function:\n",
    "\n",
    "- ``raw_data_path``: data_path for the .csv files or images\n",
    "- ``tform_config_path``: path for transformation configuration files (.yaml)\n",
    "- ``classifier_config_path``: path for hyperparameter search (.yaml)\n",
    "- ``batch_size``: batch size for splitting of training and testing of data in machine learning model\n",
    "- ``scale``: the scale to which plots are reduce\n",
    "- ``num_test_files_class``: The number of test files per class. These files would be reserved for final testing of machine learning model\n",
    "- ``target_size``: number of data points in the csv files or dimension of images\n",
    "- ``iterator_mode``: if \"arrays\", the data is fed into machine learning model in array structure. For other values, images files are saved first in .png format and then fed into machine learning model through directory iterators.\n",
    "- ``classifier``: tuner or cnn model. Tuner means hyperparameter search while other options execute pre-defined convolutional neural network.\n",
    "- ``n_thread``: number of threads used for parallel transformation of data\n",
    "- ``classes``: labels or categories in data. If .csv files are used, the label must be present in the filename. If images are used, the images must be contained in respective folders\n",
    "- ``project_name``: name for the project. Folder with same name will be created in the ``raw_data_path`` containing all the results for the run\n",
    "- ``plot_format``: format of the plot to be used for training and testing of data. ``RGBrgb`` corresponds to usage of RGB images while any other argument will use cartesian coordinate system.\n",
    "- ``skiprows``: Used to skip the metadata contained in the csv files. It must be of same length for all classes.\n",
    "- ``split``: The fraction of data used for training and testing of machine learning model. This is different from ``num_test_files_class`` since the later one is never fed into machine learning model until the best hyperparameter search is done.\n",
    "- ``seed``: the seed used for random-selection of ``num_test_files_class``\n",
    "- ``k_fold``: Boolean value indicating whether k-fold validation need to be performed or not\n",
    "- ``k``: value indicating how many k-folds need to be performed"
   ]
  },
  {
   "cell_type": "markdown",
   "metadata": {},
   "source": [
    "___"
   ]
  }
 ],
 "metadata": {
  "kernelspec": {
   "display_name": "Python 3",
   "language": "python",
   "name": "python3"
  },
  "language_info": {
   "codemirror_mode": {
    "name": "ipython",
    "version": 3
   },
   "file_extension": ".py",
   "mimetype": "text/x-python",
   "name": "python",
   "nbconvert_exporter": "python",
   "pygments_lexer": "ipython3",
   "version": "3.7.7"
  }
 },
 "nbformat": 4,
 "nbformat_minor": 4
}
